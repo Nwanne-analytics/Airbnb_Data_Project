{
 "cells": [
  {
   "cell_type": "code",
   "execution_count": 1,
   "id": "6d8c29a9",
   "metadata": {
    "scrolled": false
   },
   "outputs": [
    {
     "data": {
      "text/html": [
       "<div>\n",
       "<style scoped>\n",
       "    .dataframe tbody tr th:only-of-type {\n",
       "        vertical-align: middle;\n",
       "    }\n",
       "\n",
       "    .dataframe tbody tr th {\n",
       "        vertical-align: top;\n",
       "    }\n",
       "\n",
       "    .dataframe thead th {\n",
       "        text-align: right;\n",
       "    }\n",
       "</style>\n",
       "<table border=\"1\" class=\"dataframe\">\n",
       "  <thead>\n",
       "    <tr style=\"text-align: right;\">\n",
       "      <th></th>\n",
       "      <th>host_id</th>\n",
       "      <th>name</th>\n",
       "      <th>description</th>\n",
       "      <th>host_name</th>\n",
       "      <th>host_since</th>\n",
       "      <th>host_location</th>\n",
       "      <th>host_response_time</th>\n",
       "      <th>host_response_rate</th>\n",
       "      <th>host_acceptance_rate</th>\n",
       "      <th>host_is_superhost</th>\n",
       "      <th>...</th>\n",
       "      <th>number_of_reviews</th>\n",
       "      <th>first_review</th>\n",
       "      <th>last_review</th>\n",
       "      <th>review_scores_rating</th>\n",
       "      <th>review_scores_accuracy</th>\n",
       "      <th>review_scores_cleanliness</th>\n",
       "      <th>review_scores_checkin</th>\n",
       "      <th>review_scores_communication</th>\n",
       "      <th>review_scores_location</th>\n",
       "      <th>review_scores_value</th>\n",
       "    </tr>\n",
       "  </thead>\n",
       "  <tbody>\n",
       "    <tr>\n",
       "      <th>0</th>\n",
       "      <td>60302</td>\n",
       "      <td>Bright Chelsea  Apartment. Chelsea!</td>\n",
       "      <td>lots of windows and light  st luke s gardens a...</td>\n",
       "      <td>Philippa</td>\n",
       "      <td>05-12-09</td>\n",
       "      <td>Kensington</td>\n",
       "      <td>within an hour</td>\n",
       "      <td>67%</td>\n",
       "      <td>29%</td>\n",
       "      <td>False</td>\n",
       "      <td>...</td>\n",
       "      <td>89</td>\n",
       "      <td>21-12-09</td>\n",
       "      <td>16-03-20</td>\n",
       "      <td>4.79</td>\n",
       "      <td>4.84</td>\n",
       "      <td>4.88</td>\n",
       "      <td>4.87</td>\n",
       "      <td>4.82</td>\n",
       "      <td>4.93</td>\n",
       "      <td>4.73</td>\n",
       "    </tr>\n",
       "    <tr>\n",
       "      <th>1</th>\n",
       "      <td>554519</td>\n",
       "      <td>JESSIE the narrowboat in Little Venice</td>\n",
       "      <td>jessie the narrowboat is moored in the heart o...</td>\n",
       "      <td>Meg</td>\n",
       "      <td>03-05-11</td>\n",
       "      <td>London</td>\n",
       "      <td>within an hour</td>\n",
       "      <td>100%</td>\n",
       "      <td>100%</td>\n",
       "      <td>True</td>\n",
       "      <td>...</td>\n",
       "      <td>581</td>\n",
       "      <td>04-07-11</td>\n",
       "      <td>02-09-22</td>\n",
       "      <td>4.91</td>\n",
       "      <td>4.94</td>\n",
       "      <td>4.90</td>\n",
       "      <td>4.97</td>\n",
       "      <td>4.96</td>\n",
       "      <td>4.98</td>\n",
       "      <td>4.77</td>\n",
       "    </tr>\n",
       "  </tbody>\n",
       "</table>\n",
       "<p>2 rows × 34 columns</p>\n",
       "</div>"
      ],
      "text/plain": [
       "   host_id                                    name  \\\n",
       "0    60302     Bright Chelsea  Apartment. Chelsea!   \n",
       "1   554519  JESSIE the narrowboat in Little Venice   \n",
       "\n",
       "                                         description host_name host_since  \\\n",
       "0  lots of windows and light  st luke s gardens a...  Philippa   05-12-09   \n",
       "1  jessie the narrowboat is moored in the heart o...       Meg   03-05-11   \n",
       "\n",
       "  host_location host_response_time host_response_rate host_acceptance_rate  \\\n",
       "0    Kensington     within an hour                67%                  29%   \n",
       "1        London     within an hour               100%                 100%   \n",
       "\n",
       "   host_is_superhost  ...  number_of_reviews first_review  last_review  \\\n",
       "0              False  ...                 89     21-12-09     16-03-20   \n",
       "1               True  ...                581     04-07-11     02-09-22   \n",
       "\n",
       "  review_scores_rating review_scores_accuracy  review_scores_cleanliness  \\\n",
       "0                 4.79                   4.84                       4.88   \n",
       "1                 4.91                   4.94                       4.90   \n",
       "\n",
       "  review_scores_checkin  review_scores_communication  review_scores_location  \\\n",
       "0                  4.87                         4.82                    4.93   \n",
       "1                  4.97                         4.96                    4.98   \n",
       "\n",
       "  review_scores_value  \n",
       "0                4.73  \n",
       "1                4.77  \n",
       "\n",
       "[2 rows x 34 columns]"
      ]
     },
     "execution_count": 1,
     "metadata": {},
     "output_type": "execute_result"
    }
   ],
   "source": [
    "import pandas as pd\n",
    "\n",
    "file_path = \"Data/Airbnb_UK_2022.csv\"\n",
    "# would you still want to explore more on the csv file?\n",
    "# load the dataset if yes\n",
    "airbnb_dataset =  pd.read_csv(file_path)\n",
    "airbnb_dataset.head(2)"
   ]
  },
  {
   "cell_type": "code",
   "execution_count": null,
   "id": "3661b9ec",
   "metadata": {},
   "outputs": [],
   "source": [
    "airbnb_dataset.groupby(\"\")"
   ]
  },
  {
   "cell_type": "code",
   "execution_count": null,
   "id": "47b830d5",
   "metadata": {},
   "outputs": [],
   "source": [
    "airbnb_dataset.dtypes"
   ]
  },
  {
   "cell_type": "code",
   "execution_count": null,
   "id": "e9a10aae",
   "metadata": {},
   "outputs": [],
   "source": [
    "airbnb_dataset.host_location.unique().size()"
   ]
  },
  {
   "cell_type": "code",
   "execution_count": null,
   "id": "24cc93bd",
   "metadata": {},
   "outputs": [],
   "source": [
    "airbnb_dataset[\"price\"].dtypes"
   ]
  },
  {
   "cell_type": "code",
   "execution_count": null,
   "id": "33aadb14",
   "metadata": {},
   "outputs": [],
   "source": [
    "airbnb_dataset.columns\n"
   ]
  },
  {
   "cell_type": "code",
   "execution_count": null,
   "id": "012a3953",
   "metadata": {},
   "outputs": [],
   "source": [
    "import airbnb_process\n",
    "airbnb_process.average_review_score(df_airbnb)\n"
   ]
  },
  {
   "cell_type": "code",
   "execution_count": null,
   "id": "f6c62ae6",
   "metadata": {},
   "outputs": [],
   "source": [
    "airbnb_dataset[[\"host_id\",\"price\",\"minimum_nights\",\"maximum_nights\"]]"
   ]
  },
  {
   "cell_type": "code",
   "execution_count": null,
   "id": "ba519152",
   "metadata": {},
   "outputs": [],
   "source": [
    "amenities = airbnb_dataset['amenities'].to_list() #convert to list\n",
    "\n",
    "amenities[6]\n",
    "# type(amenities)"
   ]
  },
  {
   "cell_type": "code",
   "execution_count": null,
   "id": "26369902",
   "metadata": {},
   "outputs": [],
   "source": [
    "# for i in amenities:\n",
    "#     eval(i)\n",
    "\n",
    "amenities = [eval(i) for i in amenities] #the previous function returns the list as a string,hence eval\n",
    "amenities\n"
   ]
  },
  {
   "cell_type": "code",
   "execution_count": null,
   "id": "a340bde6",
   "metadata": {},
   "outputs": [],
   "source": [
    "import numpy as np\n",
    "pd.value_counts(np.array(amenities))"
   ]
  },
  {
   "cell_type": "code",
   "execution_count": null,
   "id": "78135128",
   "metadata": {},
   "outputs": [],
   "source": [
    "# created a big list and appended all the items in the amenities into it.\n",
    "amenities_list = []\n",
    "\n",
    "for i in amenities:\n",
    "    amenities_list.extend(i)\n",
    "    \n",
    "    \n",
    "amenities_list\n",
    "    "
   ]
  },
  {
   "cell_type": "code",
   "execution_count": null,
   "id": "e4a44453",
   "metadata": {},
   "outputs": [],
   "source": [
    "unique_items = set(amenities_list) #checking for unique items\n",
    "unique_items_count = len(unique_items)\n",
    "unique_items_count"
   ]
  },
  {
   "cell_type": "code",
   "execution_count": null,
   "id": "c43925e0",
   "metadata": {},
   "outputs": [],
   "source": [
    "import numpy as np\n",
    "pd.value_counts(np.array(amenities_list))"
   ]
  },
  {
   "cell_type": "code",
   "execution_count": null,
   "id": "9b448910",
   "metadata": {},
   "outputs": [],
   "source": [
    "pd.Series(amenities_list).value_counts()"
   ]
  },
  {
   "cell_type": "code",
   "execution_count": null,
   "id": "b8138111",
   "metadata": {},
   "outputs": [],
   "source": [
    "def top_10_amenities():\n",
    "    amenities = airbnb_dataset['amenities'].to_list()\n",
    "    amenities = [eval(i) for i in amenities] #the previous function returns the list as a string, hence eval\n",
    "\n",
    "    # created a big list and appended all the items in the amenities into it.\n",
    "    amenities_list = []\n",
    "    for i in amenities:\n",
    "        amenities_list.extend(i)\n",
    "\n",
    "    # turn the list into a pandas series and count all items    \n",
    "    count = pd.Series(amenities_list).value_counts().head(10)\n",
    "    \n",
    "    # display nicely to the user\n",
    "    print(\"These are the top 10 amenities provided by the hosts.\\n\")\n",
    "    print(f\"Top 1: Smoke alarm was provided by {count[0]} hosts.\\n\")\n",
    "    print(f\"Top 2: Kitchen was provided by {count[1]} hosts.\\n\")\n",
    "    print(f\"Top 3: Essentials was provided by {count[2]} hosts.\\n\")\n",
    "    print(f\"Top 4: Wifi was provided by {count[3]} hosts.\\n\")\n",
    "    print(f\"Top 5: Iron was provided by {count[4]} hosts.\\n\")\n",
    "    print(f\"Top 6: Hangers was provided by {count[5]} hosts.\\n\")\n",
    "    print(f\"Top 7: Hot water was provided by {count[6]} hosts.\\n\")\n",
    "    print(f\"Top 8: Long term stays allowed was provided by {count[7]} hosts.\\n\")\n",
    "    print(f\"Top 9: Dishes and silverware was provided by {count[8]} hosts.\\n\")\n",
    "    print(f\"Top 10: Hair dryer was provided by {count[9]} hosts.\")\n",
    "\n",
    "top_10_amenities()"
   ]
  },
  {
   "cell_type": "code",
   "execution_count": null,
   "id": "779b8bc2",
   "metadata": {},
   "outputs": [],
   "source": [
    "import matplotlib.pyplot as plt\n",
    "def plot_amenities():\n",
    "    count = pd.Series(amenities_list).value_counts().head(10)\n",
    "    \n",
    "    amenities = [\"Smoke alarm\", \"Kitchen\", \"Essentials\", \"Wifi\", \"Iron\", \"Hangers\", \"Hot water\", \"Long stays\", \"Dishes & silverware\", \"Hair dryer\"]\n",
    "    count = [count[0], count[1], count[2], count[3], count[4], count[5], count[6], count[7], count[8], count[9]]\n",
    "    \n",
    "    fig = plt.figure(figsize=(18,8))\n",
    "\n",
    "    plt.barh(amenities, count, color=\"blue\")\n",
    "\n",
    "    plt.xlabel(\"Amenities\")\n",
    "    plt.ylabel(\"Count\")\n",
    "\n",
    "    plt.title(\"Top Ten Amenities Provided by Hosts\")\n",
    "\n",
    "    plt.show() \n",
    "    \n",
    "plot_amenities()"
   ]
  },
  {
   "cell_type": "code",
   "execution_count": null,
   "id": "4da05efc",
   "metadata": {},
   "outputs": [],
   "source": [
    "def amenities_count(amenities_list):\n",
    "    amenities_listss = []\n",
    "    for i in amenities_list:\n",
    "        i.split()\n",
    "        amenities_listss.append(i)\n",
    "        for word in amenities_listss:\n",
    "            count = amenities_listss.count(word)\n",
    "            return count"
   ]
  },
  {
   "cell_type": "code",
   "execution_count": null,
   "id": "765cfc6e",
   "metadata": {},
   "outputs": [],
   "source": [
    "print(amenities_count(amenities_list))"
   ]
  },
  {
   "cell_type": "code",
   "execution_count": null,
   "id": "1922048a",
   "metadata": {},
   "outputs": [],
   "source": [
    "def amenities_count(amenities_list):\n",
    "#     count = []\n",
    "    for word in words:\n",
    "        count = words.count(word)\n",
    "    return count"
   ]
  },
  {
   "cell_type": "code",
   "execution_count": null,
   "id": "805d5637",
   "metadata": {},
   "outputs": [],
   "source": [
    "amenities_list = []\n",
    "ini = [[2,3], [4,5]]\n",
    "\n",
    "for i in ini:\n",
    "    amenities_list.extend(i)\n",
    "amenities_list"
   ]
  },
  {
   "cell_type": "code",
   "execution_count": null,
   "id": "68d8f1cc",
   "metadata": {},
   "outputs": [],
   "source": [
    "# average price per stay in each location\n",
    "airbnb_dataset[[\"host_id\",\"price\",\"minimum_nights\",\"maximum_nights\", \"host_location\"]]\n"
   ]
  },
  {
   "cell_type": "code",
   "execution_count": null,
   "id": "c473ce6c",
   "metadata": {},
   "outputs": [],
   "source": [
    "airbnb_dataset.groupby([\"host_location\", \"price\"])[[\"maximum_nights\",\"minimum_nights\"]].count()\n",
    "# not need by the question"
   ]
  },
  {
   "cell_type": "code",
   "execution_count": null,
   "id": "1df23264",
   "metadata": {},
   "outputs": [],
   "source": [
    "airbnb_dataset.groupby(\"host_location\")[[\"price\",\"maximum_nights\",\"minimum_nights\"]].count()"
   ]
  },
  {
   "cell_type": "code",
   "execution_count": null,
   "id": "062db08d",
   "metadata": {},
   "outputs": [],
   "source": [
    "airbnb_dataset.groupby(\"host_location\")[[\"price\",\"maximum_nights\",\"minimum_nights\"]].mean()\n",
    "# find the city with the lowest and the highest and the highest price"
   ]
  },
  {
   "cell_type": "code",
   "execution_count": null,
   "id": "272360c7",
   "metadata": {},
   "outputs": [],
   "source": [
    "# average review scores rating for each location\n",
    "airbnb_dataset.groupby(\"host_location\")[\"review_scores_rating\"].mean()"
   ]
  },
  {
   "cell_type": "code",
   "execution_count": null,
   "id": "33f6678a",
   "metadata": {},
   "outputs": [],
   "source": [
    "airbnb_dataset.groupby(\"host_location\")[\"review_scores_rating\"].mean().max() #find which city"
   ]
  },
  {
   "cell_type": "code",
   "execution_count": null,
   "id": "f4069ac6",
   "metadata": {},
   "outputs": [],
   "source": [
    "airbnb_dataset.groupby(\"host_location\")[\"review_scores_rating\"].mean().describe() #this is the summary statistics"
   ]
  },
  {
   "cell_type": "code",
   "execution_count": null,
   "id": "0dc6504a",
   "metadata": {},
   "outputs": [],
   "source": [
    "airbnb_dataset.groupby(\"host_location\")[\"review_scores_rating\"].mean().min() # FIND WHICH CITY"
   ]
  },
  {
   "cell_type": "code",
   "execution_count": null,
   "id": "43f00210",
   "metadata": {},
   "outputs": [],
   "source": [
    "airbnb_dataset.head(2)"
   ]
  },
  {
   "cell_type": "code",
   "execution_count": null,
   "id": "e6d7c9f6",
   "metadata": {},
   "outputs": [],
   "source": [
    "airbnb_dataset_copy = airbnb_dataset.copy()\n",
    "airbnb_dataset_copy.head(1)"
   ]
  },
  {
   "cell_type": "code",
   "execution_count": null,
   "id": "149fb198",
   "metadata": {},
   "outputs": [],
   "source": [
    "airbnb_dataset_copy[\"overall_rating\"] = (airbnb_dataset[\"review_scores_rating\"]+airbnb_dataset[\"review_scores_accuracy\"]+airbnb_dataset[\"review_scores_cleanliness\"]+airbnb_dataset[\"review_scores_checkin\"]+airbnb_dataset[\"review_scores_communication\"]+airbnb_dataset[\"review_scores_location\"]+airbnb_dataset[\"review_scores_value\"])/7"
   ]
  },
  {
   "cell_type": "code",
   "execution_count": null,
   "id": "043b2b2d",
   "metadata": {},
   "outputs": [],
   "source": [
    "airbnb_dataset_copy[\"overall_rating\"]"
   ]
  },
  {
   "cell_type": "code",
   "execution_count": null,
   "id": "df5d0880",
   "metadata": {},
   "outputs": [],
   "source": [
    "best_price_rating = airbnb_dataset_copy.groupby([\"host_location\", \"room_type\"])[[\"overall_rating\", \"price\"]].mean().reset_index()\n",
    "best_price_rating.sort_values([\"price\", \"overall_rating\"], ascending=True, inplace=False)\n",
    "best_price_rating.head()"
   ]
  },
  {
   "cell_type": "code",
   "execution_count": null,
   "id": "6d452817",
   "metadata": {},
   "outputs": [],
   "source": [
    "location = input(\"Enter the location: \")\n",
    "\n",
    "s = best_price_rating.loc[best_price_rating[\"host_location\"] == location, :]\n",
    "s.style.background_gradient(cmap=\"Purples\", low=0.30)\n",
    "#.to_markdown(index=False)"
   ]
  },
  {
   "cell_type": "code",
   "execution_count": null,
   "id": "5abef74b",
   "metadata": {},
   "outputs": [],
   "source": [
    "# own selection for question b\n",
    "\"\"\"\n",
    "Function to take location from the user and return the room types available in the location and also calculate\n",
    "and display the overall rating for that room type and the average price for that room type.\n",
    "\"\"\"\n",
    "def best_rating_price():\n",
    "    # copy the airbnb dataset not to change the original dataset\n",
    "    airbnb_dataset_copy = airbnb_dataset.copy()\n",
    "    # calculate the overall rating based on all the ratings in the dataset\n",
    "    airbnb_dataset_copy[\"overall_rating\"] = (airbnb_dataset_copy[\"review_scores_rating\"]+airbnb_dataset_copy[\"review_scores_accuracy\"]+airbnb_dataset_copy[\"review_scores_cleanliness\"]+airbnb_dataset_copy[\"review_scores_checkin\"]+airbnb_dataset_copy[\"review_scores_communication\"]+airbnb_dataset_copy[\"review_scores_location\"]+airbnb_dataset_copy[\"review_scores_value\"])/7\n",
    "    # group by the location and room type and select the price and overall rating\n",
    "    best_price_rating = airbnb_dataset_copy.groupby([\"host_location\", \"room_type\"])[[\"overall_rating\", \"price\"]].mean().reset_index()\n",
    "    #sort the values\n",
    "    best_price_rating.sort_values([\"overall_rating\", \"price\"], ascending=True, inplace=False)\n",
    "    # get the location the user is interested in\n",
    "    location = input(\"Enter the location: \")\n",
    "    best = best_price_rating.loc[best_price_rating[\"host_location\"] == location, :]\n",
    "    # let the user see the display highlighting the overall rating and the price\n",
    "    best = best.style.background_gradient(cmap=\"Purples\", low=0.30)\n",
    "    return best"
   ]
  },
  {
   "cell_type": "code",
   "execution_count": null,
   "id": "22d953ba",
   "metadata": {},
   "outputs": [],
   "source": [
    "best_rating_price()"
   ]
  },
  {
   "cell_type": "markdown",
   "id": "5a1eefa9",
   "metadata": {},
   "source": [
    "### Matplotlib"
   ]
  },
  {
   "cell_type": "code",
   "execution_count": null,
   "id": "fce97164",
   "metadata": {},
   "outputs": [],
   "source": [
    "# importing matplotlib library\n",
    "%matplotlib inline \n",
    "\n",
    "import matplotlib.pyplot as plt"
   ]
  },
  {
   "cell_type": "code",
   "execution_count": null,
   "id": "9bb86df6",
   "metadata": {},
   "outputs": [],
   "source": [
    "file_path = \"Data/Airbnb_UK_2022.csv\"\n",
    "# function to load the airbnb dataset into memory using the Pandas module\n",
    "def load_data_dataframe(file_path):\n",
    "    airbnb_dataset =  pd.read_csv(file_path)\n",
    "    return airbnb_dataset \n",
    "df_airbnb = load_data_dataframe(file_path)"
   ]
  },
  {
   "cell_type": "code",
   "execution_count": null,
   "id": "e6cf6f18",
   "metadata": {},
   "outputs": [],
   "source": [
    "def average_price(df_airbnb):\n",
    "    print(\"The average price of stay in each location are listed below.\\n\")\n",
    "    avg_price = df_airbnb.groupby(\"host_location\")[[\"price\",\"maximum_nights\",\"minimum_nights\"]].mean()\n",
    "    return avg_price\n"
   ]
  },
  {
   "cell_type": "code",
   "execution_count": null,
   "id": "d36dc70e",
   "metadata": {},
   "outputs": [],
   "source": [
    "import airbnb_process\n",
    "print(\"Enter 1 to retrieve a name of listing, host_name, description, host_location, and the date the host was created for an individual host by host_id.\\n\")\n",
    "print(\"Enter 2 to retrieve host_name, property_type, price, minimum_nights, and maximum_nights of all Airbnb listing for a specified location.\\n\")\n",
    "print(\"Enter 3 to retrieve room_type, accommodates, bathrooms, bedroom, and beds of all Airbnb listing for a specified property type.\\n\")\n",
    "print(\"Enter 4 retrieve specific columns of your choice related to an individual host by location.\\n\")\n",
    "print(\"Enter 0 to exit\")\n",
    "\n",
    "\n",
    "airbnb_process.average_price(df_airbnb)"
   ]
  },
  {
   "cell_type": "code",
   "execution_count": null,
   "id": "7f61081f",
   "metadata": {},
   "outputs": [],
   "source": [
    "# Display the proportion of number of bedrooms of Airbnb listing using pie chart\n",
    "\n",
    "airbnb_dataset.head(2)"
   ]
  },
  {
   "cell_type": "code",
   "execution_count": null,
   "id": "2d030b00",
   "metadata": {},
   "outputs": [],
   "source": []
  },
  {
   "cell_type": "code",
   "execution_count": null,
   "id": "f41969ca",
   "metadata": {},
   "outputs": [],
   "source": []
  },
  {
   "cell_type": "code",
   "execution_count": null,
   "id": "8990a55e",
   "metadata": {},
   "outputs": [],
   "source": [
    "airbnb_dataset[[\"name\",\"bedrooms\"]].sort_values(\"bedrooms\", ascending = False)"
   ]
  },
  {
   "cell_type": "code",
   "execution_count": null,
   "id": "2eb86851",
   "metadata": {},
   "outputs": [],
   "source": [
    "bedroom_group = airbnb_dataset.groupby(\"bedrooms\").size().sort_values(ascending=True)\n",
    "bedroom_group"
   ]
  },
  {
   "cell_type": "code",
   "execution_count": null,
   "id": "7a92b2f7",
   "metadata": {},
   "outputs": [],
   "source": [
    "bedroom_list = bedroom_group.index.tolist()\n",
    "print(bedroom_list)"
   ]
  },
  {
   "cell_type": "code",
   "execution_count": null,
   "id": "dfe64780",
   "metadata": {},
   "outputs": [],
   "source": [
    "num_bedroom_list = bedroom_group.tolist()\n",
    "print(num_bedroom_list)"
   ]
  },
  {
   "cell_type": "code",
   "execution_count": null,
   "id": "46689348",
   "metadata": {
    "scrolled": true
   },
   "outputs": [],
   "source": [
    "# plot the pie chart\n",
    "fig = plt.figure(figsize=(7,9))\n",
    "\n",
    "plt.pie(num_bedroom_list,labels=bedroom_list,autopct='%1.1f%%')\n",
    "plt.title(\"Proportion of the Number of Bedrooms of Listings\")\n",
    "\n",
    "plt.legend(loc=\"best\",bbox_to_anchor=(1,1))\n",
    "\n",
    "plt.show()\n",
    "# fig.savefig('Bedroom Proportion Pie Chart.png')"
   ]
  },
  {
   "cell_type": "code",
   "execution_count": null,
   "id": "9014508a",
   "metadata": {},
   "outputs": [],
   "source": [
    "# let the user have a sense of the proportion of the number of bedrooms\n",
    "def merge(list1, list2):\n",
    "    \n",
    "    merged_list = [(list1[i], list2[i]) for i in range(0, len(list1))]\n",
    "    return merged_list\n",
    "\n",
    "\n",
    "bedroom_group_tup = merge(bedroom_list, num_bedroom_list)\n",
    "print(bedroom_group_tup)"
   ]
  },
  {
   "cell_type": "code",
   "execution_count": null,
   "id": "87303a0c",
   "metadata": {},
   "outputs": [],
   "source": [
    "# let the user have a sense of the proportion of the number of bedrooms\n",
    "def merge(bedroom_list, num_bedroom_list):\n",
    "    \n",
    "    bedroom_group_tup = [(bedroom_list[i], num_bedroom_list[i]) for i in range(0, len(bedroom_list))]\n",
    "    \n",
    "    for i,j in bedroom_group_tup:\n",
    "        print(f'The listings with {i} bedrooms are {j} in number. \\n')\n",
    "        \n",
    "merge(bedroom_list, num_bedroom_list)       "
   ]
  },
  {
   "cell_type": "code",
   "execution_count": null,
   "id": "2c732599",
   "metadata": {},
   "outputs": [],
   "source": [
    "# def merge(list1, list2):\n",
    "#     for i in range(0, len(list1)):\n",
    "#         merged_list = [(list1[i], list2[i])]\n",
    "#     return merged_list\n",
    "\n",
    "\n",
    "# bedroom_group_tup = merge(bedroom_list, num_bedroom_list)\n",
    "# print(bedroom_group_tup)"
   ]
  },
  {
   "cell_type": "code",
   "execution_count": null,
   "id": "821355bb",
   "metadata": {},
   "outputs": [],
   "source": [
    "for i,j in bedroom_group_tup:\n",
    "    print(f'The listings with {i} bedrooms are {j} in number. \\n')"
   ]
  },
  {
   "cell_type": "code",
   "execution_count": null,
   "id": "63b139ac",
   "metadata": {},
   "outputs": [],
   "source": [
    "# Display the number of listings for each room type using bar chart\n",
    "airbnb_dataset[[\"name\", \"room_type\"]]"
   ]
  },
  {
   "cell_type": "code",
   "execution_count": null,
   "id": "cae291ab",
   "metadata": {},
   "outputs": [],
   "source": [
    "room_type_group = airbnb_dataset.groupby(\"room_type\").size().sort_values(ascending=False)\n",
    "room_type_group"
   ]
  },
  {
   "cell_type": "code",
   "execution_count": null,
   "id": "c92582ff",
   "metadata": {},
   "outputs": [],
   "source": [
    "num_listing_room_type = room_type_group.tolist()\n",
    "room_type = room_type_group.index.tolist()"
   ]
  },
  {
   "cell_type": "code",
   "execution_count": null,
   "id": "bc22a0c4",
   "metadata": {},
   "outputs": [],
   "source": [
    "  # Check if you can caliberate for the data to show better"
   ]
  },
  {
   "cell_type": "code",
   "execution_count": null,
   "id": "3546ea9d",
   "metadata": {},
   "outputs": [],
   "source": [
    "def average_review_score(airbnb_dataset):\n",
    "    #print(f\"The average review score rating for each location are listed below.\\n{sep}\\n\")\n",
    "    avg_review_score = airbnb_dataset.groupby(\"host_location\")[\"review_scores_rating\"].mean()\n",
    "    return avg_review_score"
   ]
  },
  {
   "cell_type": "code",
   "execution_count": null,
   "id": "83465f01",
   "metadata": {},
   "outputs": [],
   "source": [
    "average_review_score(airbnb_dataset)"
   ]
  },
  {
   "cell_type": "code",
   "execution_count": null,
   "id": "cab4a974",
   "metadata": {},
   "outputs": [],
   "source": []
  },
  {
   "cell_type": "code",
   "execution_count": null,
   "id": "941742d3",
   "metadata": {},
   "outputs": [],
   "source": [
    "# Display the relationship between accommodates and price using scatter plot\n",
    "fig = plt.figure(figsize=(15,8)) #Create figure object and set up the size of figure\n",
    "\n",
    "accommodates = airbnb_dataset[\"accommodates\"]\n",
    "price = airbnb_dataset[\"price\"]\n",
    "\n",
    "# plot\n",
    "plt.scatter(accommodates, price)\n",
    "plt.xlabel('Maximun Capacity')\n",
    "plt.ylabel('Price')\n",
    "plt.title('Maximun Capacity vs Price')\n",
    "plt.show()\n"
   ]
  },
  {
   "cell_type": "code",
   "execution_count": null,
   "id": "031eb20e",
   "metadata": {},
   "outputs": [],
   "source": [
    "price.describe() \n"
   ]
  },
  {
   "cell_type": "code",
   "execution_count": null,
   "id": "97cb5c10",
   "metadata": {},
   "outputs": [],
   "source": [
    "accommodates.describe()"
   ]
  },
  {
   "cell_type": "code",
   "execution_count": null,
   "id": "d0ca4689",
   "metadata": {},
   "outputs": [],
   "source": [
    "# Display Airbnb prices from 2019 - 2022 with line chart using subplots (one year per plot)\n",
    "\n",
    "airbnb_dataset[[\"price\", \"host_since\"]]"
   ]
  },
  {
   "cell_type": "code",
   "execution_count": null,
   "id": "6c7d98fc",
   "metadata": {},
   "outputs": [],
   "source": [
    "airbnb_dataset.host_since.dtypes"
   ]
  },
  {
   "cell_type": "code",
   "execution_count": null,
   "id": "f26a8934",
   "metadata": {},
   "outputs": [],
   "source": [
    "# year_group = airbnb_dataset.groupby(\"host_since\")[\"price\"]\n",
    "# for i,j in year_group:\n",
    "#     print(f\"Group {i}: {j}\")\n"
   ]
  },
  {
   "cell_type": "code",
   "execution_count": 3,
   "id": "05645437",
   "metadata": {},
   "outputs": [
    {
     "data": {
      "text/plain": [
       "0      2009-05-12\n",
       "1      2011-03-05\n",
       "2      2011-07-12\n",
       "3      2009-09-28\n",
       "4      2011-05-14\n",
       "          ...    \n",
       "8434   2013-01-08\n",
       "8435   2015-07-29\n",
       "8436   2009-02-07\n",
       "8437   2011-09-09\n",
       "8438   2012-06-02\n",
       "Name: host_since, Length: 8439, dtype: datetime64[ns]"
      ]
     },
     "execution_count": 3,
     "metadata": {},
     "output_type": "execute_result"
    }
   ],
   "source": [
    "airbnb_dataset[\"host_since\"] = pd.to_datetime(airbnb_dataset[\"host_since\"])\n",
    "\n",
    "airbnb_dataset[\"host_since\"]"
   ]
  },
  {
   "cell_type": "code",
   "execution_count": 4,
   "id": "60a3cfe1",
   "metadata": {},
   "outputs": [
    {
     "data": {
      "text/html": [
       "<div>\n",
       "<style scoped>\n",
       "    .dataframe tbody tr th:only-of-type {\n",
       "        vertical-align: middle;\n",
       "    }\n",
       "\n",
       "    .dataframe tbody tr th {\n",
       "        vertical-align: top;\n",
       "    }\n",
       "\n",
       "    .dataframe thead th {\n",
       "        text-align: right;\n",
       "    }\n",
       "</style>\n",
       "<table border=\"1\" class=\"dataframe\">\n",
       "  <thead>\n",
       "    <tr style=\"text-align: right;\">\n",
       "      <th></th>\n",
       "      <th>host_id</th>\n",
       "      <th>name</th>\n",
       "      <th>description</th>\n",
       "      <th>host_name</th>\n",
       "      <th>host_since</th>\n",
       "      <th>host_location</th>\n",
       "      <th>host_response_time</th>\n",
       "      <th>host_response_rate</th>\n",
       "      <th>host_acceptance_rate</th>\n",
       "      <th>host_is_superhost</th>\n",
       "      <th>...</th>\n",
       "      <th>number_of_reviews</th>\n",
       "      <th>first_review</th>\n",
       "      <th>last_review</th>\n",
       "      <th>review_scores_rating</th>\n",
       "      <th>review_scores_accuracy</th>\n",
       "      <th>review_scores_cleanliness</th>\n",
       "      <th>review_scores_checkin</th>\n",
       "      <th>review_scores_communication</th>\n",
       "      <th>review_scores_location</th>\n",
       "      <th>review_scores_value</th>\n",
       "    </tr>\n",
       "  </thead>\n",
       "  <tbody>\n",
       "    <tr>\n",
       "      <th>0</th>\n",
       "      <td>60302</td>\n",
       "      <td>Bright Chelsea  Apartment. Chelsea!</td>\n",
       "      <td>lots of windows and light  st luke s gardens a...</td>\n",
       "      <td>Philippa</td>\n",
       "      <td>2009-05-12</td>\n",
       "      <td>Kensington</td>\n",
       "      <td>within an hour</td>\n",
       "      <td>67%</td>\n",
       "      <td>29%</td>\n",
       "      <td>False</td>\n",
       "      <td>...</td>\n",
       "      <td>89</td>\n",
       "      <td>21-12-09</td>\n",
       "      <td>16-03-20</td>\n",
       "      <td>4.79</td>\n",
       "      <td>4.84</td>\n",
       "      <td>4.88</td>\n",
       "      <td>4.87</td>\n",
       "      <td>4.82</td>\n",
       "      <td>4.93</td>\n",
       "      <td>4.73</td>\n",
       "    </tr>\n",
       "  </tbody>\n",
       "</table>\n",
       "<p>1 rows × 34 columns</p>\n",
       "</div>"
      ],
      "text/plain": [
       "   host_id                                 name  \\\n",
       "0    60302  Bright Chelsea  Apartment. Chelsea!   \n",
       "\n",
       "                                         description host_name host_since  \\\n",
       "0  lots of windows and light  st luke s gardens a...  Philippa 2009-05-12   \n",
       "\n",
       "  host_location host_response_time host_response_rate host_acceptance_rate  \\\n",
       "0    Kensington     within an hour                67%                  29%   \n",
       "\n",
       "   host_is_superhost  ...  number_of_reviews first_review  last_review  \\\n",
       "0              False  ...                 89     21-12-09     16-03-20   \n",
       "\n",
       "  review_scores_rating review_scores_accuracy  review_scores_cleanliness  \\\n",
       "0                 4.79                   4.84                       4.88   \n",
       "\n",
       "  review_scores_checkin  review_scores_communication  review_scores_location  \\\n",
       "0                  4.87                         4.82                    4.93   \n",
       "\n",
       "  review_scores_value  \n",
       "0                4.73  \n",
       "\n",
       "[1 rows x 34 columns]"
      ]
     },
     "execution_count": 4,
     "metadata": {},
     "output_type": "execute_result"
    }
   ],
   "source": [
    "df = airbnb_dataset.copy()\n",
    "df.head(1)"
   ]
  },
  {
   "cell_type": "code",
   "execution_count": null,
   "id": "47906ad2",
   "metadata": {},
   "outputs": [],
   "source": [
    "airbnb_dataset[\"host_acceptance_rate\"] = (airbnb_dataset[\"host_acceptance_rate\"]).str.rstrip(\"%\").astype(float)\n",
    "# airbnb_dataset[\"host_acceptance_rate\"]\n",
    "airbnb_dataset"
   ]
  },
  {
   "cell_type": "code",
   "execution_count": null,
   "id": "4fb40938",
   "metadata": {},
   "outputs": [],
   "source": [
    " # convert the host_since column to a datetime\n",
    "airbnb_dataset[\"host_since\"] = pd.to_datetime(airbnb_dataset[\"host_since\"])"
   ]
  },
  {
   "cell_type": "code",
   "execution_count": 6,
   "id": "4693031b",
   "metadata": {},
   "outputs": [
    {
     "ename": "AttributeError",
     "evalue": "'float' object has no attribute 'endswith'",
     "output_type": "error",
     "traceback": [
      "\u001b[1;31m---------------------------------------------------------------------------\u001b[0m",
      "\u001b[1;31mAttributeError\u001b[0m                            Traceback (most recent call last)",
      "Input \u001b[1;32mIn [6]\u001b[0m, in \u001b[0;36m<cell line: 5>\u001b[1;34m()\u001b[0m\n\u001b[0;32m      2\u001b[0m remove_percent \u001b[38;5;241m=\u001b[39m \u001b[38;5;28;01mlambda\u001b[39;00m x: \u001b[38;5;28mfloat\u001b[39m(x[:\u001b[38;5;241m-\u001b[39m\u001b[38;5;241m1\u001b[39m]) \u001b[38;5;28;01mif\u001b[39;00m x\u001b[38;5;241m.\u001b[39mendswith(\u001b[38;5;124m\"\u001b[39m\u001b[38;5;124m%\u001b[39m\u001b[38;5;124m\"\u001b[39m) \u001b[38;5;28;01melse\u001b[39;00m x\n\u001b[0;32m      4\u001b[0m \u001b[38;5;66;03m# apply the lambda function to the 'col1' column\u001b[39;00m\n\u001b[1;32m----> 5\u001b[0m df[\u001b[38;5;124m'\u001b[39m\u001b[38;5;124mhost_acceptance_rate\u001b[39m\u001b[38;5;124m'\u001b[39m] \u001b[38;5;241m=\u001b[39m \u001b[43mdf\u001b[49m\u001b[43m[\u001b[49m\u001b[38;5;124;43m'\u001b[39;49m\u001b[38;5;124;43mhost_acceptance_rate\u001b[39;49m\u001b[38;5;124;43m'\u001b[39;49m\u001b[43m]\u001b[49m\u001b[38;5;241;43m.\u001b[39;49m\u001b[43mapply\u001b[49m\u001b[43m(\u001b[49m\u001b[43mremove_percent\u001b[49m\u001b[43m)\u001b[49m\n\u001b[0;32m      6\u001b[0m df[\u001b[38;5;124m'\u001b[39m\u001b[38;5;124mhost_acceptance_rate\u001b[39m\u001b[38;5;124m'\u001b[39m]\n",
      "File \u001b[1;32m~\\anaconda3\\lib\\site-packages\\pandas\\core\\series.py:4433\u001b[0m, in \u001b[0;36mSeries.apply\u001b[1;34m(self, func, convert_dtype, args, **kwargs)\u001b[0m\n\u001b[0;32m   4323\u001b[0m \u001b[38;5;28;01mdef\u001b[39;00m \u001b[38;5;21mapply\u001b[39m(\n\u001b[0;32m   4324\u001b[0m     \u001b[38;5;28mself\u001b[39m,\n\u001b[0;32m   4325\u001b[0m     func: AggFuncType,\n\u001b[1;32m   (...)\u001b[0m\n\u001b[0;32m   4328\u001b[0m     \u001b[38;5;241m*\u001b[39m\u001b[38;5;241m*\u001b[39mkwargs,\n\u001b[0;32m   4329\u001b[0m ) \u001b[38;5;241m-\u001b[39m\u001b[38;5;241m>\u001b[39m DataFrame \u001b[38;5;241m|\u001b[39m Series:\n\u001b[0;32m   4330\u001b[0m     \u001b[38;5;124;03m\"\"\"\u001b[39;00m\n\u001b[0;32m   4331\u001b[0m \u001b[38;5;124;03m    Invoke function on values of Series.\u001b[39;00m\n\u001b[0;32m   4332\u001b[0m \n\u001b[1;32m   (...)\u001b[0m\n\u001b[0;32m   4431\u001b[0m \u001b[38;5;124;03m    dtype: float64\u001b[39;00m\n\u001b[0;32m   4432\u001b[0m \u001b[38;5;124;03m    \"\"\"\u001b[39;00m\n\u001b[1;32m-> 4433\u001b[0m     \u001b[38;5;28;01mreturn\u001b[39;00m \u001b[43mSeriesApply\u001b[49m\u001b[43m(\u001b[49m\u001b[38;5;28;43mself\u001b[39;49m\u001b[43m,\u001b[49m\u001b[43m \u001b[49m\u001b[43mfunc\u001b[49m\u001b[43m,\u001b[49m\u001b[43m \u001b[49m\u001b[43mconvert_dtype\u001b[49m\u001b[43m,\u001b[49m\u001b[43m \u001b[49m\u001b[43margs\u001b[49m\u001b[43m,\u001b[49m\u001b[43m \u001b[49m\u001b[43mkwargs\u001b[49m\u001b[43m)\u001b[49m\u001b[38;5;241;43m.\u001b[39;49m\u001b[43mapply\u001b[49m\u001b[43m(\u001b[49m\u001b[43m)\u001b[49m\n",
      "File \u001b[1;32m~\\anaconda3\\lib\\site-packages\\pandas\\core\\apply.py:1082\u001b[0m, in \u001b[0;36mSeriesApply.apply\u001b[1;34m(self)\u001b[0m\n\u001b[0;32m   1078\u001b[0m \u001b[38;5;28;01mif\u001b[39;00m \u001b[38;5;28misinstance\u001b[39m(\u001b[38;5;28mself\u001b[39m\u001b[38;5;241m.\u001b[39mf, \u001b[38;5;28mstr\u001b[39m):\n\u001b[0;32m   1079\u001b[0m     \u001b[38;5;66;03m# if we are a string, try to dispatch\u001b[39;00m\n\u001b[0;32m   1080\u001b[0m     \u001b[38;5;28;01mreturn\u001b[39;00m \u001b[38;5;28mself\u001b[39m\u001b[38;5;241m.\u001b[39mapply_str()\n\u001b[1;32m-> 1082\u001b[0m \u001b[38;5;28;01mreturn\u001b[39;00m \u001b[38;5;28;43mself\u001b[39;49m\u001b[38;5;241;43m.\u001b[39;49m\u001b[43mapply_standard\u001b[49m\u001b[43m(\u001b[49m\u001b[43m)\u001b[49m\n",
      "File \u001b[1;32m~\\anaconda3\\lib\\site-packages\\pandas\\core\\apply.py:1137\u001b[0m, in \u001b[0;36mSeriesApply.apply_standard\u001b[1;34m(self)\u001b[0m\n\u001b[0;32m   1131\u001b[0m         values \u001b[38;5;241m=\u001b[39m obj\u001b[38;5;241m.\u001b[39mastype(\u001b[38;5;28mobject\u001b[39m)\u001b[38;5;241m.\u001b[39m_values\n\u001b[0;32m   1132\u001b[0m         \u001b[38;5;66;03m# error: Argument 2 to \"map_infer\" has incompatible type\u001b[39;00m\n\u001b[0;32m   1133\u001b[0m         \u001b[38;5;66;03m# \"Union[Callable[..., Any], str, List[Union[Callable[..., Any], str]],\u001b[39;00m\n\u001b[0;32m   1134\u001b[0m         \u001b[38;5;66;03m# Dict[Hashable, Union[Union[Callable[..., Any], str],\u001b[39;00m\n\u001b[0;32m   1135\u001b[0m         \u001b[38;5;66;03m# List[Union[Callable[..., Any], str]]]]]\"; expected\u001b[39;00m\n\u001b[0;32m   1136\u001b[0m         \u001b[38;5;66;03m# \"Callable[[Any], Any]\"\u001b[39;00m\n\u001b[1;32m-> 1137\u001b[0m         mapped \u001b[38;5;241m=\u001b[39m \u001b[43mlib\u001b[49m\u001b[38;5;241;43m.\u001b[39;49m\u001b[43mmap_infer\u001b[49m\u001b[43m(\u001b[49m\n\u001b[0;32m   1138\u001b[0m \u001b[43m            \u001b[49m\u001b[43mvalues\u001b[49m\u001b[43m,\u001b[49m\n\u001b[0;32m   1139\u001b[0m \u001b[43m            \u001b[49m\u001b[43mf\u001b[49m\u001b[43m,\u001b[49m\u001b[43m  \u001b[49m\u001b[38;5;66;43;03m# type: ignore[arg-type]\u001b[39;49;00m\n\u001b[0;32m   1140\u001b[0m \u001b[43m            \u001b[49m\u001b[43mconvert\u001b[49m\u001b[38;5;241;43m=\u001b[39;49m\u001b[38;5;28;43mself\u001b[39;49m\u001b[38;5;241;43m.\u001b[39;49m\u001b[43mconvert_dtype\u001b[49m\u001b[43m,\u001b[49m\n\u001b[0;32m   1141\u001b[0m \u001b[43m        \u001b[49m\u001b[43m)\u001b[49m\n\u001b[0;32m   1143\u001b[0m \u001b[38;5;28;01mif\u001b[39;00m \u001b[38;5;28mlen\u001b[39m(mapped) \u001b[38;5;129;01mand\u001b[39;00m \u001b[38;5;28misinstance\u001b[39m(mapped[\u001b[38;5;241m0\u001b[39m], ABCSeries):\n\u001b[0;32m   1144\u001b[0m     \u001b[38;5;66;03m# GH#43986 Need to do list(mapped) in order to get treated as nested\u001b[39;00m\n\u001b[0;32m   1145\u001b[0m     \u001b[38;5;66;03m#  See also GH#25959 regarding EA support\u001b[39;00m\n\u001b[0;32m   1146\u001b[0m     \u001b[38;5;28;01mreturn\u001b[39;00m obj\u001b[38;5;241m.\u001b[39m_constructor_expanddim(\u001b[38;5;28mlist\u001b[39m(mapped), index\u001b[38;5;241m=\u001b[39mobj\u001b[38;5;241m.\u001b[39mindex)\n",
      "File \u001b[1;32m~\\anaconda3\\lib\\site-packages\\pandas\\_libs\\lib.pyx:2870\u001b[0m, in \u001b[0;36mpandas._libs.lib.map_infer\u001b[1;34m()\u001b[0m\n",
      "Input \u001b[1;32mIn [6]\u001b[0m, in \u001b[0;36m<lambda>\u001b[1;34m(x)\u001b[0m\n\u001b[0;32m      1\u001b[0m \u001b[38;5;66;03m# define a lambda function to remove percent sign and convert to float\u001b[39;00m\n\u001b[1;32m----> 2\u001b[0m remove_percent \u001b[38;5;241m=\u001b[39m \u001b[38;5;28;01mlambda\u001b[39;00m x: \u001b[38;5;28mfloat\u001b[39m(x[:\u001b[38;5;241m-\u001b[39m\u001b[38;5;241m1\u001b[39m]) \u001b[38;5;28;01mif\u001b[39;00m \u001b[43mx\u001b[49m\u001b[38;5;241;43m.\u001b[39;49m\u001b[43mendswith\u001b[49m(\u001b[38;5;124m\"\u001b[39m\u001b[38;5;124m%\u001b[39m\u001b[38;5;124m\"\u001b[39m) \u001b[38;5;28;01melse\u001b[39;00m x\n\u001b[0;32m      4\u001b[0m \u001b[38;5;66;03m# apply the lambda function to the 'col1' column\u001b[39;00m\n\u001b[0;32m      5\u001b[0m df[\u001b[38;5;124m'\u001b[39m\u001b[38;5;124mhost_acceptance_rate\u001b[39m\u001b[38;5;124m'\u001b[39m] \u001b[38;5;241m=\u001b[39m df[\u001b[38;5;124m'\u001b[39m\u001b[38;5;124mhost_acceptance_rate\u001b[39m\u001b[38;5;124m'\u001b[39m]\u001b[38;5;241m.\u001b[39mapply(remove_percent)\n",
      "\u001b[1;31mAttributeError\u001b[0m: 'float' object has no attribute 'endswith'"
     ]
    }
   ],
   "source": [
    "\n",
    "# define a lambda function to remove percent sign and convert to float\n",
    "remove_percent = lambda x: float(x[:-1]) if x.endswith(\"%\") else x\n",
    "\n",
    "# apply the lambda function to the 'col1' column\n",
    "df['host_acceptance_rate'] = df['host_acceptance_rate'].apply(remove_percent)\n",
    "df['host_acceptance_rate']"
   ]
  },
  {
   "cell_type": "code",
   "execution_count": null,
   "id": "eea0952d",
   "metadata": {},
   "outputs": [],
   "source": [
    "# filter year 2019\n",
    "year_2019 = airbnb_dataset.query(\"host_since >= '2019-01-01' and host_since <= '2019-12-31'\")\n",
    "year_2019.head(2)"
   ]
  },
  {
   "cell_type": "code",
   "execution_count": null,
   "id": "2f011cf9",
   "metadata": {},
   "outputs": [],
   "source": [
    "# filter year 2020\n",
    "year_2020 = airbnb_dataset.query(\"host_since >= '2020-01-01' and host_since <= '2020-12-31'\")\n",
    "year_2020.head(2)"
   ]
  },
  {
   "cell_type": "code",
   "execution_count": null,
   "id": "ab1103e1",
   "metadata": {},
   "outputs": [],
   "source": [
    "# filter year 2021\n",
    "year_2021 = airbnb_dataset.query(\"host_since >= '2021-01-01' and host_since <= '2021-12-31'\")\n",
    "year_2021.head(2)"
   ]
  },
  {
   "cell_type": "code",
   "execution_count": null,
   "id": "b494a96d",
   "metadata": {},
   "outputs": [],
   "source": [
    "# filter year 2022\n",
    "year_2022 = airbnb_dataset.query(\"host_since >= '2022-01-01' and host_since <= '2022-12-31'\")\n",
    "year_2022.head(2)"
   ]
  },
  {
   "cell_type": "code",
   "execution_count": null,
   "id": "c2b29198",
   "metadata": {},
   "outputs": [],
   "source": [
    "# group the year by month and sum the prices\n",
    "acceptance_rate_2019 = year_2019.groupby(\"host_is_superhost\").size()\n",
    "acceptance_rate_2020 = year_2020.groupby(\"host_is_superhost\").size()\n",
    "acceptance_rate_2021 = year_2021.groupby(\"host_is_superhost\").size()\n",
    "acceptance_rate_2022 = year_2022.groupby(\"host_is_superhost\").size()"
   ]
  },
  {
   "cell_type": "code",
   "execution_count": null,
   "id": "9940bfd8",
   "metadata": {},
   "outputs": [],
   "source": [
    "acceptance_rate_2022"
   ]
  },
  {
   "cell_type": "code",
   "execution_count": null,
   "id": "7b5bf0cb",
   "metadata": {},
   "outputs": [],
   "source": [
    "# group the year by year and host_is_superhost and find the mean of the acceptance rate\n",
    "acceptance_rate_2019 = year_2019.groupby([year_2019.host_since.dt.year,year_2019.host_is_superhost])[\"host_acceptance_rate\"].mean().tolist()\n",
    "acceptance_rate_2020 = year_2020.groupby([year_2020.host_since.dt.year,year_2020.host_is_superhost])[\"host_acceptance_rate\"].mean().tolist()\n",
    "acceptance_rate_2021 = year_2021.groupby([year_2021.host_since.dt.year,year_2021.host_is_superhost])[\"host_acceptance_rate\"].mean().tolist()\n",
    "acceptance_rate_2022 = year_2022.groupby([year_2022.host_since.dt.year,year_2022.host_is_superhost])[\"host_acceptance_rate\"].mean().tolist()"
   ]
  },
  {
   "cell_type": "code",
   "execution_count": null,
   "id": "e36d3642",
   "metadata": {},
   "outputs": [],
   "source": [
    "acceptance_rate_2019"
   ]
  },
  {
   "cell_type": "code",
   "execution_count": null,
   "id": "4fbb4eb6",
   "metadata": {},
   "outputs": [],
   "source": [
    "# is_super = []\n",
    "# is_not_super = []\n",
    "# for i in acceptance_rate_2019 :\n",
    "#     is_not_super.append(i[1])\n",
    "#     is_super.append(i[0])\n",
    "\n",
    "year = [2019,2020,2021,2022]\n",
    "is_not_super = [80.33,82.60,87.52,91.06] \n",
    "is_super = [92.17,93.36,91.05,91.06]"
   ]
  },
  {
   "cell_type": "code",
   "execution_count": null,
   "id": "68937c5b",
   "metadata": {},
   "outputs": [],
   "source": [
    "import matplotlib.pyplot as plt"
   ]
  },
  {
   "cell_type": "code",
   "execution_count": null,
   "id": "0e6ea01a",
   "metadata": {},
   "outputs": [],
   "source": [
    "X_axis = [1,2,3,4]\n",
    "width = 0.25\n",
    "  \n",
    "plt.bar(X_axis, is_super,color = 'b',width = width, edgecolor = 'black',label='is_super')\n",
    "plt.bar(x+width for x in X_axis, is_not_super, color = 'g',width = width, edgecolor = 'black',label='is_not_super')\n",
    "  \n",
    "plt.xlabel(\"Year\")\n",
    "plt.ylabel(\"Number of people voted\")\n",
    "plt.title(\"Number of people voted in each year\")\n",
    "  \n",
    "plt.xticks(r + width/2,['2019','2020','2021','2022'])\n",
    "plt.legend()\n",
    "  \n",
    "plt.show()"
   ]
  },
  {
   "cell_type": "code",
   "execution_count": null,
   "id": "9c1d0a69",
   "metadata": {},
   "outputs": [],
   "source": [
    "import matplotlib.pyplot as plt\n",
    "\n",
    "X_axis = [1, 2, 3, 4]\n",
    "year = [2019,2020,2021,2022]\n",
    "is_not_super = [80.33,82.60,87.52,91.06] \n",
    "is_super = [92.17,93.36,91.05,91.06] \n",
    "width = 0.25\n",
    "  \n",
    "plt.bar(X_axis, is_super, color='b', width=width, edgecolor='black', label='is_super')\n",
    "plt.bar([x + width for x in X_axis], is_not_super, color='r', width=width, edgecolor='black', label='is_not_super')\n",
    "  \n",
    "plt.xlabel(\"Year\")\n",
    "plt.ylabel(\"Acceptance rate\")\n",
    "plt.title(\"Acceptance rate in each year\")\n",
    "  \n",
    "plt.xticks([x + width/2 for x in X_axis], year)\n",
    "plt.legend(loc=4)\n",
    "  \n",
    "plt.show()"
   ]
  },
  {
   "cell_type": "code",
   "execution_count": null,
   "id": "e41d72c5",
   "metadata": {},
   "outputs": [],
   "source": [
    "def plot():\n",
    "    "
   ]
  },
  {
   "cell_type": "code",
   "execution_count": null,
   "id": "b679f449",
   "metadata": {},
   "outputs": [],
   "source": []
  },
  {
   "cell_type": "code",
   "execution_count": null,
   "id": "d8129922",
   "metadata": {},
   "outputs": [],
   "source": [
    "acceptance_rate_2021"
   ]
  },
  {
   "cell_type": "code",
   "execution_count": null,
   "id": "0f198965",
   "metadata": {},
   "outputs": [],
   "source": [
    "acceptance_rate_2022"
   ]
  },
  {
   "cell_type": "code",
   "execution_count": null,
   "id": "f6ca9487",
   "metadata": {},
   "outputs": [],
   "source": [
    "import matplotlib.pyplot as plt"
   ]
  },
  {
   "cell_type": "code",
   "execution_count": null,
   "id": "1da3ff91",
   "metadata": {},
   "outputs": [],
   "source": [
    "year = []"
   ]
  },
  {
   "cell_type": "code",
   "execution_count": null,
   "id": "f38bb60c",
   "metadata": {},
   "outputs": [],
   "source": [
    "#Create figure and get the axes\n",
    "fig , (axis1,axis2,axis3,axis4) = plt.subplots(4,1, figsize = (12,15))\n",
    "\n",
    "#Add title for entire figure\n",
    "fig.suptitle(\"Airbnb prices from 2019 - 2022\")\n",
    "\n",
    "# Airbnb price in 2019 to axis1\n",
    "# set x axis and y axis for axis1\n",
    "x = price_year_2019.index.tolist()\n",
    "y = price_year_2019.tolist()\n",
    "\n",
    "# plot line graph for axis1\n",
    "axis1.plot(x,y)\n",
    "# set titles and labels\n",
    "axis1.set(title=\"Price of Airbnb in 2019\", xlabel='Month',ylabel='Price')\n",
    "\n",
    "\n",
    "\n",
    "# Airbnb price in 2020 to axis2\n",
    "# set x axis and y axis for axis2\n",
    "x = price_year_2020.index.tolist()\n",
    "y = price_year_2020.tolist()\n",
    "\n",
    "# plot line graph for axis2\n",
    "axis2.plot(x,y)\n",
    "# set titles and labels\n",
    "axis2.set(title=\"Price of Airbnb in 2020\", xlabel='Month',ylabel='Price')\n",
    "\n",
    "# Airbnb price in 2021 to axis3\n",
    "# set x axis and y axis for axis3\n",
    "x = price_year_2021.index.tolist()\n",
    "y = price_year_2021.tolist()\n",
    "\n",
    "# plot line graph for axis3\n",
    "axis3.plot(x,y)\n",
    "# set titles and labels\n",
    "axis3.set(title=\"Price of Airbnb in 2021\", xlabel='Month',ylabel='Price')\n",
    "\n",
    "# Airbnb price in 2020 to axis4\n",
    "# set x axis and y axis for axis4\n",
    "x = price_year_2022.index.tolist()\n",
    "y = price_year_2022.tolist()\n",
    "\n",
    "# plot line graph for axis4\n",
    "axis4.plot(x,y)\n",
    "# set titles and labels\n",
    "axis4.set(title=\"Price of Airbnb in 2022\", xlabel='Month',ylabel='Price')\n",
    "\n",
    "# set space between the subplots\n",
    "plt.subplots_adjust(left=0.1,\n",
    "                    bottom=0.1,\n",
    "                    right=0.9,\n",
    "                    top=0.9,\n",
    "                    wspace=0.4,\n",
    "                    hspace=0.4)\n",
    "                   \n",
    "\n",
    "# show graph\n",
    "plt.show()\n",
    "# save gragh\n",
    "# fig.savefig('Airbnb prices from 2019 - 2022.png')"
   ]
  },
  {
   "cell_type": "code",
   "execution_count": null,
   "id": "db48fb72",
   "metadata": {},
   "outputs": [],
   "source": []
  },
  {
   "cell_type": "code",
   "execution_count": null,
   "id": "a3990515",
   "metadata": {},
   "outputs": [],
   "source": [
    "import pandas as pd\n",
    "\n",
    "file_path = \"Data/Airbnb_UK_2022.csv\"\n",
    "# would you still want to explore more on the csv file?\n",
    "# load the dataset if yes\n",
    "airbnb_dataset =  pd.read_csv(file_path)\n",
    "airbnb_dataset.columns"
   ]
  },
  {
   "cell_type": "code",
   "execution_count": null,
   "id": "9b3d77f0",
   "metadata": {},
   "outputs": [],
   "source": [
    "airbnb_dataset[\"property_type\"].unique()"
   ]
  },
  {
   "cell_type": "code",
   "execution_count": null,
   "id": "953d1802",
   "metadata": {},
   "outputs": [],
   "source": [
    "airbnb_dataset.dtypes\n"
   ]
  },
  {
   "cell_type": "code",
   "execution_count": null,
   "id": "9f97ab0a",
   "metadata": {},
   "outputs": [],
   "source": [
    "airbnb_dataset[\"review_scores_rating\"]"
   ]
  },
  {
   "cell_type": "code",
   "execution_count": null,
   "id": "efd76cfd",
   "metadata": {},
   "outputs": [],
   "source": [
    "airbnb_dataset[\"host_is_superhost\"]"
   ]
  },
  {
   "cell_type": "code",
   "execution_count": null,
   "id": "5fbbd91c",
   "metadata": {},
   "outputs": [],
   "source": [
    "# airbnb_dataset[[\"review_scores_value\", \"maximum_nights\"]]\n",
    "x = airbnb_dataset[\"review_scores_value\"]\n",
    "y = airbnb_dataset[\"maximum_nights\"]"
   ]
  },
  {
   "cell_type": "code",
   "execution_count": null,
   "id": "cb63627d",
   "metadata": {},
   "outputs": [],
   "source": [
    "# airbnb_dataset[[\"review_scores_value\", \"minimum_nights\"]]\n",
    "x = airbnb_dataset[\"review_scores_value\"]\n",
    "y = airbnb_dataset[\"minimum_nights\"]"
   ]
  },
  {
   "cell_type": "code",
   "execution_count": null,
   "id": "66ba1c28",
   "metadata": {},
   "outputs": [],
   "source": [
    "# location and price\n",
    "# x = airbnb_dataset[\"host_location\"]\n",
    "host_location_group = airbnb_dataset.groupby(\"host_location\").size()\n",
    "# num_listing_room_type = room_type_group.tolist()\n",
    "x = host_location_group.index.tolist()\n",
    "\n",
    "\n",
    "host_location_group = airbnb_dataset.groupby(\"host_location\")[\"price\"].size()\n",
    "y = airbnb_dataset[\"price\"].mean()\n",
    "\n",
    "\n",
    "# fig = plt.figure(figsize=(15,8))\n",
    "\n",
    "# plt.bar(x,y)\n",
    "# # label\n",
    "# plt.xlabel(\"Room Type\")\n",
    "# plt.ylabel(\"Number of Listing\")\n",
    "#     # set title\n",
    "# plt.title(\"Number of Listing for Each Room Type\")\n",
    "#     #show the graph\n",
    "# plt.show()"
   ]
  },
  {
   "cell_type": "code",
   "execution_count": null,
   "id": "9e7089f0",
   "metadata": {},
   "outputs": [],
   "source": []
  },
  {
   "cell_type": "code",
   "execution_count": null,
   "id": "11ac0b2c",
   "metadata": {},
   "outputs": [],
   "source": [
    "# Display the relationship between accommodates and price using scatter plot\n",
    "fig = plt.figure(figsize=(15,8)) #Create figure object and set up the size of figure\n",
    "\n",
    "# accommodates = airbnb_dataset[\"accommodates\"]\n",
    "# price = airbnb_dataset[\"price\"]\n",
    "\n",
    "# plot\n",
    "plt.scatter(x, y)\n",
    "plt.xlabel('review_scores_value')\n",
    "plt.ylabel('minimum_nights')\n",
    "plt.title('r vs n')\n",
    "plt.show()"
   ]
  },
  {
   "cell_type": "code",
   "execution_count": null,
   "id": "38c71c65",
   "metadata": {},
   "outputs": [],
   "source": [
    "# own selection for question c\n",
    "# group the year by month and sum the prices\n",
    "review_year_2019 = year_2019.groupby(year_2019.host_since.dt.month)[\"review_scores_rating\"].mean()\n",
    "review_year_2020 = year_2020.groupby(year_2020.host_since.dt.month)[\"review_scores_rating\"].mean()\n",
    "review_year_2021 = year_2021.groupby(year_2021.host_since.dt.month)[\"review_scores_rating\"].mean()\n",
    "review_year_2022 = year_2022.groupby(year_2022.host_since.dt.month)[\"review_scores_rating\"].mean()"
   ]
  },
  {
   "cell_type": "code",
   "execution_count": null,
   "id": "89a8fb67",
   "metadata": {},
   "outputs": [],
   "source": [
    "x = review_year_2019.index.tolist()\n",
    "y1 = review_year_2019.tolist()\n",
    "y2 = review_year_2020.tolist()\n",
    "y3 = review_year_2021.tolist()\n",
    "y4 = review_year_2022.tolist()\n",
    "y = [y1,y2,y3,y4]\n",
    "fig = plt.figure(figsize=(30,8))\n",
    "\n",
    "for i in range(len(y)):\n",
    "    plt.plot(x,y[i],'o-',label=years[i])\n",
    "\n",
    "plt.xlabel('Months')\n",
    "plt.ylabel('Review Score Rating')\n",
    "plt.title('Best Months to Use Airbnb Based on Review Score Rating from 2019 to 2022')\n",
    "plt.legend()\n",
    "plt.show()"
   ]
  },
  {
   "cell_type": "code",
   "execution_count": null,
   "id": "77580f6f",
   "metadata": {},
   "outputs": [],
   "source": [
    "# airbnb_dataset[[\"review_scores_value\", \"maximum_nights\"]]\n",
    "fig = plt.figure(figsize=(12,4))\n",
    "x = airbnb_dataset[\"review_scores_accuracy\"]\n",
    "y = airbnb_dataset[\"minimum_nights\"]\n",
    "plt.scatter(x,y)\n",
    "plt.show()"
   ]
  },
  {
   "cell_type": "code",
   "execution_count": null,
   "id": "08b21f5e",
   "metadata": {},
   "outputs": [],
   "source": [
    "# airbnb_dataset[[\"review_scores_value\", \"maximum_nights\"]]\n",
    "fig = plt.figure(figsize=(12,4))\n",
    "x = airbnb_dataset[\"review_scores_cleanliness\"]\n",
    "y = airbnb_dataset[\"minimum_nights\"]\n",
    "plt.scatter(x,y)\n",
    "plt.show()"
   ]
  },
  {
   "cell_type": "code",
   "execution_count": null,
   "id": "113d1208",
   "metadata": {},
   "outputs": [],
   "source": [
    "# airbnb_dataset[[\"review_scores_value\", \"maximum_nights\"]]\n",
    "fig = plt.figure(figsize=(12,4))\n",
    "x = airbnb_dataset[\"review_scores_checkin\"]\n",
    "y = airbnb_dataset[\"minimum_nights\"]\n",
    "plt.scatter(x,y)\n",
    "plt.show()"
   ]
  },
  {
   "cell_type": "code",
   "execution_count": null,
   "id": "cbab4124",
   "metadata": {},
   "outputs": [],
   "source": [
    "# airbnb_dataset[[\"review_scores_value\", \"maximum_nights\"]]\n",
    "fig = plt.figure(figsize=(12,4))\n",
    "x = airbnb_dataset[\"review_scores_communication\"]\n",
    "y = airbnb_dataset[\"minimum_nights\"]\n",
    "plt.scatter(x,y)\n",
    "plt.show()"
   ]
  },
  {
   "cell_type": "code",
   "execution_count": null,
   "id": "efff2a96",
   "metadata": {},
   "outputs": [],
   "source": [
    "# airbnb_dataset[[\"review_scores_value\", \"maximum_nights\"]]\n",
    "fig = plt.figure(figsize=(12,4))\n",
    "x = airbnb_dataset[\"review_scores_location\"]\n",
    "y = airbnb_dataset[\"minimum_nights\"]\n",
    "plt.scatter(x,y)\n",
    "plt.show()"
   ]
  },
  {
   "cell_type": "code",
   "execution_count": null,
   "id": "97854340",
   "metadata": {},
   "outputs": [],
   "source": [
    "# airbnb_dataset[\"description\"]\n",
    "# a = \"TRUE\"\n",
    "# a.upper()\n",
    "desc = []\n",
    "if airbnb_dataset.query(\"host_is_superhost == True\"):\n",
    "    for i in airbnb_dataset[\"description\"]:\n",
    "        desc.append(i)\n",
    "# if airbnb_dataset[\"host_is_superhost\"] == True:\n",
    "#     desc.append(airbnb_dataset[\"description\"]) \n",
    "# print(desc)\n",
    "desc\n",
    "\n",
    "\n",
    "a = airbnb_dataset.query(\"host_is_superhost == True\")"
   ]
  },
  {
   "cell_type": "code",
   "execution_count": null,
   "id": "e6354d28",
   "metadata": {},
   "outputs": [],
   "source": [
    "# own selection for question c\n",
    "def own_selection_c(airbnb_dataset):\n",
    "    # filter year 2019\n",
    "    year_2019 = airbnb_dataset.query(\"host_since >= '2019-01-01' and host_since <= '2019-12-31'\")\n",
    "    # filter year 2020\n",
    "    year_2020 = airbnb_dataset.query(\"host_since >= '2020-01-01' and host_since <= '2020-12-31'\")\n",
    "    # filter year 2021\n",
    "    year_2021 = airbnb_dataset.query(\"host_since >= '2021-01-01' and host_since <= '2021-12-31'\")\n",
    "    # filter year 2022\n",
    "    year_2022 = airbnb_dataset.query(\"host_since >= '2022-01-01' and host_since <= '2022-12-31'\")\n",
    "\n",
    "    # group the year by month and get the mean of the review_scores_rating\n",
    "    review_year_2019 = year_2019.groupby(year_2019.host_since.dt.month)[\"review_scores_rating\"].mean()\n",
    "    review_year_2020 = year_2020.groupby(year_2020.host_since.dt.month)[\"review_scores_rating\"].mean()\n",
    "    review_year_2021 = year_2021.groupby(year_2021.host_since.dt.month)[\"review_scores_rating\"].mean()\n",
    "    review_year_2022 = year_2022.groupby(year_2022.host_since.dt.month)[\"review_scores_rating\"].mean()   \n",
    "\n",
    "    # adjust subplots\n",
    "    plt.subplots_adjust(wspace=0.3,hspace=0.5)\n",
    "    # create subplots\n",
    "    fig = plt.figure(figsize=(25,20))\n",
    "    #Add title for entire figure\n",
    "    fig.suptitle(\"Customer behaviours\")\n",
    "    \n",
    "    #create the axis\n",
    "    ax1 = fig.add_subplot(4,1,1)\n",
    "    ax2 = fig.add_subplot(4,3,4)\n",
    "    ax3 = fig.add_subplot(4,3,5)\n",
    "    ax4 = fig.add_subplot(4,3,6)\n",
    "    ax5 = fig.add_subplot(4,2,5)\n",
    "    ax6 = fig.add_subplot(4,2,6)\n",
    "    ax7 = fig.add_subplot(4,1,4)\n",
    "\n",
    "    # data for ax1\n",
    "    x = review_year_2019.index.tolist()\n",
    "    y1 = review_year_2019.tolist()\n",
    "    y2 = review_year_2020.tolist()\n",
    "    y3 = review_year_2021.tolist()\n",
    "    y4 = review_year_2022.tolist()\n",
    "    y = [y1,y2,y3,y4]\n",
    "    # plot line graph for axis1\n",
    "    \n",
    "    for i in range(len(y)):\n",
    "        years = [2019, 2020, 2021, 2022]\n",
    "        ax1.plot(x,y[i],'o-',label=years[i])\n",
    "\n",
    "    # set titles and labels\n",
    "    ax1.set(title=\"Best Months to Use Airbnb Based on Review Score Rating from 2019 to 2022\",xlabel='Months',ylabel='Review Score Rating')\n",
    "\n",
    "    # axis 2\n",
    "    # airbnb_dataset[[\"review_scores_accuracy\", \"minimum_nights\"]]\n",
    "    x = airbnb_dataset[\"review_scores_accuracy\"]\n",
    "    y = airbnb_dataset[\"minimum_nights\"]\n",
    "    ax2.scatter(x,y)\n",
    "    # set titles and labels\n",
    "    ax2.set(title=\"Relationship b/w Review Scores Accuracy and Minimum Nights\", xlabel='Review Scores Accuracy',ylabel='Minimum Nights')\n",
    "\n",
    "    # axis 3\n",
    "    # airbnb_dataset[[\"review_scores_cleanliness\", \"minimum_nights\"]]\n",
    "    x = airbnb_dataset[\"review_scores_cleanliness\"]\n",
    "    y = airbnb_dataset[\"minimum_nights\"]\n",
    "    ax3.scatter(x,y)\n",
    "    ax3.set(title=\"Relationship b/w Review Scores Cleanliness and Minimum Nights\", xlabel='Review Scores Cleanliness',ylabel='Minimum Nights')\n",
    "\n",
    "    # axis 4\n",
    "    # airbnb_dataset[[\"review_scores_checkin\", \"minimum_nights\"]]\n",
    "    x = airbnb_dataset[\"review_scores_checkin\"]\n",
    "    y = airbnb_dataset[\"minimum_nights\"]\n",
    "    ax4.scatter(x,y)\n",
    "    ax4.set(title=\"Relationship b/w Review Scores Checkin and Minimum Nights\", xlabel='Review Scores Checkin',ylabel='Minimum Nights')\n",
    "\n",
    "    # axis 5\n",
    "    # airbnb_dataset[[\"review_scores_communication\", \"minimum_nights\"]]\n",
    "    x = airbnb_dataset[\"review_scores_communication\"]\n",
    "    y = airbnb_dataset[\"minimum_nights\"]\n",
    "    ax5.scatter(x,y)\n",
    "    ax5.set(title=\"Relationship b/w Review Scores Communication and Minimum Nights\", xlabel='Review Scores Communication',ylabel='Minimum Nights')\n",
    "\n",
    "    # axis 6\n",
    "    # airbnb_dataset[[\"review_scores_location\", \"minimum_nights\"]]\n",
    "    x = airbnb_dataset[\"review_scores_location\"]\n",
    "    y = airbnb_dataset[\"minimum_nights\"]\n",
    "    ax6.scatter(x,y)\n",
    "    ax6.set(title=\"Relationship b/w Review Scores Location and Minimum Nights\", xlabel='Review Scores Location',ylabel='Minimum Nights')\n",
    "\n",
    "\n",
    "    # show the graph\n",
    "    plt.show()"
   ]
  },
  {
   "cell_type": "code",
   "execution_count": null,
   "id": "aa4498de",
   "metadata": {},
   "outputs": [],
   "source": []
  },
  {
   "cell_type": "code",
   "execution_count": null,
   "id": "fe00d598",
   "metadata": {},
   "outputs": [],
   "source": [
    "own_selection_c(airbnb_dataset)"
   ]
  },
  {
   "cell_type": "code",
   "execution_count": null,
   "id": "8b89c89c",
   "metadata": {},
   "outputs": [],
   "source": [
    "           users_selection5 = airbnb_tui.menu4()\n",
    "#                 if users_selection5 == \"Yes\":\n",
    "#                     airbnb_process.merge(bedroom_list, num_bedroom_list)\n",
    "#                 elif users_selection5 == \"No\":\n",
    "#                     break\n",
    "                airbnb_plot.proportion_bedrooms(df_airbnb)\n",
    "                airbnb_tui.end()\n",
    "            elif users_selection4 == 2:\n",
    "                airbnb_tui.displays_c()\n",
    "                display.Image(airbnb_plot.num_listings_roomtype(df_airbnb))\n",
    "                airbnb_tui.end()\n",
    "            elif users_selection4 == 3:\n",
    "                airbnb_tui.displays_c()\n",
    "                display.Image(airbnb_plot.accommodates_and_price(df_airbnb))\n",
    "                airbnb_tui.end()\n",
    "            elif users_selection4 == 4:\n",
    "                airbnb_tui.displays_c()\n",
    "                display.Image(airbnb_plot.prices_per_year(df_airbnb))\n",
    "                airbnb_tui.end()\n",
    "            elif users_selection4 == 5:\n",
    "                airbnb_tui.displays_c()\n",
    "                display.Image(airbnb_plot.own_selection_c(df_airbnb))\n",
    "                airbnb_tui.end()\n",
    "            elif users_selection4 == 0:\n",
    "                break \n",
    "         \n",
    "        if users_selection1 == \"EXIT\":\n",
    "            break"
   ]
  },
  {
   "cell_type": "code",
   "execution_count": null,
   "id": "672771f0",
   "metadata": {},
   "outputs": [],
   "source": [
    "def menu1():\n",
    "    while True:\n",
    "        try:\n",
    "            print(f\"{line_separator}\\n\")\n",
    "            print(\"Enter 1 to to identify the top 10 most popular amenities or features that Airbnb hosts provide to customer.\\n\")\n",
    "            print(\"Enter 2 to analyse the average price of stay in each location.\\n\")\n",
    "            print(\"Enter 3 to analyse the average review scores rating for each location.\\n\")\n",
    "            print(\"Enter 4 to analyse to the overall score rating and price based on location.\\n\")\n",
    "            print(\"Enter Exit to exit\")\n",
    "            print(f\"{line_separator}\\n\")\n",
    "    \n",
    "        \n",
    "            choice = input().strip().lower()\n",
    "            \n",
    "            if choice == '1':\n",
    "                print(f\"Identifying the top 10 most popular amenities or features that Airbnb hosts provide to customer.\\n{line_separator}\\n\")\n",
    "                break\n",
    "\n",
    "            if choice == '2':\n",
    "                print(f\"Analysing the average price of stay in each location.\\n{line_separator}\\n\")\n",
    "                break\n",
    "\n",
    "            if choice == '3':\n",
    "                print(f\"Analysing the average review scores rating for each location.\\n {line_separator}\\n\")\n",
    "                break\n",
    "\n",
    "            if choice == '4':\n",
    "                print(f\"Retrieving the overall score rating and price based on location.\\n{line_separator}\\n\")\n",
    "                break\n",
    "\n",
    "            if choice == 'exit':\n",
    "                break\n",
    "            \n",
    "            while choice not in ['1','2','3','4','exit']:\n",
    "                print(\"Enter 1, 2, 3, 4 or Exit\")\n",
    "                break\n",
    "                #choice = int(input().strip())\n",
    "        except ValueError:\n",
    "            print(\"The input was not a valid input.\")\n",
    "\n",
    "    return choice\n",
    "        "
   ]
  },
  {
   "cell_type": "code",
   "execution_count": null,
   "id": "dee53101",
   "metadata": {},
   "outputs": [],
   "source": [
    "float(\"99.5%\".replace('%', 'e-0'))"
   ]
  },
  {
   "cell_type": "code",
   "execution_count": null,
   "id": "8e53b192",
   "metadata": {},
   "outputs": [],
   "source": []
  }
 ],
 "metadata": {
  "kernelspec": {
   "display_name": "Python 3 (ipykernel)",
   "language": "python",
   "name": "python3"
  },
  "language_info": {
   "codemirror_mode": {
    "name": "ipython",
    "version": 3
   },
   "file_extension": ".py",
   "mimetype": "text/x-python",
   "name": "python",
   "nbconvert_exporter": "python",
   "pygments_lexer": "ipython3",
   "version": "3.9.12"
  }
 },
 "nbformat": 4,
 "nbformat_minor": 5
}
