{
 "cells": [
  {
   "cell_type": "code",
   "execution_count": 1,
   "id": "6d8c29a9",
   "metadata": {
    "scrolled": false
   },
   "outputs": [
    {
     "data": {
      "text/html": [
       "<div>\n",
       "<style scoped>\n",
       "    .dataframe tbody tr th:only-of-type {\n",
       "        vertical-align: middle;\n",
       "    }\n",
       "\n",
       "    .dataframe tbody tr th {\n",
       "        vertical-align: top;\n",
       "    }\n",
       "\n",
       "    .dataframe thead th {\n",
       "        text-align: right;\n",
       "    }\n",
       "</style>\n",
       "<table border=\"1\" class=\"dataframe\">\n",
       "  <thead>\n",
       "    <tr style=\"text-align: right;\">\n",
       "      <th></th>\n",
       "      <th>host_id</th>\n",
       "      <th>name</th>\n",
       "      <th>description</th>\n",
       "      <th>host_name</th>\n",
       "      <th>host_since</th>\n",
       "      <th>host_location</th>\n",
       "      <th>host_response_time</th>\n",
       "      <th>host_response_rate</th>\n",
       "      <th>host_acceptance_rate</th>\n",
       "      <th>host_is_superhost</th>\n",
       "      <th>...</th>\n",
       "      <th>number_of_reviews</th>\n",
       "      <th>first_review</th>\n",
       "      <th>last_review</th>\n",
       "      <th>review_scores_rating</th>\n",
       "      <th>review_scores_accuracy</th>\n",
       "      <th>review_scores_cleanliness</th>\n",
       "      <th>review_scores_checkin</th>\n",
       "      <th>review_scores_communication</th>\n",
       "      <th>review_scores_location</th>\n",
       "      <th>review_scores_value</th>\n",
       "    </tr>\n",
       "  </thead>\n",
       "  <tbody>\n",
       "    <tr>\n",
       "      <th>0</th>\n",
       "      <td>60302</td>\n",
       "      <td>Bright Chelsea  Apartment. Chelsea!</td>\n",
       "      <td>lots of windows and light  st luke s gardens a...</td>\n",
       "      <td>Philippa</td>\n",
       "      <td>05-12-09</td>\n",
       "      <td>Kensington</td>\n",
       "      <td>within an hour</td>\n",
       "      <td>67%</td>\n",
       "      <td>29%</td>\n",
       "      <td>False</td>\n",
       "      <td>...</td>\n",
       "      <td>89</td>\n",
       "      <td>21-12-09</td>\n",
       "      <td>16-03-20</td>\n",
       "      <td>4.79</td>\n",
       "      <td>4.84</td>\n",
       "      <td>4.88</td>\n",
       "      <td>4.87</td>\n",
       "      <td>4.82</td>\n",
       "      <td>4.93</td>\n",
       "      <td>4.73</td>\n",
       "    </tr>\n",
       "    <tr>\n",
       "      <th>1</th>\n",
       "      <td>554519</td>\n",
       "      <td>JESSIE the narrowboat in Little Venice</td>\n",
       "      <td>jessie the narrowboat is moored in the heart o...</td>\n",
       "      <td>Meg</td>\n",
       "      <td>03-05-11</td>\n",
       "      <td>London</td>\n",
       "      <td>within an hour</td>\n",
       "      <td>100%</td>\n",
       "      <td>100%</td>\n",
       "      <td>True</td>\n",
       "      <td>...</td>\n",
       "      <td>581</td>\n",
       "      <td>04-07-11</td>\n",
       "      <td>02-09-22</td>\n",
       "      <td>4.91</td>\n",
       "      <td>4.94</td>\n",
       "      <td>4.90</td>\n",
       "      <td>4.97</td>\n",
       "      <td>4.96</td>\n",
       "      <td>4.98</td>\n",
       "      <td>4.77</td>\n",
       "    </tr>\n",
       "  </tbody>\n",
       "</table>\n",
       "<p>2 rows × 34 columns</p>\n",
       "</div>"
      ],
      "text/plain": [
       "   host_id                                    name  \\\n",
       "0    60302     Bright Chelsea  Apartment. Chelsea!   \n",
       "1   554519  JESSIE the narrowboat in Little Venice   \n",
       "\n",
       "                                         description host_name host_since  \\\n",
       "0  lots of windows and light  st luke s gardens a...  Philippa   05-12-09   \n",
       "1  jessie the narrowboat is moored in the heart o...       Meg   03-05-11   \n",
       "\n",
       "  host_location host_response_time host_response_rate host_acceptance_rate  \\\n",
       "0    Kensington     within an hour                67%                  29%   \n",
       "1        London     within an hour               100%                 100%   \n",
       "\n",
       "   host_is_superhost  ...  number_of_reviews first_review  last_review  \\\n",
       "0              False  ...                 89     21-12-09     16-03-20   \n",
       "1               True  ...                581     04-07-11     02-09-22   \n",
       "\n",
       "  review_scores_rating review_scores_accuracy  review_scores_cleanliness  \\\n",
       "0                 4.79                   4.84                       4.88   \n",
       "1                 4.91                   4.94                       4.90   \n",
       "\n",
       "  review_scores_checkin  review_scores_communication  review_scores_location  \\\n",
       "0                  4.87                         4.82                    4.93   \n",
       "1                  4.97                         4.96                    4.98   \n",
       "\n",
       "  review_scores_value  \n",
       "0                4.73  \n",
       "1                4.77  \n",
       "\n",
       "[2 rows x 34 columns]"
      ]
     },
     "execution_count": 1,
     "metadata": {},
     "output_type": "execute_result"
    }
   ],
   "source": [
    "import pandas as pd\n",
    "\n",
    "file_path = \"Data/Airbnb_UK_2022.csv\"\n",
    "# would you still want to explore more on the csv file?\n",
    "# load the dataset if yes\n",
    "airbnb_dataset =  pd.read_csv(file_path)\n",
    "airbnb_dataset.head(2)"
   ]
  },
  {
   "cell_type": "code",
   "execution_count": 2,
   "id": "24cc93bd",
   "metadata": {},
   "outputs": [
    {
     "data": {
      "text/plain": [
       "dtype('int64')"
      ]
     },
     "execution_count": 2,
     "metadata": {},
     "output_type": "execute_result"
    }
   ],
   "source": [
    "airbnb_dataset[\"price\"].dtypes"
   ]
  },
  {
   "cell_type": "code",
   "execution_count": 3,
   "id": "33aadb14",
   "metadata": {},
   "outputs": [
    {
     "data": {
      "text/plain": [
       "Index(['host_id', 'name', 'description', 'host_name', 'host_since',\n",
       "       'host_location', 'host_response_time', 'host_response_rate',\n",
       "       'host_acceptance_rate', 'host_is_superhost',\n",
       "       'host_total_listings_count', 'host_verifications',\n",
       "       'host_identity_verified', 'property_type', 'room_type', 'accommodates',\n",
       "       'bathrooms_text', 'bedrooms', 'beds', 'amenities', 'price',\n",
       "       'minimum_nights', 'maximum_nights', 'instant_bookable',\n",
       "       'number_of_reviews', 'first_review', 'last_review',\n",
       "       'review_scores_rating', 'review_scores_accuracy',\n",
       "       'review_scores_cleanliness', 'review_scores_checkin',\n",
       "       'review_scores_communication', 'review_scores_location',\n",
       "       'review_scores_value'],\n",
       "      dtype='object')"
      ]
     },
     "execution_count": 3,
     "metadata": {},
     "output_type": "execute_result"
    }
   ],
   "source": [
    "airbnb_dataset.columns\n"
   ]
  },
  {
   "cell_type": "code",
   "execution_count": 4,
   "id": "012a3953",
   "metadata": {},
   "outputs": [
    {
     "ename": "NameError",
     "evalue": "name 'df_airbnb' is not defined",
     "output_type": "error",
     "traceback": [
      "\u001b[1;31m---------------------------------------------------------------------------\u001b[0m",
      "\u001b[1;31mNameError\u001b[0m                                 Traceback (most recent call last)",
      "Input \u001b[1;32mIn [4]\u001b[0m, in \u001b[0;36m<cell line: 2>\u001b[1;34m()\u001b[0m\n\u001b[0;32m      1\u001b[0m \u001b[38;5;28;01mimport\u001b[39;00m \u001b[38;5;21;01mairbnb_process\u001b[39;00m\n\u001b[1;32m----> 2\u001b[0m airbnb_process\u001b[38;5;241m.\u001b[39maverage_review_score(\u001b[43mdf_airbnb\u001b[49m)\n",
      "\u001b[1;31mNameError\u001b[0m: name 'df_airbnb' is not defined"
     ]
    }
   ],
   "source": [
    "import airbnb_process\n",
    "airbnb_process.average_review_score(df_airbnb)\n"
   ]
  },
  {
   "cell_type": "code",
   "execution_count": null,
   "id": "f6c62ae6",
   "metadata": {},
   "outputs": [],
   "source": [
    "airbnb_dataset[[\"host_id\",\"price\",\"minimum_nights\",\"maximum_nights\"]]"
   ]
  },
  {
   "cell_type": "code",
   "execution_count": null,
   "id": "ba519152",
   "metadata": {},
   "outputs": [],
   "source": [
    "amenities = airbnb_dataset['amenities'].to_list() #convert to list\n",
    "\n",
    "amenities[6]\n",
    "# type(amenities)"
   ]
  },
  {
   "cell_type": "code",
   "execution_count": null,
   "id": "26369902",
   "metadata": {},
   "outputs": [],
   "source": [
    "# for i in amenities:\n",
    "#     eval(i)\n",
    "\n",
    "amenities = [eval(i) for i in amenities] #the previous function returns the list as a string,hence eval\n",
    "amenities\n"
   ]
  },
  {
   "cell_type": "code",
   "execution_count": null,
   "id": "a340bde6",
   "metadata": {},
   "outputs": [],
   "source": [
    "import numpy as np\n",
    "pd.value_counts(np.array(amenities))"
   ]
  },
  {
   "cell_type": "code",
   "execution_count": null,
   "id": "78135128",
   "metadata": {},
   "outputs": [],
   "source": [
    "# created a big list and appended all the items in the amenities into it.\n",
    "amenities_list = []\n",
    "\n",
    "for i in amenities:\n",
    "    amenities_list.extend(i)\n",
    "    \n",
    "    \n",
    "amenities_list\n",
    "    "
   ]
  },
  {
   "cell_type": "code",
   "execution_count": null,
   "id": "e4a44453",
   "metadata": {},
   "outputs": [],
   "source": [
    "unique_items = set(amenities_list) #checking for unique items\n",
    "unique_items_count = len(unique_items)\n",
    "unique_items_count"
   ]
  },
  {
   "cell_type": "code",
   "execution_count": null,
   "id": "c43925e0",
   "metadata": {},
   "outputs": [],
   "source": [
    "import numpy as np\n",
    "pd.value_counts(np.array(amenities_list))"
   ]
  },
  {
   "cell_type": "code",
   "execution_count": null,
   "id": "9b448910",
   "metadata": {},
   "outputs": [],
   "source": [
    "pd.Series(amenities_list).value_counts()"
   ]
  },
  {
   "cell_type": "code",
   "execution_count": null,
   "id": "b8138111",
   "metadata": {},
   "outputs": [],
   "source": [
    "def top_10_amenities():\n",
    "    amenities = airbnb_dataset['amenities'].to_list()\n",
    "    amenities = [eval(i) for i in amenities] #the previous function returns the list as a string, hence eval\n",
    "\n",
    "    # created a big list and appended all the items in the amenities into it.\n",
    "    amenities_list = []\n",
    "    for i in amenities:\n",
    "        amenities_list.extend(i)\n",
    "\n",
    "    # turn the list into a pandas series and count all items    \n",
    "    count = pd.Series(amenities_list).value_counts().head(10)\n",
    "    \n",
    "    # display nicely to the user\n",
    "    print(\"These are the top 10 amenities provided by the hosts.\\n\")\n",
    "    print(f\"Top 1: Smoke alarm was provided by {count[0]} hosts.\\n\")\n",
    "    print(f\"Top 2: Kitchen was provided by {count[1]} hosts.\\n\")\n",
    "    print(f\"Top 3: Essentials was provided by {count[2]} hosts.\\n\")\n",
    "    print(f\"Top 4: Wifi was provided by {count[3]} hosts.\\n\")\n",
    "    print(f\"Top 5: Iron was provided by {count[4]} hosts.\\n\")\n",
    "    print(f\"Top 6: Hangers was provided by {count[5]} hosts.\\n\")\n",
    "    print(f\"Top 7: Hot water was provided by {count[6]} hosts.\\n\")\n",
    "    print(f\"Top 8: Long term stays allowed was provided by {count[7]} hosts.\\n\")\n",
    "    print(f\"Top 9: Dishes and silverware was provided by {count[8]} hosts.\\n\")\n",
    "    print(f\"Top 10: Hair dryer was provided by {count[9]} hosts.\")\n",
    "\n",
    "top_10_amenities()"
   ]
  },
  {
   "cell_type": "code",
   "execution_count": null,
   "id": "779b8bc2",
   "metadata": {},
   "outputs": [],
   "source": [
    "import matplotlib.pyplot as plt\n",
    "def plot_amenities():\n",
    "    count = pd.Series(amenities_list).value_counts().head(10)\n",
    "    \n",
    "    amenities = [\"Smoke alarm\", \"Kitchen\", \"Essentials\", \"Wifi\", \"Iron\", \"Hangers\", \"Hot water\", \"Long stays\", \"Dishes & silverware\", \"Hair dryer\"]\n",
    "    count = [count[0], count[1], count[2], count[3], count[4], count[5], count[6], count[7], count[8], count[9]]\n",
    "    \n",
    "    fig = plt.figure(figsize=(18,8))\n",
    "\n",
    "    plt.barh(amenities, count, color=\"blue\")\n",
    "\n",
    "    plt.xlabel(\"Amenities\")\n",
    "    plt.ylabel(\"Count\")\n",
    "\n",
    "    plt.title(\"Top Ten Amenities Provided by Hosts\")\n",
    "\n",
    "    plt.show() \n",
    "    \n",
    "plot_amenities()"
   ]
  },
  {
   "cell_type": "code",
   "execution_count": null,
   "id": "4da05efc",
   "metadata": {},
   "outputs": [],
   "source": [
    "def amenities_count(amenities_list):\n",
    "    amenities_listss = []\n",
    "    for i in amenities_list:\n",
    "        i.split()\n",
    "        amenities_listss.append(i)\n",
    "        for word in amenities_listss:\n",
    "            count = amenities_listss.count(word)\n",
    "            return count"
   ]
  },
  {
   "cell_type": "code",
   "execution_count": null,
   "id": "765cfc6e",
   "metadata": {},
   "outputs": [],
   "source": [
    "print(amenities_count(amenities_list))"
   ]
  },
  {
   "cell_type": "code",
   "execution_count": null,
   "id": "1922048a",
   "metadata": {},
   "outputs": [],
   "source": [
    "def amenities_count(amenities_list):\n",
    "#     count = []\n",
    "    for word in words:\n",
    "        count = words.count(word)\n",
    "    return count"
   ]
  },
  {
   "cell_type": "code",
   "execution_count": null,
   "id": "805d5637",
   "metadata": {},
   "outputs": [],
   "source": [
    "amenities_list = []\n",
    "ini = [[2,3], [4,5]]\n",
    "\n",
    "for i in ini:\n",
    "    amenities_list.extend(i)\n",
    "amenities_list"
   ]
  },
  {
   "cell_type": "code",
   "execution_count": null,
   "id": "68d8f1cc",
   "metadata": {},
   "outputs": [],
   "source": [
    "# average price per stay in each location\n",
    "airbnb_dataset[[\"host_id\",\"price\",\"minimum_nights\",\"maximum_nights\", \"host_location\"]]\n"
   ]
  },
  {
   "cell_type": "code",
   "execution_count": null,
   "id": "c473ce6c",
   "metadata": {},
   "outputs": [],
   "source": [
    "airbnb_dataset.groupby([\"host_location\", \"price\"])[[\"maximum_nights\",\"minimum_nights\"]].count()\n",
    "# not need by the question"
   ]
  },
  {
   "cell_type": "code",
   "execution_count": null,
   "id": "1df23264",
   "metadata": {},
   "outputs": [],
   "source": [
    "airbnb_dataset.groupby(\"host_location\")[[\"price\",\"maximum_nights\",\"minimum_nights\"]].count()"
   ]
  },
  {
   "cell_type": "code",
   "execution_count": null,
   "id": "062db08d",
   "metadata": {},
   "outputs": [],
   "source": [
    "airbnb_dataset.groupby(\"host_location\")[[\"price\",\"maximum_nights\",\"minimum_nights\"]].mean()\n",
    "# find the city with the lowest and the highest and the highest price"
   ]
  },
  {
   "cell_type": "code",
   "execution_count": null,
   "id": "272360c7",
   "metadata": {},
   "outputs": [],
   "source": [
    "# average review scores rating for each location\n",
    "airbnb_dataset.groupby(\"host_location\")[\"review_scores_rating\"].mean()"
   ]
  },
  {
   "cell_type": "code",
   "execution_count": null,
   "id": "33f6678a",
   "metadata": {},
   "outputs": [],
   "source": [
    "airbnb_dataset.groupby(\"host_location\")[\"review_scores_rating\"].mean().max() #find which city"
   ]
  },
  {
   "cell_type": "code",
   "execution_count": null,
   "id": "f4069ac6",
   "metadata": {},
   "outputs": [],
   "source": [
    "airbnb_dataset.groupby(\"host_location\")[\"review_scores_rating\"].mean().describe() #this is the summary statistics"
   ]
  },
  {
   "cell_type": "code",
   "execution_count": null,
   "id": "0dc6504a",
   "metadata": {},
   "outputs": [],
   "source": [
    "airbnb_dataset.groupby(\"host_location\")[\"review_scores_rating\"].mean().min() # FIND WHICH CITY"
   ]
  },
  {
   "cell_type": "code",
   "execution_count": null,
   "id": "43f00210",
   "metadata": {},
   "outputs": [],
   "source": [
    "airbnb_dataset.head(2)"
   ]
  },
  {
   "cell_type": "code",
   "execution_count": null,
   "id": "e6d7c9f6",
   "metadata": {},
   "outputs": [],
   "source": [
    "airbnb_dataset_copy = airbnb_dataset.copy()\n",
    "airbnb_dataset_copy.head(1)"
   ]
  },
  {
   "cell_type": "code",
   "execution_count": null,
   "id": "149fb198",
   "metadata": {},
   "outputs": [],
   "source": [
    "airbnb_dataset_copy[\"overall_rating\"] = (airbnb_dataset[\"review_scores_rating\"]+airbnb_dataset[\"review_scores_accuracy\"]+airbnb_dataset[\"review_scores_cleanliness\"]+airbnb_dataset[\"review_scores_checkin\"]+airbnb_dataset[\"review_scores_communication\"]+airbnb_dataset[\"review_scores_location\"]+airbnb_dataset[\"review_scores_value\"])/7"
   ]
  },
  {
   "cell_type": "code",
   "execution_count": null,
   "id": "043b2b2d",
   "metadata": {},
   "outputs": [],
   "source": [
    "airbnb_dataset_copy[\"overall_rating\"]"
   ]
  },
  {
   "cell_type": "code",
   "execution_count": null,
   "id": "df5d0880",
   "metadata": {},
   "outputs": [],
   "source": [
    "best_price_rating = airbnb_dataset_copy.groupby([\"host_location\", \"room_type\"])[[\"overall_rating\", \"price\"]].mean().reset_index()\n",
    "best_price_rating.sort_values([\"price\", \"overall_rating\"], ascending=True, inplace=False)\n",
    "best_price_rating.head()"
   ]
  },
  {
   "cell_type": "code",
   "execution_count": null,
   "id": "6d452817",
   "metadata": {},
   "outputs": [],
   "source": [
    "location = input(\"Enter the location: \")\n",
    "\n",
    "s = best_price_rating.loc[best_price_rating[\"host_location\"] == location, :]\n",
    "s.style.background_gradient(cmap=\"Purples\", low=0.30)\n",
    "#.to_markdown(index=False)"
   ]
  },
  {
   "cell_type": "code",
   "execution_count": null,
   "id": "5abef74b",
   "metadata": {},
   "outputs": [],
   "source": [
    "# own selection for question b\n",
    "\"\"\"\n",
    "Function to take location from the user and return the room types available in the location and also calculate\n",
    "and display the overall rating for that room type and the average price for that room type.\n",
    "\"\"\"\n",
    "def best_rating_price():\n",
    "    # copy the airbnb dataset not to change the original dataset\n",
    "    airbnb_dataset_copy = airbnb_dataset.copy()\n",
    "    # calculate the overall rating based on all the ratings in the dataset\n",
    "    airbnb_dataset_copy[\"overall_rating\"] = (airbnb_dataset_copy[\"review_scores_rating\"]+airbnb_dataset_copy[\"review_scores_accuracy\"]+airbnb_dataset_copy[\"review_scores_cleanliness\"]+airbnb_dataset_copy[\"review_scores_checkin\"]+airbnb_dataset_copy[\"review_scores_communication\"]+airbnb_dataset_copy[\"review_scores_location\"]+airbnb_dataset_copy[\"review_scores_value\"])/7\n",
    "    # group by the location and room type and select the price and overall rating\n",
    "    best_price_rating = airbnb_dataset_copy.groupby([\"host_location\", \"room_type\"])[[\"overall_rating\", \"price\"]].mean().reset_index()\n",
    "    #sort the values\n",
    "    best_price_rating.sort_values([\"overall_rating\", \"price\"], ascending=True, inplace=False)\n",
    "    # get the location the user is interested in\n",
    "    location = input(\"Enter the location: \")\n",
    "    best = best_price_rating.loc[best_price_rating[\"host_location\"] == location, :]\n",
    "    # let the user see the display highlighting the overall rating and the price\n",
    "    best = best.style.background_gradient(cmap=\"Purples\", low=0.30)\n",
    "    return best"
   ]
  },
  {
   "cell_type": "code",
   "execution_count": null,
   "id": "22d953ba",
   "metadata": {},
   "outputs": [],
   "source": [
    "best_rating_price()"
   ]
  },
  {
   "cell_type": "markdown",
   "id": "5a1eefa9",
   "metadata": {},
   "source": [
    "### Matplotlib"
   ]
  },
  {
   "cell_type": "code",
   "execution_count": 5,
   "id": "fce97164",
   "metadata": {},
   "outputs": [],
   "source": [
    "# importing matplotlib library\n",
    "%matplotlib inline \n",
    "\n",
    "import matplotlib.pyplot as plt"
   ]
  },
  {
   "cell_type": "code",
   "execution_count": 6,
   "id": "9bb86df6",
   "metadata": {},
   "outputs": [
    {
     "ename": "NameError",
     "evalue": "name 'pd' is not defined",
     "output_type": "error",
     "traceback": [
      "\u001b[1;31m---------------------------------------------------------------------------\u001b[0m",
      "\u001b[1;31mNameError\u001b[0m                                 Traceback (most recent call last)",
      "Input \u001b[1;32mIn [6]\u001b[0m, in \u001b[0;36m<cell line: 6>\u001b[1;34m()\u001b[0m\n\u001b[0;32m      4\u001b[0m     airbnb_dataset \u001b[38;5;241m=\u001b[39m  pd\u001b[38;5;241m.\u001b[39mread_csv(file_path)\n\u001b[0;32m      5\u001b[0m     \u001b[38;5;28;01mreturn\u001b[39;00m airbnb_dataset \n\u001b[1;32m----> 6\u001b[0m df_airbnb \u001b[38;5;241m=\u001b[39m \u001b[43mload_data_dataframe\u001b[49m\u001b[43m(\u001b[49m\u001b[43mfile_path\u001b[49m\u001b[43m)\u001b[49m\n",
      "Input \u001b[1;32mIn [6]\u001b[0m, in \u001b[0;36mload_data_dataframe\u001b[1;34m(file_path)\u001b[0m\n\u001b[0;32m      3\u001b[0m \u001b[38;5;28;01mdef\u001b[39;00m \u001b[38;5;21mload_data_dataframe\u001b[39m(file_path):\n\u001b[1;32m----> 4\u001b[0m     airbnb_dataset \u001b[38;5;241m=\u001b[39m  \u001b[43mpd\u001b[49m\u001b[38;5;241m.\u001b[39mread_csv(file_path)\n\u001b[0;32m      5\u001b[0m     \u001b[38;5;28;01mreturn\u001b[39;00m airbnb_dataset\n",
      "\u001b[1;31mNameError\u001b[0m: name 'pd' is not defined"
     ]
    }
   ],
   "source": [
    "file_path = \"Data/Airbnb_UK_2022.csv\"\n",
    "# function to load the airbnb dataset into memory using the Pandas module\n",
    "def load_data_dataframe(file_path):\n",
    "    airbnb_dataset =  pd.read_csv(file_path)\n",
    "    return airbnb_dataset \n",
    "df_airbnb = load_data_dataframe(file_path)"
   ]
  },
  {
   "cell_type": "code",
   "execution_count": null,
   "id": "e6cf6f18",
   "metadata": {},
   "outputs": [],
   "source": [
    "def average_price(df_airbnb):\n",
    "    print(\"The average price of stay in each location are listed below.\\n\")\n",
    "    avg_price = df_airbnb.groupby(\"host_location\")[[\"price\",\"maximum_nights\",\"minimum_nights\"]].mean()\n",
    "    return avg_price\n"
   ]
  },
  {
   "cell_type": "code",
   "execution_count": null,
   "id": "d36dc70e",
   "metadata": {},
   "outputs": [],
   "source": [
    "import airbnb_process\n",
    "print(\"Enter 1 to retrieve a name of listing, host_name, description, host_location, and the date the host was created for an individual host by host_id.\\n\")\n",
    "print(\"Enter 2 to retrieve host_name, property_type, price, minimum_nights, and maximum_nights of all Airbnb listing for a specified location.\\n\")\n",
    "print(\"Enter 3 to retrieve room_type, accommodates, bathrooms, bedroom, and beds of all Airbnb listing for a specified property type.\\n\")\n",
    "print(\"Enter 4 retrieve specific columns of your choice related to an individual host by location.\\n\")\n",
    "print(\"Enter 0 to exit\")\n",
    "\n",
    "\n",
    "airbnb_process.average_price(df_airbnb)"
   ]
  },
  {
   "cell_type": "code",
   "execution_count": null,
   "id": "7f61081f",
   "metadata": {},
   "outputs": [],
   "source": [
    "# Display the proportion of number of bedrooms of Airbnb listing using pie chart\n",
    "\n",
    "airbnb_dataset.head(2)"
   ]
  },
  {
   "cell_type": "code",
   "execution_count": null,
   "id": "2d030b00",
   "metadata": {},
   "outputs": [],
   "source": []
  },
  {
   "cell_type": "code",
   "execution_count": null,
   "id": "f41969ca",
   "metadata": {},
   "outputs": [],
   "source": []
  },
  {
   "cell_type": "code",
   "execution_count": null,
   "id": "8990a55e",
   "metadata": {},
   "outputs": [],
   "source": [
    "airbnb_dataset[[\"name\",\"bedrooms\"]].sort_values(\"bedrooms\", ascending = False)"
   ]
  },
  {
   "cell_type": "code",
   "execution_count": null,
   "id": "2eb86851",
   "metadata": {},
   "outputs": [],
   "source": [
    "bedroom_group = airbnb_dataset.groupby(\"bedrooms\").size().sort_values(ascending=True)\n",
    "bedroom_group"
   ]
  },
  {
   "cell_type": "code",
   "execution_count": null,
   "id": "7a92b2f7",
   "metadata": {},
   "outputs": [],
   "source": [
    "bedroom_list = bedroom_group.index.tolist()\n",
    "print(bedroom_list)"
   ]
  },
  {
   "cell_type": "code",
   "execution_count": null,
   "id": "dfe64780",
   "metadata": {},
   "outputs": [],
   "source": [
    "num_bedroom_list = bedroom_group.tolist()\n",
    "print(num_bedroom_list)"
   ]
  },
  {
   "cell_type": "code",
   "execution_count": null,
   "id": "46689348",
   "metadata": {
    "scrolled": true
   },
   "outputs": [],
   "source": [
    "# plot the pie chart\n",
    "fig = plt.figure(figsize=(7,9))\n",
    "\n",
    "plt.pie(num_bedroom_list,labels=bedroom_list,autopct='%1.1f%%')\n",
    "plt.title(\"Proportion of the Number of Bedrooms of Listings\")\n",
    "\n",
    "plt.legend(loc=\"best\",bbox_to_anchor=(1,1))\n",
    "\n",
    "plt.show()\n",
    "# fig.savefig('Bedroom Proportion Pie Chart.png')"
   ]
  },
  {
   "cell_type": "code",
   "execution_count": null,
   "id": "9014508a",
   "metadata": {},
   "outputs": [],
   "source": [
    "# let the user have a sense of the proportion of the number of bedrooms\n",
    "def merge(list1, list2):\n",
    "    \n",
    "    merged_list = [(list1[i], list2[i]) for i in range(0, len(list1))]\n",
    "    return merged_list\n",
    "\n",
    "\n",
    "bedroom_group_tup = merge(bedroom_list, num_bedroom_list)\n",
    "print(bedroom_group_tup)"
   ]
  },
  {
   "cell_type": "code",
   "execution_count": 7,
   "id": "87303a0c",
   "metadata": {},
   "outputs": [
    {
     "ename": "NameError",
     "evalue": "name 'bedroom_list' is not defined",
     "output_type": "error",
     "traceback": [
      "\u001b[1;31m---------------------------------------------------------------------------\u001b[0m",
      "\u001b[1;31mNameError\u001b[0m                                 Traceback (most recent call last)",
      "Input \u001b[1;32mIn [7]\u001b[0m, in \u001b[0;36m<cell line: 9>\u001b[1;34m()\u001b[0m\n\u001b[0;32m      6\u001b[0m     \u001b[38;5;28;01mfor\u001b[39;00m i,j \u001b[38;5;129;01min\u001b[39;00m bedroom_group_tup:\n\u001b[0;32m      7\u001b[0m         \u001b[38;5;28mprint\u001b[39m(\u001b[38;5;124mf\u001b[39m\u001b[38;5;124m'\u001b[39m\u001b[38;5;124mThe listings with \u001b[39m\u001b[38;5;132;01m{\u001b[39;00mi\u001b[38;5;132;01m}\u001b[39;00m\u001b[38;5;124m bedrooms are \u001b[39m\u001b[38;5;132;01m{\u001b[39;00mj\u001b[38;5;132;01m}\u001b[39;00m\u001b[38;5;124m in number. \u001b[39m\u001b[38;5;130;01m\\n\u001b[39;00m\u001b[38;5;124m'\u001b[39m)\n\u001b[1;32m----> 9\u001b[0m merge(\u001b[43mbedroom_list\u001b[49m, num_bedroom_list)\n",
      "\u001b[1;31mNameError\u001b[0m: name 'bedroom_list' is not defined"
     ]
    }
   ],
   "source": [
    "# let the user have a sense of the proportion of the number of bedrooms\n",
    "def merge(bedroom_list, num_bedroom_list):\n",
    "    \n",
    "    bedroom_group_tup = [(bedroom_list[i], num_bedroom_list[i]) for i in range(0, len(bedroom_list))]\n",
    "    \n",
    "    for i,j in bedroom_group_tup:\n",
    "        print(f'The listings with {i} bedrooms are {j} in number. \\n')\n",
    "        \n",
    "merge(bedroom_list, num_bedroom_list)       "
   ]
  },
  {
   "cell_type": "code",
   "execution_count": null,
   "id": "2c732599",
   "metadata": {},
   "outputs": [],
   "source": [
    "# def merge(list1, list2):\n",
    "#     for i in range(0, len(list1)):\n",
    "#         merged_list = [(list1[i], list2[i])]\n",
    "#     return merged_list\n",
    "\n",
    "\n",
    "# bedroom_group_tup = merge(bedroom_list, num_bedroom_list)\n",
    "# print(bedroom_group_tup)"
   ]
  },
  {
   "cell_type": "code",
   "execution_count": null,
   "id": "821355bb",
   "metadata": {},
   "outputs": [],
   "source": [
    "for i,j in bedroom_group_tup:\n",
    "    print(f'The listings with {i} bedrooms are {j} in number. \\n')"
   ]
  },
  {
   "cell_type": "code",
   "execution_count": null,
   "id": "63b139ac",
   "metadata": {},
   "outputs": [],
   "source": [
    "# Display the number of listings for each room type using bar chart\n",
    "airbnb_dataset[[\"name\", \"room_type\"]]"
   ]
  },
  {
   "cell_type": "code",
   "execution_count": null,
   "id": "cae291ab",
   "metadata": {},
   "outputs": [],
   "source": [
    "room_type_group = airbnb_dataset.groupby(\"room_type\").size().sort_values(ascending=False)\n",
    "room_type_group"
   ]
  },
  {
   "cell_type": "code",
   "execution_count": null,
   "id": "c92582ff",
   "metadata": {},
   "outputs": [],
   "source": [
    "num_listing_room_type = room_type_group.tolist()\n",
    "room_type = room_type_group.index.tolist()"
   ]
  },
  {
   "cell_type": "code",
   "execution_count": null,
   "id": "bc22a0c4",
   "metadata": {},
   "outputs": [],
   "source": [
    "  # Check if you can caliberate for the data to show better"
   ]
  },
  {
   "cell_type": "code",
   "execution_count": null,
   "id": "3546ea9d",
   "metadata": {},
   "outputs": [],
   "source": [
    "def average_review_score(airbnb_dataset):\n",
    "    #print(f\"The average review score rating for each location are listed below.\\n{sep}\\n\")\n",
    "    avg_review_score = airbnb_dataset.groupby(\"host_location\")[\"review_scores_rating\"].mean()\n",
    "    return avg_review_score"
   ]
  },
  {
   "cell_type": "code",
   "execution_count": null,
   "id": "83465f01",
   "metadata": {},
   "outputs": [],
   "source": [
    "average_review_score(airbnb_dataset)"
   ]
  },
  {
   "cell_type": "code",
   "execution_count": null,
   "id": "cab4a974",
   "metadata": {},
   "outputs": [],
   "source": []
  },
  {
   "cell_type": "code",
   "execution_count": null,
   "id": "941742d3",
   "metadata": {},
   "outputs": [],
   "source": [
    "# Display the relationship between accommodates and price using scatter plot\n",
    "fig = plt.figure(figsize=(15,8)) #Create figure object and set up the size of figure\n",
    "\n",
    "accommodates = airbnb_dataset[\"accommodates\"]\n",
    "price = airbnb_dataset[\"price\"]\n",
    "\n",
    "# plot\n",
    "plt.scatter(accommodates, price)\n",
    "plt.xlabel('Maximun Capacity')\n",
    "plt.ylabel('Price')\n",
    "plt.title('Maximun Capacity vs Price')\n",
    "plt.show()\n"
   ]
  },
  {
   "cell_type": "code",
   "execution_count": null,
   "id": "031eb20e",
   "metadata": {},
   "outputs": [],
   "source": [
    "price.describe() \n"
   ]
  },
  {
   "cell_type": "code",
   "execution_count": null,
   "id": "97cb5c10",
   "metadata": {},
   "outputs": [],
   "source": [
    "accommodates.describe()"
   ]
  },
  {
   "cell_type": "code",
   "execution_count": null,
   "id": "d0ca4689",
   "metadata": {},
   "outputs": [],
   "source": [
    "# Display Airbnb prices from 2019 - 2022 with line chart using subplots (one year per plot)\n",
    "\n",
    "airbnb_dataset[[\"price\", \"host_since\"]]"
   ]
  },
  {
   "cell_type": "code",
   "execution_count": null,
   "id": "6c7d98fc",
   "metadata": {},
   "outputs": [],
   "source": [
    "airbnb_dataset.host_since.dtypes"
   ]
  },
  {
   "cell_type": "code",
   "execution_count": null,
   "id": "f26a8934",
   "metadata": {},
   "outputs": [],
   "source": [
    "# year_group = airbnb_dataset.groupby(\"host_since\")[\"price\"]\n",
    "# for i,j in year_group:\n",
    "#     print(f\"Group {i}: {j}\")\n"
   ]
  },
  {
   "cell_type": "code",
   "execution_count": 5,
   "id": "05645437",
   "metadata": {},
   "outputs": [
    {
     "data": {
      "text/plain": [
       "0      2009-05-12\n",
       "1      2011-03-05\n",
       "2      2011-07-12\n",
       "3      2009-09-28\n",
       "4      2011-05-14\n",
       "          ...    \n",
       "8434   2013-01-08\n",
       "8435   2015-07-29\n",
       "8436   2009-02-07\n",
       "8437   2011-09-09\n",
       "8438   2012-06-02\n",
       "Name: host_since, Length: 8439, dtype: datetime64[ns]"
      ]
     },
     "execution_count": 5,
     "metadata": {},
     "output_type": "execute_result"
    }
   ],
   "source": [
    "airbnb_dataset[\"host_since\"] = pd.to_datetime(airbnb_dataset[\"host_since\"])\n",
    "\n",
    "airbnb_dataset[\"host_since\"]"
   ]
  },
  {
   "cell_type": "code",
   "execution_count": 6,
   "id": "eea0952d",
   "metadata": {},
   "outputs": [
    {
     "data": {
      "text/html": [
       "<div>\n",
       "<style scoped>\n",
       "    .dataframe tbody tr th:only-of-type {\n",
       "        vertical-align: middle;\n",
       "    }\n",
       "\n",
       "    .dataframe tbody tr th {\n",
       "        vertical-align: top;\n",
       "    }\n",
       "\n",
       "    .dataframe thead th {\n",
       "        text-align: right;\n",
       "    }\n",
       "</style>\n",
       "<table border=\"1\" class=\"dataframe\">\n",
       "  <thead>\n",
       "    <tr style=\"text-align: right;\">\n",
       "      <th></th>\n",
       "      <th>host_id</th>\n",
       "      <th>name</th>\n",
       "      <th>description</th>\n",
       "      <th>host_name</th>\n",
       "      <th>host_since</th>\n",
       "      <th>host_location</th>\n",
       "      <th>host_response_time</th>\n",
       "      <th>host_response_rate</th>\n",
       "      <th>host_acceptance_rate</th>\n",
       "      <th>host_is_superhost</th>\n",
       "      <th>...</th>\n",
       "      <th>number_of_reviews</th>\n",
       "      <th>first_review</th>\n",
       "      <th>last_review</th>\n",
       "      <th>review_scores_rating</th>\n",
       "      <th>review_scores_accuracy</th>\n",
       "      <th>review_scores_cleanliness</th>\n",
       "      <th>review_scores_checkin</th>\n",
       "      <th>review_scores_communication</th>\n",
       "      <th>review_scores_location</th>\n",
       "      <th>review_scores_value</th>\n",
       "    </tr>\n",
       "  </thead>\n",
       "  <tbody>\n",
       "    <tr>\n",
       "      <th>4008</th>\n",
       "      <td>234722296</td>\n",
       "      <td>Wimbledon Charming house</td>\n",
       "      <td>brand new fitted   bed and breakfast big garde...</td>\n",
       "      <td>Marly</td>\n",
       "      <td>2019-06-01</td>\n",
       "      <td>London</td>\n",
       "      <td>within a day</td>\n",
       "      <td>100%</td>\n",
       "      <td>0%</td>\n",
       "      <td>False</td>\n",
       "      <td>...</td>\n",
       "      <td>8</td>\n",
       "      <td>14-03-19</td>\n",
       "      <td>29-02-20</td>\n",
       "      <td>5.0</td>\n",
       "      <td>5.0</td>\n",
       "      <td>5.0</td>\n",
       "      <td>5.0</td>\n",
       "      <td>4.88</td>\n",
       "      <td>4.88</td>\n",
       "      <td>5.0</td>\n",
       "    </tr>\n",
       "    <tr>\n",
       "      <th>4021</th>\n",
       "      <td>234055225</td>\n",
       "      <td>The Palms</td>\n",
       "      <td>contemporary short stay living</td>\n",
       "      <td>Fiona</td>\n",
       "      <td>2019-03-01</td>\n",
       "      <td>London</td>\n",
       "      <td>within a day</td>\n",
       "      <td>100%</td>\n",
       "      <td>33%</td>\n",
       "      <td>False</td>\n",
       "      <td>...</td>\n",
       "      <td>1</td>\n",
       "      <td>16-05-19</td>\n",
       "      <td>16-05-19</td>\n",
       "      <td>1.0</td>\n",
       "      <td>1.0</td>\n",
       "      <td>1.0</td>\n",
       "      <td>1.0</td>\n",
       "      <td>3.00</td>\n",
       "      <td>1.00</td>\n",
       "      <td>3.0</td>\n",
       "    </tr>\n",
       "  </tbody>\n",
       "</table>\n",
       "<p>2 rows × 34 columns</p>\n",
       "</div>"
      ],
      "text/plain": [
       "        host_id                      name  \\\n",
       "4008  234722296  Wimbledon Charming house   \n",
       "4021  234055225                 The Palms   \n",
       "\n",
       "                                            description host_name host_since  \\\n",
       "4008  brand new fitted   bed and breakfast big garde...     Marly 2019-06-01   \n",
       "4021                     contemporary short stay living     Fiona 2019-03-01   \n",
       "\n",
       "     host_location host_response_time host_response_rate host_acceptance_rate  \\\n",
       "4008        London       within a day               100%                   0%   \n",
       "4021        London       within a day               100%                  33%   \n",
       "\n",
       "      host_is_superhost  ...  number_of_reviews first_review  last_review  \\\n",
       "4008              False  ...                  8     14-03-19     29-02-20   \n",
       "4021              False  ...                  1     16-05-19     16-05-19   \n",
       "\n",
       "     review_scores_rating review_scores_accuracy  review_scores_cleanliness  \\\n",
       "4008                  5.0                    5.0                        5.0   \n",
       "4021                  1.0                    1.0                        1.0   \n",
       "\n",
       "     review_scores_checkin  review_scores_communication  \\\n",
       "4008                   5.0                         4.88   \n",
       "4021                   1.0                         3.00   \n",
       "\n",
       "      review_scores_location review_scores_value  \n",
       "4008                    4.88                 5.0  \n",
       "4021                    1.00                 3.0  \n",
       "\n",
       "[2 rows x 34 columns]"
      ]
     },
     "execution_count": 6,
     "metadata": {},
     "output_type": "execute_result"
    }
   ],
   "source": [
    "# filter year 2019\n",
    "year_2019 = airbnb_dataset.query(\"host_since >= '2019-01-01' and host_since <= '2019-12-31'\")\n",
    "year_2019.head(2)"
   ]
  },
  {
   "cell_type": "code",
   "execution_count": 7,
   "id": "2f011cf9",
   "metadata": {},
   "outputs": [
    {
     "data": {
      "text/html": [
       "<div>\n",
       "<style scoped>\n",
       "    .dataframe tbody tr th:only-of-type {\n",
       "        vertical-align: middle;\n",
       "    }\n",
       "\n",
       "    .dataframe tbody tr th {\n",
       "        vertical-align: top;\n",
       "    }\n",
       "\n",
       "    .dataframe thead th {\n",
       "        text-align: right;\n",
       "    }\n",
       "</style>\n",
       "<table border=\"1\" class=\"dataframe\">\n",
       "  <thead>\n",
       "    <tr style=\"text-align: right;\">\n",
       "      <th></th>\n",
       "      <th>host_id</th>\n",
       "      <th>name</th>\n",
       "      <th>description</th>\n",
       "      <th>host_name</th>\n",
       "      <th>host_since</th>\n",
       "      <th>host_location</th>\n",
       "      <th>host_response_time</th>\n",
       "      <th>host_response_rate</th>\n",
       "      <th>host_acceptance_rate</th>\n",
       "      <th>host_is_superhost</th>\n",
       "      <th>...</th>\n",
       "      <th>number_of_reviews</th>\n",
       "      <th>first_review</th>\n",
       "      <th>last_review</th>\n",
       "      <th>review_scores_rating</th>\n",
       "      <th>review_scores_accuracy</th>\n",
       "      <th>review_scores_cleanliness</th>\n",
       "      <th>review_scores_checkin</th>\n",
       "      <th>review_scores_communication</th>\n",
       "      <th>review_scores_location</th>\n",
       "      <th>review_scores_value</th>\n",
       "    </tr>\n",
       "  </thead>\n",
       "  <tbody>\n",
       "    <tr>\n",
       "      <th>4977</th>\n",
       "      <td>325833349</td>\n",
       "      <td>Top Floor single room Hammersmith/Shepherd's Bush</td>\n",
       "      <td>lovely single bed and breakfastroom located in...</td>\n",
       "      <td>Andrea</td>\n",
       "      <td>2020-09-01</td>\n",
       "      <td>London</td>\n",
       "      <td>within a few hours</td>\n",
       "      <td>100%</td>\n",
       "      <td>92%</td>\n",
       "      <td>False</td>\n",
       "      <td>...</td>\n",
       "      <td>22</td>\n",
       "      <td>16-01-20</td>\n",
       "      <td>04-08-22</td>\n",
       "      <td>4.95</td>\n",
       "      <td>4.95</td>\n",
       "      <td>5.0</td>\n",
       "      <td>5.0</td>\n",
       "      <td>5.0</td>\n",
       "      <td>4.91</td>\n",
       "      <td>4.91</td>\n",
       "    </tr>\n",
       "    <tr>\n",
       "      <th>4984</th>\n",
       "      <td>327075726</td>\n",
       "      <td>LUXURY DBL ROOM. PRIVATE BATHRM. GREAT VIEW. WIFI</td>\n",
       "      <td>beautiful  contemporary apartment in the heart...</td>\n",
       "      <td>Kiya</td>\n",
       "      <td>2020-01-13</td>\n",
       "      <td>London</td>\n",
       "      <td>within a day</td>\n",
       "      <td>91%</td>\n",
       "      <td>52%</td>\n",
       "      <td>False</td>\n",
       "      <td>...</td>\n",
       "      <td>13</td>\n",
       "      <td>18-03-20</td>\n",
       "      <td>05-09-22</td>\n",
       "      <td>5.00</td>\n",
       "      <td>5.00</td>\n",
       "      <td>5.0</td>\n",
       "      <td>5.0</td>\n",
       "      <td>5.0</td>\n",
       "      <td>4.92</td>\n",
       "      <td>5.00</td>\n",
       "    </tr>\n",
       "  </tbody>\n",
       "</table>\n",
       "<p>2 rows × 34 columns</p>\n",
       "</div>"
      ],
      "text/plain": [
       "        host_id                                               name  \\\n",
       "4977  325833349  Top Floor single room Hammersmith/Shepherd's Bush   \n",
       "4984  327075726  LUXURY DBL ROOM. PRIVATE BATHRM. GREAT VIEW. WIFI   \n",
       "\n",
       "                                            description host_name host_since  \\\n",
       "4977  lovely single bed and breakfastroom located in...    Andrea 2020-09-01   \n",
       "4984  beautiful  contemporary apartment in the heart...      Kiya 2020-01-13   \n",
       "\n",
       "     host_location  host_response_time host_response_rate  \\\n",
       "4977        London  within a few hours               100%   \n",
       "4984        London        within a day                91%   \n",
       "\n",
       "     host_acceptance_rate  host_is_superhost  ...  number_of_reviews  \\\n",
       "4977                  92%              False  ...                 22   \n",
       "4984                  52%              False  ...                 13   \n",
       "\n",
       "     first_review  last_review review_scores_rating review_scores_accuracy  \\\n",
       "4977     16-01-20     04-08-22                 4.95                   4.95   \n",
       "4984     18-03-20     05-09-22                 5.00                   5.00   \n",
       "\n",
       "      review_scores_cleanliness review_scores_checkin  \\\n",
       "4977                        5.0                   5.0   \n",
       "4984                        5.0                   5.0   \n",
       "\n",
       "      review_scores_communication  review_scores_location review_scores_value  \n",
       "4977                          5.0                    4.91                4.91  \n",
       "4984                          5.0                    4.92                5.00  \n",
       "\n",
       "[2 rows x 34 columns]"
      ]
     },
     "execution_count": 7,
     "metadata": {},
     "output_type": "execute_result"
    }
   ],
   "source": [
    "# filter year 2020\n",
    "year_2020 = airbnb_dataset.query(\"host_since >= '2020-01-01' and host_since <= '2020-12-31'\")\n",
    "year_2020.head(2)"
   ]
  },
  {
   "cell_type": "code",
   "execution_count": 8,
   "id": "ab1103e1",
   "metadata": {},
   "outputs": [
    {
     "data": {
      "text/html": [
       "<div>\n",
       "<style scoped>\n",
       "    .dataframe tbody tr th:only-of-type {\n",
       "        vertical-align: middle;\n",
       "    }\n",
       "\n",
       "    .dataframe tbody tr th {\n",
       "        vertical-align: top;\n",
       "    }\n",
       "\n",
       "    .dataframe thead th {\n",
       "        text-align: right;\n",
       "    }\n",
       "</style>\n",
       "<table border=\"1\" class=\"dataframe\">\n",
       "  <thead>\n",
       "    <tr style=\"text-align: right;\">\n",
       "      <th></th>\n",
       "      <th>host_id</th>\n",
       "      <th>name</th>\n",
       "      <th>description</th>\n",
       "      <th>host_name</th>\n",
       "      <th>host_since</th>\n",
       "      <th>host_location</th>\n",
       "      <th>host_response_time</th>\n",
       "      <th>host_response_rate</th>\n",
       "      <th>host_acceptance_rate</th>\n",
       "      <th>host_is_superhost</th>\n",
       "      <th>...</th>\n",
       "      <th>number_of_reviews</th>\n",
       "      <th>first_review</th>\n",
       "      <th>last_review</th>\n",
       "      <th>review_scores_rating</th>\n",
       "      <th>review_scores_accuracy</th>\n",
       "      <th>review_scores_cleanliness</th>\n",
       "      <th>review_scores_checkin</th>\n",
       "      <th>review_scores_communication</th>\n",
       "      <th>review_scores_location</th>\n",
       "      <th>review_scores_value</th>\n",
       "    </tr>\n",
       "  </thead>\n",
       "  <tbody>\n",
       "    <tr>\n",
       "      <th>5456</th>\n",
       "      <td>388652062</td>\n",
       "      <td>Bright 1 Bed Apartment with Garden, Bayswater</td>\n",
       "      <td>the apartment comes with ultrahigh speed wifi ...</td>\n",
       "      <td>Kiran</td>\n",
       "      <td>2021-02-15</td>\n",
       "      <td>London</td>\n",
       "      <td>within a few hours</td>\n",
       "      <td>90%</td>\n",
       "      <td>97%</td>\n",
       "      <td>False</td>\n",
       "      <td>...</td>\n",
       "      <td>21</td>\n",
       "      <td>21-03-21</td>\n",
       "      <td>12-08-22</td>\n",
       "      <td>4.62</td>\n",
       "      <td>4.90</td>\n",
       "      <td>4.76</td>\n",
       "      <td>4.71</td>\n",
       "      <td>4.57</td>\n",
       "      <td>4.81</td>\n",
       "      <td>4.48</td>\n",
       "    </tr>\n",
       "    <tr>\n",
       "      <th>5501</th>\n",
       "      <td>395929883</td>\n",
       "      <td>Contemporary Apartment in Central Bloomsbury</td>\n",
       "      <td>this onebed and breakfastroom apartment sleeps...</td>\n",
       "      <td>Hannah</td>\n",
       "      <td>2021-07-04</td>\n",
       "      <td>London</td>\n",
       "      <td>within a few hours</td>\n",
       "      <td>100%</td>\n",
       "      <td>100%</td>\n",
       "      <td>False</td>\n",
       "      <td>...</td>\n",
       "      <td>11</td>\n",
       "      <td>09-10-21</td>\n",
       "      <td>20-07-22</td>\n",
       "      <td>4.36</td>\n",
       "      <td>4.18</td>\n",
       "      <td>4.36</td>\n",
       "      <td>4.45</td>\n",
       "      <td>4.64</td>\n",
       "      <td>4.91</td>\n",
       "      <td>3.91</td>\n",
       "    </tr>\n",
       "  </tbody>\n",
       "</table>\n",
       "<p>2 rows × 34 columns</p>\n",
       "</div>"
      ],
      "text/plain": [
       "        host_id                                           name  \\\n",
       "5456  388652062  Bright 1 Bed Apartment with Garden, Bayswater   \n",
       "5501  395929883   Contemporary Apartment in Central Bloomsbury   \n",
       "\n",
       "                                            description host_name host_since  \\\n",
       "5456  the apartment comes with ultrahigh speed wifi ...     Kiran 2021-02-15   \n",
       "5501  this onebed and breakfastroom apartment sleeps...    Hannah 2021-07-04   \n",
       "\n",
       "     host_location  host_response_time host_response_rate  \\\n",
       "5456        London  within a few hours                90%   \n",
       "5501        London  within a few hours               100%   \n",
       "\n",
       "     host_acceptance_rate  host_is_superhost  ...  number_of_reviews  \\\n",
       "5456                  97%              False  ...                 21   \n",
       "5501                 100%              False  ...                 11   \n",
       "\n",
       "     first_review  last_review review_scores_rating review_scores_accuracy  \\\n",
       "5456     21-03-21     12-08-22                 4.62                   4.90   \n",
       "5501     09-10-21     20-07-22                 4.36                   4.18   \n",
       "\n",
       "      review_scores_cleanliness review_scores_checkin  \\\n",
       "5456                       4.76                  4.71   \n",
       "5501                       4.36                  4.45   \n",
       "\n",
       "      review_scores_communication  review_scores_location review_scores_value  \n",
       "5456                         4.57                    4.81                4.48  \n",
       "5501                         4.64                    4.91                3.91  \n",
       "\n",
       "[2 rows x 34 columns]"
      ]
     },
     "execution_count": 8,
     "metadata": {},
     "output_type": "execute_result"
    }
   ],
   "source": [
    "# filter year 2021\n",
    "year_2021 = airbnb_dataset.query(\"host_since >= '2021-01-01' and host_since <= '2021-12-31'\")\n",
    "year_2021.head(2)"
   ]
  },
  {
   "cell_type": "code",
   "execution_count": 9,
   "id": "b494a96d",
   "metadata": {},
   "outputs": [
    {
     "data": {
      "text/html": [
       "<div>\n",
       "<style scoped>\n",
       "    .dataframe tbody tr th:only-of-type {\n",
       "        vertical-align: middle;\n",
       "    }\n",
       "\n",
       "    .dataframe tbody tr th {\n",
       "        vertical-align: top;\n",
       "    }\n",
       "\n",
       "    .dataframe thead th {\n",
       "        text-align: right;\n",
       "    }\n",
       "</style>\n",
       "<table border=\"1\" class=\"dataframe\">\n",
       "  <thead>\n",
       "    <tr style=\"text-align: right;\">\n",
       "      <th></th>\n",
       "      <th>host_id</th>\n",
       "      <th>name</th>\n",
       "      <th>description</th>\n",
       "      <th>host_name</th>\n",
       "      <th>host_since</th>\n",
       "      <th>host_location</th>\n",
       "      <th>host_response_time</th>\n",
       "      <th>host_response_rate</th>\n",
       "      <th>host_acceptance_rate</th>\n",
       "      <th>host_is_superhost</th>\n",
       "      <th>...</th>\n",
       "      <th>number_of_reviews</th>\n",
       "      <th>first_review</th>\n",
       "      <th>last_review</th>\n",
       "      <th>review_scores_rating</th>\n",
       "      <th>review_scores_accuracy</th>\n",
       "      <th>review_scores_cleanliness</th>\n",
       "      <th>review_scores_checkin</th>\n",
       "      <th>review_scores_communication</th>\n",
       "      <th>review_scores_location</th>\n",
       "      <th>review_scores_value</th>\n",
       "    </tr>\n",
       "  </thead>\n",
       "  <tbody>\n",
       "    <tr>\n",
       "      <th>6413</th>\n",
       "      <td>438712082</td>\n",
       "      <td>Exceptional Greenwich appartment with London V...</td>\n",
       "      <td>enjoy your stay at a modern and centrally loca...</td>\n",
       "      <td>Michael</td>\n",
       "      <td>2022-03-01</td>\n",
       "      <td>London</td>\n",
       "      <td>within an hour</td>\n",
       "      <td>100%</td>\n",
       "      <td>71%</td>\n",
       "      <td>False</td>\n",
       "      <td>...</td>\n",
       "      <td>2</td>\n",
       "      <td>09-01-22</td>\n",
       "      <td>28-03-22</td>\n",
       "      <td>5.00</td>\n",
       "      <td>5.00</td>\n",
       "      <td>4.50</td>\n",
       "      <td>5.00</td>\n",
       "      <td>5.00</td>\n",
       "      <td>5.00</td>\n",
       "      <td>5.00</td>\n",
       "    </tr>\n",
       "    <tr>\n",
       "      <th>6453</th>\n",
       "      <td>439495572</td>\n",
       "      <td>Lovely 1-bed and breakfastroom centrally-located</td>\n",
       "      <td>enjoy a stylish experience at this centrallylo...</td>\n",
       "      <td>Iuliana</td>\n",
       "      <td>2022-08-01</td>\n",
       "      <td>London</td>\n",
       "      <td>within an hour</td>\n",
       "      <td>100%</td>\n",
       "      <td>98%</td>\n",
       "      <td>False</td>\n",
       "      <td>...</td>\n",
       "      <td>38</td>\n",
       "      <td>10-03-22</td>\n",
       "      <td>11-08-22</td>\n",
       "      <td>4.76</td>\n",
       "      <td>4.84</td>\n",
       "      <td>4.84</td>\n",
       "      <td>4.76</td>\n",
       "      <td>4.76</td>\n",
       "      <td>4.66</td>\n",
       "      <td>4.84</td>\n",
       "    </tr>\n",
       "  </tbody>\n",
       "</table>\n",
       "<p>2 rows × 34 columns</p>\n",
       "</div>"
      ],
      "text/plain": [
       "        host_id                                               name  \\\n",
       "6413  438712082  Exceptional Greenwich appartment with London V...   \n",
       "6453  439495572   Lovely 1-bed and breakfastroom centrally-located   \n",
       "\n",
       "                                            description host_name host_since  \\\n",
       "6413  enjoy your stay at a modern and centrally loca...   Michael 2022-03-01   \n",
       "6453  enjoy a stylish experience at this centrallylo...   Iuliana 2022-08-01   \n",
       "\n",
       "     host_location host_response_time host_response_rate host_acceptance_rate  \\\n",
       "6413        London     within an hour               100%                  71%   \n",
       "6453        London     within an hour               100%                  98%   \n",
       "\n",
       "      host_is_superhost  ...  number_of_reviews first_review  last_review  \\\n",
       "6413              False  ...                  2     09-01-22     28-03-22   \n",
       "6453              False  ...                 38     10-03-22     11-08-22   \n",
       "\n",
       "     review_scores_rating review_scores_accuracy  review_scores_cleanliness  \\\n",
       "6413                 5.00                   5.00                       4.50   \n",
       "6453                 4.76                   4.84                       4.84   \n",
       "\n",
       "     review_scores_checkin  review_scores_communication  \\\n",
       "6413                  5.00                         5.00   \n",
       "6453                  4.76                         4.76   \n",
       "\n",
       "      review_scores_location review_scores_value  \n",
       "6413                    5.00                5.00  \n",
       "6453                    4.66                4.84  \n",
       "\n",
       "[2 rows x 34 columns]"
      ]
     },
     "execution_count": 9,
     "metadata": {},
     "output_type": "execute_result"
    }
   ],
   "source": [
    "# filter year 2022\n",
    "year_2022 = airbnb_dataset.query(\"host_since >= '2022-01-01' and host_since <= '2022-12-31'\")\n",
    "year_2022.head(2)"
   ]
  },
  {
   "cell_type": "code",
   "execution_count": 10,
   "id": "7b5bf0cb",
   "metadata": {},
   "outputs": [],
   "source": [
    "# group the year by month and sum the prices\n",
    "price_year_2019 = year_2019.groupby(year_2019.host_since.dt.month)[\"price\"].sum()\n",
    "price_year_2020 = year_2020.groupby(year_2020.host_since.dt.month)[\"price\"].sum()\n",
    "price_year_2021 = year_2021.groupby(year_2021.host_since.dt.month)[\"price\"].sum()\n",
    "price_year_2022 = year_2022.groupby(year_2022.host_since.dt.month)[\"price\"].sum()"
   ]
  },
  {
   "cell_type": "code",
   "execution_count": null,
   "id": "4fbb4eb6",
   "metadata": {},
   "outputs": [],
   "source": [
    "price_year_2022"
   ]
  },
  {
   "cell_type": "code",
   "execution_count": 13,
   "id": "f6ca9487",
   "metadata": {},
   "outputs": [],
   "source": [
    "import matplotlib.pyplot as plt"
   ]
  },
  {
   "cell_type": "code",
   "execution_count": 14,
   "id": "f38bb60c",
   "metadata": {},
   "outputs": [
    {
     "data": {
      "image/png": "[encoded data removed]",
      "text/plain": [
       "<Figure size 864x1080 with 4 Axes>"
      ]
     },
     "metadata": {
      "needs_background": "light"
     },
     "output_type": "display_data"
    }
   ],
   "source": [
    "#Create figure and get the axes\n",
    "fig , (axis1,axis2,axis3,axis4) = plt.subplots(4,1, figsize = (12,15))\n",
    "\n",
    "#Add title for entire figure\n",
    "fig.suptitle(\"Airbnb prices from 2019 - 2022\")\n",
    "\n",
    "# Airbnb price in 2019 to axis1\n",
    "# set x axis and y axis for axis1\n",
    "x = price_year_2019.index.tolist()\n",
    "y = price_year_2019.tolist()\n",
    "\n",
    "# plot line graph for axis1\n",
    "axis1.plot(x,y)\n",
    "# set titles and labels\n",
    "axis1.set(title=\"Price of Airbnb in 2019\", xlabel='Month',ylabel='Price')\n",
    "\n",
    "\n",
    "\n",
    "# Airbnb price in 2020 to axis2\n",
    "# set x axis and y axis for axis2\n",
    "x = price_year_2020.index.tolist()\n",
    "y = price_year_2020.tolist()\n",
    "\n",
    "# plot line graph for axis2\n",
    "axis2.plot(x,y)\n",
    "# set titles and labels\n",
    "axis2.set(title=\"Price of Airbnb in 2020\", xlabel='Month',ylabel='Price')\n",
    "\n",
    "# Airbnb price in 2021 to axis3\n",
    "# set x axis and y axis for axis3\n",
    "x = price_year_2021.index.tolist()\n",
    "y = price_year_2021.tolist()\n",
    "\n",
    "# plot line graph for axis3\n",
    "axis3.plot(x,y)\n",
    "# set titles and labels\n",
    "axis3.set(title=\"Price of Airbnb in 2021\", xlabel='Month',ylabel='Price')\n",
    "\n",
    "# Airbnb price in 2020 to axis4\n",
    "# set x axis and y axis for axis4\n",
    "x = price_year_2022.index.tolist()\n",
    "y = price_year_2022.tolist()\n",
    "\n",
    "# plot line graph for axis4\n",
    "axis4.plot(x,y)\n",
    "# set titles and labels\n",
    "axis4.set(title=\"Price of Airbnb in 2022\", xlabel='Month',ylabel='Price')\n",
    "\n",
    "# set space between the subplots\n",
    "plt.subplots_adjust(left=0.1,\n",
    "                    bottom=0.1,\n",
    "                    right=0.9,\n",
    "                    top=0.9,\n",
    "                    wspace=0.4,\n",
    "                    hspace=0.4)\n",
    "                   \n",
    "\n",
    "# show graph\n",
    "plt.show()\n",
    "# save gragh\n",
    "# fig.savefig('Airbnb prices from 2019 - 2022.png')"
   ]
  },
  {
   "cell_type": "code",
   "execution_count": null,
   "id": "db48fb72",
   "metadata": {},
   "outputs": [],
   "source": []
  },
  {
   "cell_type": "code",
   "execution_count": null,
   "id": "a3990515",
   "metadata": {},
   "outputs": [],
   "source": [
    "import pandas as pd\n",
    "\n",
    "file_path = \"Data/Airbnb_UK_2022.csv\"\n",
    "# would you still want to explore more on the csv file?\n",
    "# load the dataset if yes\n",
    "airbnb_dataset =  pd.read_csv(file_path)\n",
    "airbnb_dataset.columns"
   ]
  },
  {
   "cell_type": "code",
   "execution_count": null,
   "id": "9b3d77f0",
   "metadata": {},
   "outputs": [],
   "source": [
    "airbnb_dataset[\"property_type\"].unique()"
   ]
  },
  {
   "cell_type": "code",
   "execution_count": null,
   "id": "953d1802",
   "metadata": {},
   "outputs": [],
   "source": [
    "airbnb_dataset.dtypes\n"
   ]
  },
  {
   "cell_type": "code",
   "execution_count": null,
   "id": "9f97ab0a",
   "metadata": {},
   "outputs": [],
   "source": [
    "airbnb_dataset[\"review_scores_rating\"]"
   ]
  },
  {
   "cell_type": "code",
   "execution_count": null,
   "id": "efd76cfd",
   "metadata": {},
   "outputs": [],
   "source": [
    "airbnb_dataset[\"host_is_superhost\"]"
   ]
  },
  {
   "cell_type": "code",
   "execution_count": null,
   "id": "5fbbd91c",
   "metadata": {},
   "outputs": [],
   "source": [
    "# airbnb_dataset[[\"review_scores_value\", \"maximum_nights\"]]\n",
    "x = airbnb_dataset[\"review_scores_value\"]\n",
    "y = airbnb_dataset[\"maximum_nights\"]"
   ]
  },
  {
   "cell_type": "code",
   "execution_count": null,
   "id": "cb63627d",
   "metadata": {},
   "outputs": [],
   "source": [
    "# airbnb_dataset[[\"review_scores_value\", \"minimum_nights\"]]\n",
    "x = airbnb_dataset[\"review_scores_value\"]\n",
    "y = airbnb_dataset[\"minimum_nights\"]"
   ]
  },
  {
   "cell_type": "code",
   "execution_count": null,
   "id": "66ba1c28",
   "metadata": {},
   "outputs": [],
   "source": [
    "# location and price\n",
    "# x = airbnb_dataset[\"host_location\"]\n",
    "host_location_group = airbnb_dataset.groupby(\"host_location\").size()\n",
    "# num_listing_room_type = room_type_group.tolist()\n",
    "x = host_location_group.index.tolist()\n",
    "\n",
    "\n",
    "host_location_group = airbnb_dataset.groupby(\"host_location\")[\"price\"].size()\n",
    "y = airbnb_dataset[\"price\"].mean()\n",
    "\n",
    "\n",
    "# fig = plt.figure(figsize=(15,8))\n",
    "\n",
    "# plt.bar(x,y)\n",
    "# # label\n",
    "# plt.xlabel(\"Room Type\")\n",
    "# plt.ylabel(\"Number of Listing\")\n",
    "#     # set title\n",
    "# plt.title(\"Number of Listing for Each Room Type\")\n",
    "#     #show the graph\n",
    "# plt.show()"
   ]
  },
  {
   "cell_type": "code",
   "execution_count": null,
   "id": "9e7089f0",
   "metadata": {},
   "outputs": [],
   "source": []
  },
  {
   "cell_type": "code",
   "execution_count": null,
   "id": "11ac0b2c",
   "metadata": {},
   "outputs": [],
   "source": [
    "# Display the relationship between accommodates and price using scatter plot\n",
    "fig = plt.figure(figsize=(15,8)) #Create figure object and set up the size of figure\n",
    "\n",
    "# accommodates = airbnb_dataset[\"accommodates\"]\n",
    "# price = airbnb_dataset[\"price\"]\n",
    "\n",
    "# plot\n",
    "plt.scatter(x, y)\n",
    "plt.xlabel('review_scores_value')\n",
    "plt.ylabel('minimum_nights')\n",
    "plt.title('r vs n')\n",
    "plt.show()"
   ]
  },
  {
   "cell_type": "code",
   "execution_count": null,
   "id": "38c71c65",
   "metadata": {},
   "outputs": [],
   "source": [
    "# own selection for question c\n",
    "# group the year by month and sum the prices\n",
    "review_year_2019 = year_2019.groupby(year_2019.host_since.dt.month)[\"review_scores_rating\"].mean()\n",
    "review_year_2020 = year_2020.groupby(year_2020.host_since.dt.month)[\"review_scores_rating\"].mean()\n",
    "review_year_2021 = year_2021.groupby(year_2021.host_since.dt.month)[\"review_scores_rating\"].mean()\n",
    "review_year_2022 = year_2022.groupby(year_2022.host_since.dt.month)[\"review_scores_rating\"].mean()"
   ]
  },
  {
   "cell_type": "code",
   "execution_count": null,
   "id": "89a8fb67",
   "metadata": {},
   "outputs": [],
   "source": [
    "x = review_year_2019.index.tolist()\n",
    "y1 = review_year_2019.tolist()\n",
    "y2 = review_year_2020.tolist()\n",
    "y3 = review_year_2021.tolist()\n",
    "y4 = review_year_2022.tolist()\n",
    "y = [y1,y2,y3,y4]\n",
    "fig = plt.figure(figsize=(30,8))\n",
    "\n",
    "for i in range(len(y)):\n",
    "    plt.plot(x,y[i],'o-',label=years[i])\n",
    "\n",
    "plt.xlabel('Months')\n",
    "plt.ylabel('Review Score Rating')\n",
    "plt.title('Best Months to Use Airbnb Based on Review Score Rating from 2019 to 2022')\n",
    "plt.legend()\n",
    "plt.show()"
   ]
  },
  {
   "cell_type": "code",
   "execution_count": null,
   "id": "77580f6f",
   "metadata": {},
   "outputs": [],
   "source": [
    "# airbnb_dataset[[\"review_scores_value\", \"maximum_nights\"]]\n",
    "fig = plt.figure(figsize=(12,4))\n",
    "x = airbnb_dataset[\"review_scores_accuracy\"]\n",
    "y = airbnb_dataset[\"minimum_nights\"]\n",
    "plt.scatter(x,y)\n",
    "plt.show()"
   ]
  },
  {
   "cell_type": "code",
   "execution_count": null,
   "id": "08b21f5e",
   "metadata": {},
   "outputs": [],
   "source": [
    "# airbnb_dataset[[\"review_scores_value\", \"maximum_nights\"]]\n",
    "fig = plt.figure(figsize=(12,4))\n",
    "x = airbnb_dataset[\"review_scores_cleanliness\"]\n",
    "y = airbnb_dataset[\"minimum_nights\"]\n",
    "plt.scatter(x,y)\n",
    "plt.show()"
   ]
  },
  {
   "cell_type": "code",
   "execution_count": null,
   "id": "113d1208",
   "metadata": {},
   "outputs": [],
   "source": [
    "# airbnb_dataset[[\"review_scores_value\", \"maximum_nights\"]]\n",
    "fig = plt.figure(figsize=(12,4))\n",
    "x = airbnb_dataset[\"review_scores_checkin\"]\n",
    "y = airbnb_dataset[\"minimum_nights\"]\n",
    "plt.scatter(x,y)\n",
    "plt.show()"
   ]
  },
  {
   "cell_type": "code",
   "execution_count": null,
   "id": "cbab4124",
   "metadata": {},
   "outputs": [],
   "source": [
    "# airbnb_dataset[[\"review_scores_value\", \"maximum_nights\"]]\n",
    "fig = plt.figure(figsize=(12,4))\n",
    "x = airbnb_dataset[\"review_scores_communication\"]\n",
    "y = airbnb_dataset[\"minimum_nights\"]\n",
    "plt.scatter(x,y)\n",
    "plt.show()"
   ]
  },
  {
   "cell_type": "code",
   "execution_count": null,
   "id": "efff2a96",
   "metadata": {},
   "outputs": [],
   "source": [
    "# airbnb_dataset[[\"review_scores_value\", \"maximum_nights\"]]\n",
    "fig = plt.figure(figsize=(12,4))\n",
    "x = airbnb_dataset[\"review_scores_location\"]\n",
    "y = airbnb_dataset[\"minimum_nights\"]\n",
    "plt.scatter(x,y)\n",
    "plt.show()"
   ]
  },
  {
   "cell_type": "code",
   "execution_count": null,
   "id": "97854340",
   "metadata": {},
   "outputs": [],
   "source": [
    "# airbnb_dataset[\"description\"]\n",
    "# a = \"TRUE\"\n",
    "# a.upper()\n",
    "desc = []\n",
    "if airbnb_dataset.query(\"host_is_superhost == True\"):\n",
    "    for i in airbnb_dataset[\"description\"]:\n",
    "        desc.append(i)\n",
    "# if airbnb_dataset[\"host_is_superhost\"] == True:\n",
    "#     desc.append(airbnb_dataset[\"description\"]) \n",
    "# print(desc)\n",
    "desc\n",
    "\n",
    "\n",
    "a = airbnb_dataset.query(\"host_is_superhost == True\")"
   ]
  },
  {
   "cell_type": "code",
   "execution_count": 3,
   "id": "e6354d28",
   "metadata": {},
   "outputs": [],
   "source": [
    "# own selection for question c\n",
    "def own_selection_c(airbnb_dataset):\n",
    "    # filter year 2019\n",
    "    year_2019 = airbnb_dataset.query(\"host_since >= '2019-01-01' and host_since <= '2019-12-31'\")\n",
    "    # filter year 2020\n",
    "    year_2020 = airbnb_dataset.query(\"host_since >= '2020-01-01' and host_since <= '2020-12-31'\")\n",
    "    # filter year 2021\n",
    "    year_2021 = airbnb_dataset.query(\"host_since >= '2021-01-01' and host_since <= '2021-12-31'\")\n",
    "    # filter year 2022\n",
    "    year_2022 = airbnb_dataset.query(\"host_since >= '2022-01-01' and host_since <= '2022-12-31'\")\n",
    "\n",
    "    # group the year by month and get the mean of the review_scores_rating\n",
    "    review_year_2019 = year_2019.groupby(year_2019.host_since.dt.month)[\"review_scores_rating\"].mean()\n",
    "    review_year_2020 = year_2020.groupby(year_2020.host_since.dt.month)[\"review_scores_rating\"].mean()\n",
    "    review_year_2021 = year_2021.groupby(year_2021.host_since.dt.month)[\"review_scores_rating\"].mean()\n",
    "    review_year_2022 = year_2022.groupby(year_2022.host_since.dt.month)[\"review_scores_rating\"].mean()   \n",
    "\n",
    "    # adjust subplots\n",
    "    plt.subplots_adjust(wspace=0.3,hspace=0.5)\n",
    "    # create subplots\n",
    "    fig = plt.figure(figsize=(25,20))\n",
    "    #Add title for entire figure\n",
    "    fig.suptitle(\"Customer behaviours\")\n",
    "    \n",
    "    #create the axis\n",
    "    ax1 = fig.add_subplot(4,1,1)\n",
    "    ax2 = fig.add_subplot(4,3,4)\n",
    "    ax3 = fig.add_subplot(4,3,5)\n",
    "    ax4 = fig.add_subplot(4,3,6)\n",
    "    ax5 = fig.add_subplot(4,2,5)\n",
    "    ax6 = fig.add_subplot(4,2,6)\n",
    "    ax7 = fig.add_subplot(4,1,4)\n",
    "\n",
    "    # data for ax1\n",
    "    x = review_year_2019.index.tolist()\n",
    "    y1 = review_year_2019.tolist()\n",
    "    y2 = review_year_2020.tolist()\n",
    "    y3 = review_year_2021.tolist()\n",
    "    y4 = review_year_2022.tolist()\n",
    "    y = [y1,y2,y3,y4]\n",
    "    # plot line graph for axis1\n",
    "    \n",
    "    for i in range(len(y)):\n",
    "        years = [2019, 2020, 2021, 2022]\n",
    "        ax1.plot(x,y[i],'o-',label=years[i])\n",
    "\n",
    "    # set titles and labels\n",
    "    ax1.set(title=\"Best Months to Use Airbnb Based on Review Score Rating from 2019 to 2022\",xlabel='Months',ylabel='Review Score Rating')\n",
    "\n",
    "    # axis 2\n",
    "    # airbnb_dataset[[\"review_scores_accuracy\", \"minimum_nights\"]]\n",
    "    x = airbnb_dataset[\"review_scores_accuracy\"]\n",
    "    y = airbnb_dataset[\"minimum_nights\"]\n",
    "    ax2.scatter(x,y)\n",
    "    # set titles and labels\n",
    "    ax2.set(title=\"Relationship b/w Review Scores Accuracy and Minimum Nights\", xlabel='Review Scores Accuracy',ylabel='Minimum Nights')\n",
    "\n",
    "    # axis 3\n",
    "    # airbnb_dataset[[\"review_scores_cleanliness\", \"minimum_nights\"]]\n",
    "    x = airbnb_dataset[\"review_scores_cleanliness\"]\n",
    "    y = airbnb_dataset[\"minimum_nights\"]\n",
    "    ax3.scatter(x,y)\n",
    "    ax3.set(title=\"Relationship b/w Review Scores Cleanliness and Minimum Nights\", xlabel='Review Scores Cleanliness',ylabel='Minimum Nights')\n",
    "\n",
    "    # axis 4\n",
    "    # airbnb_dataset[[\"review_scores_checkin\", \"minimum_nights\"]]\n",
    "    x = airbnb_dataset[\"review_scores_checkin\"]\n",
    "    y = airbnb_dataset[\"minimum_nights\"]\n",
    "    ax4.scatter(x,y)\n",
    "    ax4.set(title=\"Relationship b/w Review Scores Checkin and Minimum Nights\", xlabel='Review Scores Checkin',ylabel='Minimum Nights')\n",
    "\n",
    "    # axis 5\n",
    "    # airbnb_dataset[[\"review_scores_communication\", \"minimum_nights\"]]\n",
    "    x = airbnb_dataset[\"review_scores_communication\"]\n",
    "    y = airbnb_dataset[\"minimum_nights\"]\n",
    "    ax5.scatter(x,y)\n",
    "    ax5.set(title=\"Relationship b/w Review Scores Communication and Minimum Nights\", xlabel='Review Scores Communication',ylabel='Minimum Nights')\n",
    "\n",
    "    # axis 6\n",
    "    # airbnb_dataset[[\"review_scores_location\", \"minimum_nights\"]]\n",
    "    x = airbnb_dataset[\"review_scores_location\"]\n",
    "    y = airbnb_dataset[\"minimum_nights\"]\n",
    "    ax6.scatter(x,y)\n",
    "    ax6.set(title=\"Relationship b/w Review Scores Location and Minimum Nights\", xlabel='Review Scores Location',ylabel='Minimum Nights')\n",
    "\n",
    "\n",
    "    # show the graph\n",
    "    plt.show()"
   ]
  },
  {
   "cell_type": "code",
   "execution_count": null,
   "id": "aa4498de",
   "metadata": {},
   "outputs": [],
   "source": []
  },
  {
   "cell_type": "code",
   "execution_count": 4,
   "id": "fe00d598",
   "metadata": {},
   "outputs": [
    {
     "ename": "NameError",
     "evalue": "name 'airbnb_dataset' is not defined",
     "output_type": "error",
     "traceback": [
      "\u001b[1;31m---------------------------------------------------------------------------\u001b[0m",
      "\u001b[1;31mNameError\u001b[0m                                 Traceback (most recent call last)",
      "Input \u001b[1;32mIn [4]\u001b[0m, in \u001b[0;36m<cell line: 1>\u001b[1;34m()\u001b[0m\n\u001b[1;32m----> 1\u001b[0m own_selection_c(\u001b[43mairbnb_dataset\u001b[49m)\n",
      "\u001b[1;31mNameError\u001b[0m: name 'airbnb_dataset' is not defined"
     ]
    }
   ],
   "source": [
    "own_selection_c(airbnb_dataset)"
   ]
  },
  {
   "cell_type": "code",
   "execution_count": 2,
   "id": "8b89c89c",
   "metadata": {},
   "outputs": [
    {
     "ename": "IndentationError",
     "evalue": "unindent does not match any outer indentation level (<tokenize>, line 8)",
     "output_type": "error",
     "traceback": [
      "\u001b[1;36m  File \u001b[1;32m<tokenize>:8\u001b[1;36m\u001b[0m\n\u001b[1;33m    elif users_selection4 == 2:\u001b[0m\n\u001b[1;37m    ^\u001b[0m\n\u001b[1;31mIndentationError\u001b[0m\u001b[1;31m:\u001b[0m unindent does not match any outer indentation level\n"
     ]
    }
   ],
   "source": [
    "           users_selection5 = airbnb_tui.menu4()\n",
    "#                 if users_selection5 == \"Yes\":\n",
    "#                     airbnb_process.merge(bedroom_list, num_bedroom_list)\n",
    "#                 elif users_selection5 == \"No\":\n",
    "#                     break\n",
    "                airbnb_plot.proportion_bedrooms(df_airbnb)\n",
    "                airbnb_tui.end()\n",
    "            elif users_selection4 == 2:\n",
    "                airbnb_tui.displays_c()\n",
    "                display.Image(airbnb_plot.num_listings_roomtype(df_airbnb))\n",
    "                airbnb_tui.end()\n",
    "            elif users_selection4 == 3:\n",
    "                airbnb_tui.displays_c()\n",
    "                display.Image(airbnb_plot.accommodates_and_price(df_airbnb))\n",
    "                airbnb_tui.end()\n",
    "            elif users_selection4 == 4:\n",
    "                airbnb_tui.displays_c()\n",
    "                display.Image(airbnb_plot.prices_per_year(df_airbnb))\n",
    "                airbnb_tui.end()\n",
    "            elif users_selection4 == 5:\n",
    "                airbnb_tui.displays_c()\n",
    "                display.Image(airbnb_plot.own_selection_c(df_airbnb))\n",
    "                airbnb_tui.end()\n",
    "            elif users_selection4 == 0:\n",
    "                break \n",
    "         \n",
    "        if users_selection1 == \"EXIT\":\n",
    "            break"
   ]
  },
  {
   "cell_type": "code",
   "execution_count": null,
   "id": "672771f0",
   "metadata": {},
   "outputs": [],
   "source": [
    "def menu1():\n",
    "    while True:\n",
    "        try:\n",
    "            print(f\"{line_separator}\\n\")\n",
    "            print(\"Enter 1 to to identify the top 10 most popular amenities or features that Airbnb hosts provide to customer.\\n\")\n",
    "            print(\"Enter 2 to analyse the average price of stay in each location.\\n\")\n",
    "            print(\"Enter 3 to analyse the average review scores rating for each location.\\n\")\n",
    "            print(\"Enter 4 to analyse to the overall score rating and price based on location.\\n\")\n",
    "            print(\"Enter Exit to exit\")\n",
    "            print(f\"{line_separator}\\n\")\n",
    "    \n",
    "        \n",
    "            choice = input().strip().lower()\n",
    "            \n",
    "            if choice == '1':\n",
    "                print(f\"Identifying the top 10 most popular amenities or features that Airbnb hosts provide to customer.\\n{line_separator}\\n\")\n",
    "                break\n",
    "\n",
    "            if choice == '2':\n",
    "                print(f\"Analysing the average price of stay in each location.\\n{line_separator}\\n\")\n",
    "                break\n",
    "\n",
    "            if choice == '3':\n",
    "                print(f\"Analysing the average review scores rating for each location.\\n {line_separator}\\n\")\n",
    "                break\n",
    "\n",
    "            if choice == '4':\n",
    "                print(f\"Retrieving the overall score rating and price based on location.\\n{line_separator}\\n\")\n",
    "                break\n",
    "\n",
    "            if choice == 'exit':\n",
    "                break\n",
    "            \n",
    "            while choice not in ['1','2','3','4','exit']:\n",
    "                print(\"Enter 1, 2, 3, 4 or Exit\")\n",
    "                break\n",
    "                #choice = int(input().strip())\n",
    "        except ValueError:\n",
    "            print(\"The input was not a valid input.\")\n",
    "\n",
    "    return choice\n",
    "        "
   ]
  }
 ],
 "metadata": {
  "kernelspec": {
   "display_name": "Python 3 (ipykernel)",
   "language": "python",
   "name": "python3"
  },
  "language_info": {
   "codemirror_mode": {
    "name": "ipython",
    "version": 3
   },
   "file_extension": ".py",
   "mimetype": "text/x-python",
   "name": "python",
   "nbconvert_exporter": "python",
   "pygments_lexer": "ipython3",
   "version": "3.9.12"
  }
 },
 "nbformat": 4,
 "nbformat_minor": 5
}
