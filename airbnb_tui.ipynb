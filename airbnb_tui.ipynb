{
 "cells": [
  {
   "cell_type": "markdown",
   "id": "e43af423",
   "metadata": {},
   "source": [
    "Setting up the module for the airbnb text user interface\n"
   ]
  },
  {
   "cell_type": "code",
   "execution_count": null,
   "id": "7c0dc8a0",
   "metadata": {},
   "outputs": [],
   "source": [
    "# this will separate different lines where appropriate\n",
    "line_separator = \"-\" * 70\n",
    "\n",
    "# start function to display the appropriate start message at the beginning of the program\n",
    "def start(msg=\"\"):\n",
    "    #print(\"-\" * line_width)\n",
    "    output = f\"program started: {msg}\"\n",
    "    print(f\"{line_separator}\\n{output}\\n\")\n",
    "    \n",
    "    \n",
    "# end function to display the appropraiate message at the end of the operation\n",
    "def end():\n",
    "    print(f\"\\nOperation completed.\\n{line_separator}\\n\")\n",
    "    \n",
    "    \n",
    "# error function \n",
    "def error(msg):\n",
    "    print(f\"Error! {msg}\\nPlease try again!\\n\")\n",
    "    \n",
    "    \n"
   ]
  }
 ],
 "metadata": {
  "kernelspec": {
   "display_name": "Python 3 (ipykernel)",
   "language": "python",
   "name": "python3"
  },
  "language_info": {
   "codemirror_mode": {
    "name": "ipython",
    "version": 3
   },
   "file_extension": ".py",
   "mimetype": "text/x-python",
   "name": "python",
   "nbconvert_exporter": "python",
   "pygments_lexer": "ipython3",
   "version": "3.9.12"
  }
 },
 "nbformat": 4,
 "nbformat_minor": 5
}
