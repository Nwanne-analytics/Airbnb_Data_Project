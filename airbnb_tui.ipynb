{
 "cells": [
  {
   "cell_type": "markdown",
   "id": "e43af423",
   "metadata": {},
   "source": [
    "Setting up the module for the airbnb text user interface\n"
   ]
  },
  {
   "cell_type": "code",
   "execution_count": 11,
   "id": "41aa11dd",
   "metadata": {},
   "outputs": [],
   "source": [
    "# this will separate different lines where appropriate\n",
    "line_separator = \"-\" * 124\n",
    "\n",
    "msg = \"Nwanne\""
   ]
  },
  {
   "cell_type": "code",
   "execution_count": 1,
   "id": "7c0dc8a0",
   "metadata": {},
   "outputs": [
    {
     "name": "stdout",
     "output_type": "stream",
     "text": [
      "----------------------------------------------------------------------------------------------------------------------------\n",
      "program started: Nwanne\n",
      "\n"
     ]
    }
   ],
   "source": [
    "\n",
    "# start function to display the appropriate start message at the beginning of the program\n",
    "def start(msg=\"\"):\n",
    "    #print(\"-\" * line_width)\n",
    "    output = f\"program started: {msg}\"\n",
    "    print(f\"{line_separator}\\n{output}\\n\")\n",
    "\n",
    "start(msg)"
   ]
  },
  {
   "cell_type": "code",
   "execution_count": 2,
   "id": "94ec4701",
   "metadata": {},
   "outputs": [
    {
     "name": "stdout",
     "output_type": "stream",
     "text": [
      "\n",
      "Operation completed.\n",
      "----------------------------------------------------------------------------------------------------------------------------\n",
      "\n"
     ]
    }
   ],
   "source": [
    "# end function to display the appropraiate message at the end of the operation\n",
    "def end():\n",
    "    print(f\"\\nOperation completed.\\n{line_separator}\\n\")\n",
    "end()"
   ]
  },
  {
   "cell_type": "code",
   "execution_count": 3,
   "id": "6cc0d32e",
   "metadata": {},
   "outputs": [
    {
     "name": "stdout",
     "output_type": "stream",
     "text": [
      "Error! Nwanne\n",
      "Please try again!\n",
      "\n"
     ]
    }
   ],
   "source": [
    "# error function \n",
    "def error(msg=\"\"):\n",
    "    print(f\"Error! {msg}\\nPlease try again!\\n\")\n",
    "error(msg)"
   ]
  },
  {
   "cell_type": "code",
   "execution_count": 4,
   "id": "207fd90b",
   "metadata": {},
   "outputs": [
    {
     "name": "stdout",
     "output_type": "stream",
     "text": [
      "----------------------------------------------------------------------------------------------------------------------------\n",
      "\n",
      "Enter a to load Airbnb dataset into memory and perform tasks using the csv module.\n",
      "\n",
      "Enter b to load Airbnb dataset and query or analyse using the pandas module.\n",
      "\n",
      "Enter c to visualize the Airbnb dataset using the matplotlib module.\n",
      "\n",
      "----------------------------------------------------------------------------------------------------------------------------\n",
      "\n"
     ]
    }
   ],
   "source": [
    "# this function is to ask the user about choice of programme he wants to perform with respect to\n",
    "#question a, b and c\n",
    "\"\"\"\n",
    "Function to ask the user about their choice of programme to perform with respect toqu estion a, b and c\n",
    "\"\"\"\n",
    "def users_choice_of_program():\n",
    "    print(f\"{line_separator}\\n\")\n",
    "    print(\"Enter a to load Airbnb dataset into memory and perform tasks using the csv module.\\n\")\n",
    "    print(\"Enter b to load Airbnb dataset and query or analyse using the pandas module.\\n\")\n",
    "    print(\"Enter c to visualize the Airbnb dataset using the matplotlib module.\\n\")\n",
    "    print(f\"{line_separator}\\n\")\n",
    "    \n",
    "users_choice_of_program()    "
   ]
  },
  {
   "cell_type": "code",
   "execution_count": 5,
   "id": "e74c1fd6",
   "metadata": {},
   "outputs": [
    {
     "name": "stdout",
     "output_type": "stream",
     "text": [
      "----------------------------------------------------------------------------------------------------------------------------\n",
      "\n",
      "Enter 1 to retrieve a name of listing, host_name, description, host_location, and the date the host was created for an individual host by host_id.\n",
      "\n",
      "Enter 2 to retrieve host_name, property_type, price, minimum_nights, and maximum_nights of all Airbnb listing for a specified location.\n",
      "\n",
      "Enter 3 to retrieve room_type, accommodates, bathrooms, bedroom, and beds of all Airbnb listing for a specified property type.\n",
      "\n",
      "Enter 4 retrieve specific columns of your choice related to an individual host by location.\n",
      "\n",
      "Enter 0 to exit\n",
      "----------------------------------------------------------------------------------------------------------------------------\n",
      "\n"
     ]
    }
   ],
   "source": [
    "def question_a():\n",
    "    #line_separator = \"-\" * 124\n",
    "    \n",
    "    print(f\"{line_separator}\\n\")\n",
    "    print(\"Enter 1 to retrieve a name of listing, host_name, description, host_location, and the date the host was created for an individual host by host_id.\\n\")\n",
    "    print(\"Enter 2 to retrieve host_name, property_type, price, minimum_nights, and maximum_nights of all Airbnb listing for a specified location.\\n\")\n",
    "    print(\"Enter 3 to retrieve room_type, accommodates, bathrooms, bedroom, and beds of all Airbnb listing for a specified property type.\\n\")\n",
    "    print(\"Enter 4 retrieve specific columns of your choice related to an individual host by location.\\n\")\n",
    "    print(\"Enter 0 to exit\")\n",
    "    print(f\"{line_separator}\\n\")\n",
    "    \n",
    "question_a()    \n",
    "    "
   ]
  },
  {
   "cell_type": "code",
   "execution_count": 24,
   "id": "2549b0ec",
   "metadata": {},
   "outputs": [],
   "source": [
    "# use input to get the name  of the user\n",
    "\n",
    "def name_of_user():\n",
    "    # ask the users name\n",
    "    print(\"Please enter your name.\\n\")\n",
    "    name = input()\n",
    "    # welcome the user to use the software\n",
    "    print(f\"Welcome {name}!\\n You are ready to use Nwanneka's COM728 software.\")"
   ]
  },
  {
   "cell_type": "code",
   "execution_count": 25,
   "id": "c485dcf0",
   "metadata": {},
   "outputs": [
    {
     "name": "stdout",
     "output_type": "stream",
     "text": [
      "Please enter your name.\n",
      "\n",
      "Jarutas\n",
      "Welcome Jarutas!\n",
      " You are ready to use Nwanneka's COM728 software.\n"
     ]
    }
   ],
   "source": [
    "name_of_user()"
   ]
  },
  {
   "cell_type": "code",
   "execution_count": null,
   "id": "835ac68b",
   "metadata": {},
   "outputs": [],
   "source": []
  }
 ],
 "metadata": {
  "kernelspec": {
   "display_name": "Python 3 (ipykernel)",
   "language": "python",
   "name": "python3"
  },
  "language_info": {
   "codemirror_mode": {
    "name": "ipython",
    "version": 3
   },
   "file_extension": ".py",
   "mimetype": "text/x-python",
   "name": "python",
   "nbconvert_exporter": "python",
   "pygments_lexer": "ipython3",
   "version": "3.9.12"
  }
 },
 "nbformat": 4,
 "nbformat_minor": 5
}
