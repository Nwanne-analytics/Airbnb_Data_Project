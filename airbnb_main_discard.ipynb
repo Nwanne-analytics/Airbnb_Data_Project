{
 "cells": [
  {
   "cell_type": "code",
   "execution_count": 1,
   "id": "e94ef8be",
   "metadata": {},
   "outputs": [],
   "source": [
    "# import the modules\n",
    "import csv\n",
    "import airbnb_tui\n",
    "import airbnb_process\n",
    "import airbnb_plot\n",
    "import pandas as pd\n",
    "import matplotlib.pyplot as plt\n",
    "%matplotlib inline"
   ]
  },
  {
   "cell_type": "code",
   "execution_count": 2,
   "id": "c8eee36f",
   "metadata": {},
   "outputs": [],
   "source": [
    "# function to load the airbnb dataset into memory using the CSV module\n",
    "def load_data_csv(file_path): \n",
    "    \n",
    "    # error handling\n",
    "    try:\n",
    "        airbnb_dataset = []\n",
    "        # opening the csv and closing the csv automatically\n",
    "        with open(file_path, encoding = \"utf-8\") as file:\n",
    "            # Construct the csv reader object from the file object\n",
    "            reader = csv.reader(file)\n",
    "            # Skip the header row\n",
    "            next(reader)\n",
    "            for line in reader:\n",
    "                airbnb_dataset.append(line)\n",
    "            print(f\"\\nSucessfully loaded the {file_path} dataset. \")\n",
    "            return airbnb_dataset\n",
    "    except IOError:\n",
    "        print(f\"Couldn't read {file_path}.\")"
   ]
  },
  {
   "cell_type": "code",
   "execution_count": 3,
   "id": "5485519c",
   "metadata": {},
   "outputs": [],
   "source": [
    "# function to load the airbnb dataset into memory using the Pandas module\n",
    "def load_data_dataframe(file_path):\n",
    "    airbnb_dataset =  pd.read_csv(file_path)\n",
    "    return airbnb_dataset "
   ]
  },
  {
   "cell_type": "code",
   "execution_count": 8,
   "id": "b2bedf48",
   "metadata": {},
   "outputs": [],
   "source": [
    "def run():\n",
    "    # get name and welcome user \n",
    "    airbnb_tui.name_of_user()\n",
    "    # assign the filepath to the variable using the airbnb process module\n",
    "    file_path = airbnb_process.get_file_path()\n",
    "    \n",
    "    airbnb_data = load_data_csv(file_path)\n",
    "    df_airbnb = load_data_dataframe(file_path)\n",
    "    \n",
    "    while True:\n",
    "        users_selection1 = airbnb_tui.users_choice_of_program() \n",
    "        if users_selection1 == \"A\":\n",
    "            airbnb_tui.start(\"Performing tasks using the csv module\")\n",
    "            users_selection2 = airbnb_tui.menu1()\n",
    "            if users_selection2 == 1:\n",
    "                airbnb_tui.displays()\n",
    "                airbnb_process.get_by_host_id(airbnb_data)\n",
    "                airbnb_tui.end()\n",
    "            elif users_selection2 == 2:\n",
    "                airbnb_tui.displays()\n",
    "                airbnb_process.get_by_location(airbnb_data)\n",
    "                airbnb_tui.end()\n",
    "            elif users_selection2 == 3:\n",
    "                airbnb_tui.displays()\n",
    "                airbnb_process.get_by_property_type(airbnb_data)\n",
    "                airbnb_tui.end()\n",
    "            elif users_selection2 == 4:\n",
    "                airbnb_tui.displays()\n",
    "                airbnb_process.by_location_superhost(airbnb_data)\n",
    "                airbnb_tui.end()\n",
    "            elif users_selection2 == 0:\n",
    "                break\n",
    "        if users_selection1 == \"B\":\n",
    "            airbnb_tui.start(\"Querying or analysing Airbnb data using the Pandas module\")\n",
    "            users_selection3 = airbnb_tui.menu2()\n",
    "            if users_selection3 == 1:\n",
    "                airbnb_tui.displays_b()\n",
    "                airbnb_process.top_10_amenities(df_airbnb)\n",
    "                airbnb_tui.end()\n",
    "            elif users_selection3 == 2:\n",
    "                airbnb_tui.displays_b()\n",
    "                display(airbnb_process.average_price(df_airbnb))\n",
    "                airbnb_tui.end()\n",
    "            elif users_selection3 == 3:\n",
    "                airbnb_tui.displays_b()\n",
    "                display(airbnb_process.average_review_score(df_airbnb))\n",
    "                airbnb_tui.end()\n",
    "            elif users_selection3 == 4:\n",
    "                airbnb_tui.displays_b()\n",
    "                display(airbnb_process.best_rating_price(df_airbnb))\n",
    "                airbnb_tui.end()\n",
    "            elif users_selection3 == 0:\n",
    "                break\n",
    "        if users_selection1 == \"C\":\n",
    "            airbnb_tui.start(\"Visualizing the Airbnb dataset using the Matplotlib module\")\n",
    "            users_selection4 = airbnb_tui.menu3()\n",
    "            if users_selection4 == 1:\n",
    "                airbnb_tui.displays_c()\n",
    "#      "
   ]
  },
  {
   "cell_type": "code",
   "execution_count": null,
   "id": "96667513",
   "metadata": {},
   "outputs": [],
   "source": []
  },
  {
   "cell_type": "code",
   "execution_count": null,
   "id": "5afc644e",
   "metadata": {},
   "outputs": [
    {
     "name": "stdout",
     "output_type": "stream",
     "text": [
      "Please enter your name.\n",
      "nne\n",
      "\n",
      " Welcome Nne!\n",
      " You are ready to use Nwanneka's COM728 software.\n",
      "\n",
      "Enter the name of the dataset you want to load: \n",
      "Airbnb_UK_2022.csv\n",
      "\n",
      "Sucessfully loaded the Data/Airbnb_UK_2022.csv dataset. \n",
      "----------------------------------------------------------------------------------------------------------------------------\n",
      "\n",
      "Enter A to perform tasks using the csv module.\n",
      "\n",
      "Enter B query or analyse using the pandas module.\n",
      "\n",
      "Enter C to visualize the Airbnb dataset using the matplotlib module.\n",
      "\n",
      "Enter EXIT to quit\n",
      "----------------------------------------------------------------------------------------------------------------------------\n",
      "\n",
      "c\n",
      "----------------------------------------------------------------------------------------------------------------------------\n",
      "----------------------------------------------------------------------------------------------------------------------------\n",
      "program started: Visualizing the Airbnb dataset using the Matplotlib module\n",
      "\n",
      "----------------------------------------------------------------------------------------------------------------------------\n",
      "\n",
      "Enter 1 to display the proportion of number of bedrooms of Airbnb listing using pie chart.\n",
      "\n",
      "Enter 2 to display the number of listings for each room type using bar chart.\n",
      "\n",
      "Enter 3 to display the relationship between accommodates and price using scatter plot.\n",
      "\n",
      "Enter 4 to display Airbnb prices from 2019 - 2022 with line chart using subplots (one year per plot).\n",
      "\n",
      "Enter 5 to display a visualisation of your choice to present the information from the Airbnb services or properties that can indicate customer behaviour or pattern.\n",
      "\n",
      "Enter 0 to exit\n",
      "----------------------------------------------------------------------------------------------------------------------------\n",
      "\n",
      "1\n",
      "----------------------------------------------------------------------------------------------------------------------------\n",
      "\n",
      "Enter A to perform tasks using the csv module.\n",
      "\n",
      "Enter B query or analyse using the pandas module.\n",
      "\n",
      "Enter C to visualize the Airbnb dataset using the matplotlib module.\n",
      "\n",
      "Enter EXIT to quit\n",
      "----------------------------------------------------------------------------------------------------------------------------\n",
      "\n"
     ]
    }
   ],
   "source": [
    "if __name__ == \"__main__\":\n",
    "    run()"
   ]
  },
  {
   "cell_type": "code",
   "execution_count": null,
   "id": "cfea21e4",
   "metadata": {},
   "outputs": [],
   "source": []
  },
  {
   "cell_type": "code",
   "execution_count": 18,
   "id": "335a8808",
   "metadata": {},
   "outputs": [],
   "source": [
    "def menu4():  \n",
    "    print(\"\"\"\n",
    "    Do you want to have a sense of the proportion of the number of bedrooms before ploting?\\n\n",
    "    Enter \\033[1mYes\\033[0m to see the proportion of the number of bedrooms before ploting.\n",
    "    Enter \\033[1mNo\\033[0m to see the plot only.\\n\n",
    "    \"\"\")\n",
    "\n",
    "    # collect the user's input\n",
    "    user_input = input().capitalize().strip()\n",
    "    try:\n",
    "        # check for conditions\n",
    "        if user_input == \"Yes\":\n",
    "            print(\"\\033[1mRetrieveing information about the proportion of the number of bedrooms before ploting...\\033[0m\")\n",
    "            \n",
    "        elif user_input == \"No\":\n",
    "            print(\"\\033[1mShowing plot of the proportion of the number of bedrooms of listings...\\033[0m\")\n",
    "            \n",
    "        while user_input not in ['Yes', 'No']:\n",
    "            print(\"Enter 'Yes' or 'No'\")\n",
    "            break      \n",
    "    except ValueError:\n",
    "        print(\"The input was not a valid input.\")\n",
    "    print(user_input) "
   ]
  },
  {
   "cell_type": "code",
   "execution_count": 26,
   "id": "835c9670",
   "metadata": {},
   "outputs": [],
   "source": [
    "def menu5():\n",
    "    print(\"\"\"\n",
    "    Do you want to see a bar graph of the top 10 popular amenities?\\n\n",
    "    Enter Yes to see the horizontal bar graph of the top 10 popular amenities.\n",
    "    Enter No to see the listing only.\n",
    "    \"\"\")\n",
    "\n",
    "    # collect the user's input\n",
    "    user_input = input().capitalize().strip()\n",
    "    try: \n",
    "        # check for conditions\n",
    "        if user_input == \"Yes\":\n",
    "            print(\"\\033[1mRetrieveing the bar graph of the top 10 popular amenities...\\033[0m\")\n",
    "\n",
    "        elif user_input == \"No\":\n",
    "            print(\"\\033[1mShowing the top 10 popular amenities...\\033[0m\")\n",
    "\n",
    "        while user_input not in ['Yes', 'No']:\n",
    "            print(\"Enter 'Yes' or 'No'\")\n",
    "            break      \n",
    "    except ValueError:\n",
    "        print(\"The input was not a valid input.\")\n",
    "    return user_input"
   ]
  },
  {
   "cell_type": "code",
   "execution_count": 27,
   "id": "6f0fea1f",
   "metadata": {},
   "outputs": [
    {
     "name": "stdout",
     "output_type": "stream",
     "text": [
      "\n",
      "    Do you want to see a bar graph of the top 10 popular amenities?\n",
      "\n",
      "    Enter Yes to see the horizontal bar graph of the top 10 popular amenities.\n",
      "    Enter No to see the listing only.\n",
      "    \n",
      "yes\n",
      "\u001b[1mRetrieveing the bar graph of the top 10 popular amenities...\u001b[0m\n"
     ]
    },
    {
     "data": {
      "text/plain": [
       "'Yes'"
      ]
     },
     "execution_count": 27,
     "metadata": {},
     "output_type": "execute_result"
    }
   ],
   "source": [
    "menu5()"
   ]
  },
  {
   "cell_type": "code",
   "execution_count": 39,
   "id": "bea5a8d3",
   "metadata": {},
   "outputs": [],
   "source": [
    "\n",
    "def menu5():\n",
    "    while True:\n",
    "        print(\"\"\"\n",
    "        Do you want to see a bar graph of the top 10 popular amenities?\\n\n",
    "        Enter \\033[1mYes\\033[0m to see the horizontal bar graph of the top 10 popular amenities.\n",
    "        Enter \\033[1mNo\\033[0m to see the listing only.\n",
    "        \"\"\")\n",
    "\n",
    "        # collect the user's input\n",
    "        user_input = input().capitalize().strip()\n",
    "        try: \n",
    "            # check for conditions\n",
    "            if user_input == \"Yes\":\n",
    "                print(\"\\033[1mRetrieveing the bar graph of the top 10 popular amenities...\\033[0m\")\n",
    "\n",
    "            elif user_input == \"No\":\n",
    "                print(\"\\033[1mShowing the top 10 popular amenities...\\033[0m\")\n",
    "\n",
    "            while user_input not in ['Yes', 'No']:\n",
    "                print(\"Enter 'Yes' or 'No'\")\n",
    "                user_input = input().capitalize().strip()\n",
    "        except ValueError:\n",
    "            print(\"The input was not a valid input.\")\n",
    "        return user_input"
   ]
  },
  {
   "cell_type": "code",
   "execution_count": 40,
   "id": "5b4c8d38",
   "metadata": {},
   "outputs": [
    {
     "name": "stdout",
     "output_type": "stream",
     "text": [
      "\n",
      "        Do you want to see a bar graph of the top 10 popular amenities?\n",
      "\n",
      "        Enter \u001b[1mYes\u001b[0m to see the horizontal bar graph of the top 10 popular amenities.\n",
      "        Enter \u001b[1mNo\u001b[0m to see the listing only.\n",
      "        \n",
      "jhssg\n",
      "Enter 'Yes' or 'No'\n",
      "gvsghgj\n",
      "Enter 'Yes' or 'No'\n",
      "ghgsjh\n",
      "Enter 'Yes' or 'No'\n",
      "gugsghjh\n",
      "Enter 'Yes' or 'No'\n",
      "no\n"
     ]
    },
    {
     "data": {
      "text/plain": [
       "'No'"
      ]
     },
     "execution_count": 40,
     "metadata": {},
     "output_type": "execute_result"
    }
   ],
   "source": [
    "menu5()"
   ]
  },
  {
   "cell_type": "code",
   "execution_count": null,
   "id": "0a9209ad",
   "metadata": {},
   "outputs": [],
   "source": []
  }
 ],
 "metadata": {
  "kernelspec": {
   "display_name": "Python 3 (ipykernel)",
   "language": "python",
   "name": "python3"
  },
  "language_info": {
   "codemirror_mode": {
    "name": "ipython",
    "version": 3
   },
   "file_extension": ".py",
   "mimetype": "text/x-python",
   "name": "python",
   "nbconvert_exporter": "python",
   "pygments_lexer": "ipython3",
   "version": "3.9.12"
  }
 },
 "nbformat": 4,
 "nbformat_minor": 5
}
