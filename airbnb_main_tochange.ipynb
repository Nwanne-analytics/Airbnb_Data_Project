{
 "cells": [
  {
   "cell_type": "code",
   "execution_count": 1,
   "id": "e03bac43",
   "metadata": {},
   "outputs": [],
   "source": [
    "# import the modules\n",
    "import csv\n",
    "import airbnb_tui\n",
    "import airbnb_process\n",
    "# import airbnb_plot"
   ]
  },
  {
   "cell_type": "code",
   "execution_count": null,
   "id": "03cfd9ff",
   "metadata": {},
   "outputs": [],
   "source": [
    "#tui.start(\"loading the airbnb dataset\")\n",
    "\n",
    "# assign the file name to a variable\n",
    "file_path = \"Data/Airbnb_UK_2022.csv\" #airbnb_process.get_file_path()\n",
    "\n",
    "# function to load the airbnb dataset into memory\n",
    "def load_data(file_path): \n",
    "    # error handling\n",
    "    try:\n",
    "        airbnb_dataset = []\n",
    "        # opening the csv and closing the csv automatically\n",
    "        with open(file_path, encoding = \"utf-8\") as file:\n",
    "            # Construct the csv reader object from the file object\n",
    "            reader = csv.reader(file)\n",
    "            # Skip the header row\n",
    "            next(reader)\n",
    "            for line in reader:\n",
    "                airbnb_dataset.append(line)\n",
    "            return airbnb_dataset\n",
    "    except IOError:\n",
    "        print(f\"Couldn't read {file_path}.\")"
   ]
  },
  {
   "cell_type": "code",
   "execution_count": null,
   "id": "0f2a0d59",
   "metadata": {},
   "outputs": [],
   "source": [
    "airbnb_data = load_data(file_path)"
   ]
  },
  {
   "cell_type": "code",
   "execution_count": null,
   "id": "96d9e00d",
   "metadata": {},
   "outputs": [],
   "source": [
    "airbnb_data"
   ]
  },
  {
   "cell_type": "code",
   "execution_count": null,
   "id": "e9220a34",
   "metadata": {},
   "outputs": [],
   "source": []
  },
  {
   "cell_type": "markdown",
   "id": "c3b6ee18",
   "metadata": {},
   "source": [
    "#### Activity a(i): Loading the airbnb data file\n"
   ]
  },
  {
   "cell_type": "code",
   "execution_count": null,
   "id": "e05dd6a5",
   "metadata": {},
   "outputs": [],
   "source": [
    "\n",
    "def get_by_host_id():\n",
    "    # ask for user input\n",
    "    host_id = input(\"Enter the host id: \").strip()\n",
    "            \n",
    "    # Loop through each row in the CSV file\n",
    "    for row in airbnb_data:\n",
    "        # Check if the value in the 'host_id' column is equal to the user inputted host_id'\n",
    "        if host_id == row[0]:\n",
    "            # selected the appropriate columns based on the given host_id\n",
    "            name_of_listing = row[1]\n",
    "            host_name = row[3]\n",
    "            description = row[2]\n",
    "            host_location = row[5]\n",
    "            host_since = row[4]\n",
    "                    \n",
    "            # display the information to the user based on host id\n",
    "    print(f\"{sep}\\nThe details of Host {host_id} are:\\n\")\n",
    "    print(f\"{sep}\\nThe name of listing is: {name_of_listing}\\n\")\n",
    "    print(f\"{sep}\\nThe host name is : {host_name}\\n\")\n",
    "    print(f\"{sep}\\nThe date created by host: {host_since}\\n\")\n",
    "    print(f\"{sep}\\nThe host location is: {host_location}\\n\")\n",
    "    print(f\"{sep}\\nThe description is: {description}.\\n{sep}\")\n",
    "\n",
    "#     except IOError:\n",
    "#         print(f\"Couldn't read {file_path}.\")\n",
    "#         # error(data_file) .... to use the error function on the tui module\n",
    "        \n",
    "get_by_host_id()"
   ]
  },
  {
   "cell_type": "markdown",
   "id": "2c2000dc",
   "metadata": {},
   "source": [
    "#### Activity a(ii): Retrieving selected data by location\n",
    "\n",
    "Here I will be using DictReader of the CSV function to write more descriptive code."
   ]
  },
  {
   "cell_type": "code",
   "execution_count": null,
   "id": "758eb4d7",
   "metadata": {},
   "outputs": [],
   "source": [
    "file_path = \"Data/Airbnb_UK_2022.csv\" \n",
    "sep = \".\" * 124\n",
    "def by_location(): # can the function take the file path\n",
    "    #airbnb_process.get_file_path()\n",
    "\n",
    "    # error handling\n",
    "    try:\n",
    "        # opening the csv and closing the csv automatically\n",
    "        with open(file_path, encoding = \"utf-8\") as csv_file:\n",
    "            \n",
    "            #read the csv\n",
    "            data = csv.DictReader(csv_file)\n",
    "            \n",
    "            # get location from user\n",
    "            print(\"Enter a location\")\n",
    "            location = input().capitalize()\n",
    "            print(f\"You have selected {location} as your location.\")\n",
    "            print(f\"The host name, property type, price mainimum and maximum nights for listings in {location} are listed below\\n{sep}\\n\")\n",
    "            print(f\"| {'host_id':<10} | {'host_name':<20} | {'property_type':<10} | {'price':<10} | {'maximum_nights':<14} | {'minimum_nights':<10}|\")\n",
    "     \n",
    "            # Display the rows\n",
    "            for row in data:\n",
    "\n",
    "                \n",
    "                if row[\"host_location\"] == location:\n",
    "                    host_id = row[\"host_id\"]\n",
    "                    host_name = row[\"host_name\"]\n",
    "                    property_type = row[\"property_type\"]\n",
    "                    price = row[\"price\"]\n",
    "                    maximum_nights = row[\"maximum_nights\"]\n",
    "                    minimum_nights = row[\"minimum_nights\"]\n",
    "                                    \n",
    "                    print(sep)\n",
    "                    print(f\"| {host_id:<10} | {host_name:<20} | {property_type:<13} | {price:<10} | {maximum_nights:<14} | {minimum_nights:<14}|\")    \n",
    "    except IOError:\n",
    "        print(f\"Couldn't read {file_path}.\")\n",
    "        # error(data_file) .... to use the error function on the tui module\n",
    "        \n",
    "by_location()"
   ]
  },
  {
   "cell_type": "markdown",
   "id": "a6357944",
   "metadata": {},
   "source": [
    "### Activity a(iii)\n",
    "Retrieve room_type, accommodates, bathrooms, bedroom, and beds of all Airbnb listing for a specified property type"
   ]
  },
  {
   "cell_type": "code",
   "execution_count": null,
   "id": "35fbbef0",
   "metadata": {},
   "outputs": [],
   "source": [
    "def by_property_type(): # can the function take the file path\n",
    "    #airbnb_process.get_file_path()\n",
    "\n",
    "    # error handling\n",
    "    try:\n",
    "        # opening the csv and closing the csv automatically\n",
    "        with open(file_path, encoding = \"utf-8\") as csv_file:\n",
    "            \n",
    "            #read the csv\n",
    "            data = csv.DictReader(csv_file)\n",
    "            \n",
    "            # get property type from the user\n",
    "            print(\"Enter a property type.\")\n",
    "            property_type = input().lower().strip()\n",
    "            \n",
    "            print(f\"You have selected {property_type} as the type of property you want to retrieve.\\n\")\n",
    "            print(f\"The room type, property type, accomodates, bathrooms, bedroom and beds for listings of {property_type} are listed below\\n{sep}\\n\")\n",
    "            print(f\"| {'property_type':<11} | {'room_type':<13} | {'accomodates':<11} | {'bathrooms':<16} | {'bedroom':<10} | {'beds':<10}|\")\n",
    "     \n",
    "            # Display the rows\n",
    "            for row in data:\n",
    "                # select the appropriate columns based on the given host_id\n",
    "                if row[\"property_type\"] == property_type:\n",
    "                    property_type = row[\"property_type\"]\n",
    "                    room_type = row[\"room_type\"]\n",
    "                    accomodates = row[\"accommodates\"]\n",
    "                    bathrooms = row[\"bathrooms_text\"]\n",
    "                    bedrooms = row[\"bedrooms\"]\n",
    "                    beds = row[\"beds\"]\n",
    "                \n",
    "                    print(sep)\n",
    "                    print(f\"| {property_type:<14} | {room_type:<12} | {accomodates:<11} | {bathrooms:<16} | {bedrooms:<10} | {beds:<10} |\")    \n",
    "    except IOError:\n",
    "        print(f\"Couldn't read {file_path}.\")\n",
    "        # error(data_file) .... to use the error function on the tui module\n",
    "        \n",
    "by_property_type()"
   ]
  },
  {
   "cell_type": "code",
   "execution_count": null,
   "id": "1c3fb4a1",
   "metadata": {},
   "outputs": [],
   "source": []
  },
  {
   "cell_type": "code",
   "execution_count": null,
   "id": "982e98cb",
   "metadata": {},
   "outputs": [],
   "source": []
  },
  {
   "cell_type": "code",
   "execution_count": 5,
   "id": "13d36ecb",
   "metadata": {},
   "outputs": [
    {
     "name": "stdout",
     "output_type": "stream",
     "text": [
      "Enter a location\n",
      "london\n",
      "Enter 'True' to view hosts that are superhosts.\n",
      "Enter 'False' to view hosts that are not superhosts.\n",
      "Enter the review rating e.g 4.60\n",
      "5\n",
      "Location: London\n",
      "\n",
      "Review score rating: 5.0\n",
      "\n",
      "No selection matching your search.\n"
     ]
    }
   ],
   "source": [
    "def by_location_superhost(): # can the function take the file path\n",
    "    #airbnb_process.get_file_path()\n",
    "\n",
    "    # error handling\n",
    "    try:\n",
    "        # opening the csv and closing the csv automatically\n",
    "        with open(file_path, encoding = \"utf-8\") as csv_file:\n",
    "            \n",
    "            #read the csv\n",
    "            data = csv.DictReader(csv_file)\n",
    "            \n",
    "            \"\"\"\n",
    "            Is host a super host? If the user selects yes.... return some information\n",
    "            Allow the user to be able to play with the score rating he wants to see.\n",
    "            \"\"\"\n",
    "            \n",
    "            # get location from user\n",
    "            print(\"Enter a location\")\n",
    "            location = input().capitalize().strip()\n",
    "            \n",
    "            # get  from the user\n",
    "            print(\"Enter 'True' to view hosts that are superhosts.\")\n",
    "            print(\"Enter 'False' to view hosts that are not superhosts.\")\n",
    "            \n",
    "            # is_superhost = eval(input().upper().strip())\n",
    "            \n",
    "#             rate1 = row[\"review_score_rating\"]>=4.5 # 4.5 and above\n",
    "#             rate2 = row[\"review_score_rating\"]>=4 and row[\"review_score_rating\"]<4.5 # 4 - 4.49\n",
    "#             rate3 = row[\"review_score_rating\"]<4 and row[\"review_score_rating\"]>=3 # 3 -3.99\n",
    "#             rate4 = row[\"review_score_rating\"]<3 and row[\"review_score_rating\"]>=0 # 0-3\n",
    "            \n",
    "            print(\"Enter the review rating e.g 4.60\")\n",
    "            review_rating = float(input().strip())\n",
    "            \n",
    "            print(f\"Location: {location}\\n\")\n",
    "           # print(f\"Superhost: {is_superhost}\\n\")\n",
    "            print(f\"Review score rating: {review_rating}\\n\")\n",
    "            \n",
    "            #print(f\"| {'property_type':<11} | {'room_type':<13} | {'accomodates':<11} | {'bathrooms':<16} | {'bedroom':<10} | {'beds':<10}|\"\n",
    "\n",
    "            # Display the rows\n",
    "            for row in data:\n",
    "                host_id = row[\"host_id\"]\n",
    "                host_name = row[\"host_name\"]\n",
    "                review_scores_rating = row[\"review_scores_rating\"]\n",
    "                review_scores_location = row[\"review_scores_location\"]\n",
    "                review_scores_value = row[\"review_scores_value\"]\n",
    "                instant_bookable = row[\"instant_bookable\"]\n",
    "                # select the appropriate columns based on the user inputs\n",
    "                if row[\"host_location\"] == location and row[\"review_scores_rating\"] == review_rating:\n",
    "                    print(sep)\n",
    "                    print(f\"| {host_id:<14} | {host_name:<12} | {review_scores_rating:<11} | {review_scores_location:<16} | {review_scores_value:<10} | {instant_bookable:<10} |\")\n",
    "            else:\n",
    "                print(\"No selection matching your search.\")\n",
    "    except IOError:\n",
    "        print(f\"Couldn't read {file_path}.\")\n",
    "        # error(data_file) .... to use the error function on the tui module\n",
    "        \n",
    "by_location_superhost()"
   ]
  },
  {
   "cell_type": "code",
   "execution_count": null,
   "id": "46ea313c",
   "metadata": {},
   "outputs": [],
   "source": [
    "is_superhost = eval(input().capitalize().strip())\n",
    "print(is_superhost)\n",
    "type(is_superhost)\n"
   ]
  },
  {
   "cell_type": "code",
   "execution_count": null,
   "id": "c450930e",
   "metadata": {},
   "outputs": [],
   "source": []
  },
  {
   "cell_type": "markdown",
   "id": "f78b0ae6",
   "metadata": {},
   "source": [
    " #### Get by host name and location"
   ]
  },
  {
   "cell_type": "code",
   "execution_count": 4,
   "id": "12c1cb1d",
   "metadata": {},
   "outputs": [
    {
     "name": "stdout",
     "output_type": "stream",
     "text": [
      "Enter the host id: 554519\n",
      "Enter a location: London\n",
      "The Host Id number 554519 details are :\n",
      "\n",
      "The name of listing is : JESSIE the narrowboat in Little Venice\n",
      "The description is: jessie the narrowboat is moored in the heart of little venice on the north bank of the pool of little venice and just opposite brownings island  its a stones throw from paddington station  convenient  pretty and very relaxing the spacestay on this lovely individual  comfortable boat in the heart of london and experience the capital from a different point of view jessie is a   foot canal boat  or narrowboat  completed in   she is   foot   inches wide  she can sleep   people in comfort  for   she is very comfortable  the boat has a warm inviting interior and space on deck to sit and watch the world go by  the appropriately named little venice  a name coined by the poet robert browning  is a very pretty corner of london  famous as home to hundreds of beautiful canal boats and convenient base from which to explore the capital  two underground stations and good bus routes to all parts of the city are a short walk away  there is something very spe\n",
      "The host name is : Meg\n",
      "The date created by host: 03-05-11\n",
      "The host location is:  London\n"
     ]
    }
   ],
   "source": [
    "file_path = \"Data/Airbnb_UK_2022.csv\"\n",
    "with open(file_path, encoding = \"utf-8\") as file:\n",
    "    # Construct the csv reader object from the file object\n",
    "    reader = csv.reader(file)\n",
    "    # Skip the header row\n",
    "    next(reader)\n",
    "    # Create an empty list to store the rows that match the criteria\n",
    "   \n",
    "    h_id = input(\"Enter the host id: \")\n",
    "    location = input(\"Enter a location: \")\n",
    "     \n",
    "    \n",
    "    # Loop through each row in the CSV file\n",
    "    for row in reader:\n",
    "        value1 = row[1]\n",
    "        value2 = row[2]\n",
    "        value3 = row[3]\n",
    "        value4 = row[4]\n",
    "        value5 = row[5]\n",
    "\n",
    "        # Check if the value in the 'host_id' column is 'h_id'\n",
    "       # if row[0] == h_id:\n",
    "        if h_id == row[0] and location == row[5]:\n",
    "            print(\"The Host Id number {} details are :\\n\".format(h_id))\n",
    "            print(\"The name of listing is :\", value1)\n",
    "            print(\"The description is:\",value2)\n",
    "            print(\"The host name is :\", value3)\n",
    "            print(\"The date created by host:\", value4)\n",
    "            print(\"The host location is: \", value5)"
   ]
  },
  {
   "cell_type": "code",
   "execution_count": null,
   "id": "50be49e7",
   "metadata": {},
   "outputs": [],
   "source": []
  },
  {
   "cell_type": "code",
   "execution_count": null,
   "id": "e7987de8",
   "metadata": {},
   "outputs": [],
   "source": []
  },
  {
   "cell_type": "code",
   "execution_count": null,
   "id": "7bad5d2e",
   "metadata": {},
   "outputs": [],
   "source": []
  },
  {
   "cell_type": "code",
   "execution_count": null,
   "id": "a6b5042b",
   "metadata": {},
   "outputs": [],
   "source": [
    "def run():\n",
    "    airbnb_tui.name_of_user()\n",
    "    airbnb_tui.users_choice_of_program()\n",
    "    file_path = airbnb_process.get_file_path()\n",
    "    \n",
    "    while True:\n",
    "        users_selection = airbnb_tui.users_choice_of_program() \n",
    "        if users_selection == \"A\":\n",
    "            menu1 = \n",
    "        "
   ]
  },
  {
   "cell_type": "code",
   "execution_count": null,
   "id": "7897dc86",
   "metadata": {},
   "outputs": [],
   "source": [
    "if __name__ == \"__main__\":\n",
    "    run()"
   ]
  },
  {
   "cell_type": "code",
   "execution_count": null,
   "id": "973d6dfc",
   "metadata": {},
   "outputs": [],
   "source": [
    "\n",
    "# # function to get file path from the user\n",
    "# def get_file_path():\n",
    "#     path = \"Data/\"\n",
    "#     print(\"Enter the name of the dataset you want to load (with no file extension): \")\n",
    "#     file_path = input()\n",
    "#     # keep asking the user to input the correct file path until it is correct\n",
    "#     while file_path != \"Airbnb_UK_2022.csv\":\n",
    "#         airbnb_tui.error(\"File path not found.\")\n",
    "#         file_path = input()\n",
    "#     airbnb_file_path = os.path.join(path,file_path)\n",
    "#     return (airbnb_file_path)\n",
    "# get_file_path()"
   ]
  },
  {
   "cell_type": "code",
   "execution_count": null,
   "id": "9e00f575",
   "metadata": {},
   "outputs": [],
   "source": [
    "file_path = airbnb_process.get_file_path()\n",
    "\n",
    "# function to load the airbnb dataset into memory\n",
    "def load_data(file_path): \n",
    "    \n",
    "    # error handling\n",
    "    try:\n",
    "        airbnb_dataset = []\n",
    "        # opening the csv and closing the csv automatically\n",
    "        with open(file_path, encoding = \"utf-8\") as file:\n",
    "            # Construct the csv reader object from the file object\n",
    "            reader = csv.reader(file)\n",
    "            # Skip the header row\n",
    "            next(reader)\n",
    "            for line in reader:\n",
    "                airbnb_dataset.append(line)\n",
    "            return airbnb_dataset\n",
    "    except IOError:\n",
    "        print(f\"Couldn't read {file_path}.\")\n",
    "        \n",
    "airbnb_data = load_data(file_path)"
   ]
  },
  {
   "cell_type": "code",
   "execution_count": null,
   "id": "2f914eb4",
   "metadata": {},
   "outputs": [],
   "source": [
    "airbnb_data"
   ]
  },
  {
   "cell_type": "code",
   "execution_count": null,
   "id": "7c5a8c99",
   "metadata": {},
   "outputs": [],
   "source": []
  }
 ],
 "metadata": {
  "kernelspec": {
   "display_name": "Python 3 (ipykernel)",
   "language": "python",
   "name": "python3"
  },
  "language_info": {
   "codemirror_mode": {
    "name": "ipython",
    "version": 3
   },
   "file_extension": ".py",
   "mimetype": "text/x-python",
   "name": "python",
   "nbconvert_exporter": "python",
   "pygments_lexer": "ipython3",
   "version": "3.9.12"
  }
 },
 "nbformat": 4,
 "nbformat_minor": 5
}
