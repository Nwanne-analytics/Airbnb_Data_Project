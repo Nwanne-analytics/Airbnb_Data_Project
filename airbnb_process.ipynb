{
 "cells": [
  {
   "cell_type": "code",
   "execution_count": 4,
   "id": "a302e4a0",
   "metadata": {},
   "outputs": [
    {
     "name": "stdout",
     "output_type": "stream",
     "text": [
      "Please enter the file path of the dataset you want to load: \n",
      "airbnb.csv\n"
     ]
    },
    {
     "data": {
      "text/plain": [
       "'airbnb.csv'"
      ]
     },
     "execution_count": 4,
     "metadata": {},
     "output_type": "execute_result"
    }
   ],
   "source": [
    "# import os\n",
    "# import airbnb_tui\n",
    "\n",
    "# function to get file path from the user\n",
    "def get_file_path():\n",
    "    print(\"Please enter the file path of the dataset you want to load: \")\n",
    "    data_file = input()\n",
    "    return data_file # check if you can return string\n",
    "\n",
    "get_file_path()"
   ]
  },
  {
   "cell_type": "code",
   "execution_count": null,
   "id": "35aa1483",
   "metadata": {},
   "outputs": [],
   "source": [
    "# can I use wild card to look for name of host\n",
    "# remember to srtip the spaces from the user's input and put them in the aprropriate cases(lower case)"
   ]
  }
 ],
 "metadata": {
  "kernelspec": {
   "display_name": "Python 3 (ipykernel)",
   "language": "python",
   "name": "python3"
  },
  "language_info": {
   "codemirror_mode": {
    "name": "ipython",
    "version": 3
   },
   "file_extension": ".py",
   "mimetype": "text/x-python",
   "name": "python",
   "nbconvert_exporter": "python",
   "pygments_lexer": "ipython3",
   "version": "3.9.12"
  }
 },
 "nbformat": 4,
 "nbformat_minor": 5
}
