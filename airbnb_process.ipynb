{
 "cells": [
  {
   "cell_type": "code",
   "execution_count": 6,
   "id": "9a053298",
   "metadata": {},
   "outputs": [],
   "source": [
    "# function to get file path from the user\n",
    "def get_file_path():\n",
    "    print(\"Please enter the file path of the dataset you want to load: \")\n",
    "    data_file_path = input()\n",
    "    return data_file_path # check if you can return string "
   ]
  },
  {
   "cell_type": "code",
   "execution_count": null,
   "id": "95db8ace",
   "metadata": {},
   "outputs": [],
   "source": []
  }
 ],
 "metadata": {
  "kernelspec": {
   "display_name": "Python 3 (ipykernel)",
   "language": "python",
   "name": "python3"
  },
  "language_info": {
   "codemirror_mode": {
    "name": "ipython",
    "version": 3
   },
   "file_extension": ".py",
   "mimetype": "text/x-python",
   "name": "python",
   "nbconvert_exporter": "python",
   "pygments_lexer": "ipython3",
   "version": "3.9.12"
  }
 },
 "nbformat": 4,
 "nbformat_minor": 5
}
