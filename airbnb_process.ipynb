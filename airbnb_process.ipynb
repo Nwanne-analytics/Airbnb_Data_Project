{
 "cells": [
  {
   "cell_type": "code",
   "execution_count": 2,
   "id": "262742bc",
   "metadata": {},
   "outputs": [],
   "source": [
    "# import os module\n",
    "import os"
   ]
  },
  {
   "cell_type": "code",
   "execution_count": 13,
   "id": "9a053298",
   "metadata": {},
   "outputs": [],
   "source": [
    "# function to get file path from the user\n",
    "def get_file_path():\n",
    "    \n",
    "    path = \"\\Data\"\n",
    "    extension = \".csv\"\n",
    "    print(\"Enter the name of the dataset you want to load (with no file extension): \")\n",
    "    file_path = input()\n",
    "    airbnb_file_path = os.path.join(path,file_path,extension)\n",
    "    \n",
    "    return airbnb_file_path # check if you can return string: doesn't matter the filepath is usually a string"
   ]
  },
  {
   "cell_type": "code",
   "execution_count": null,
   "id": "f837fa91",
   "metadata": {},
   "outputs": [],
   "source": []
  }
 ],
 "metadata": {
  "kernelspec": {
   "display_name": "Python 3 (ipykernel)",
   "language": "python",
   "name": "python3"
  },
  "language_info": {
   "codemirror_mode": {
    "name": "ipython",
    "version": 3
   },
   "file_extension": ".py",
   "mimetype": "text/x-python",
   "name": "python",
   "nbconvert_exporter": "python",
   "pygments_lexer": "ipython3",
   "version": "3.9.12"
  }
 },
 "nbformat": 4,
 "nbformat_minor": 5
}
