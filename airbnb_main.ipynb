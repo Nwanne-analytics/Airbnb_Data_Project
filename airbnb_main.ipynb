{
 "cells": [
  {
   "cell_type": "code",
   "execution_count": null,
   "id": "e03bac43",
   "metadata": {},
   "outputs": [],
   "source": [
    "# import the modules\n",
    "import csv\n",
    "# import airbnb_tui\n",
    "# import airbnb_process"
   ]
  },
  {
   "cell_type": "code",
   "execution_count": null,
   "id": "e05dd6a5",
   "metadata": {},
   "outputs": [],
   "source": [
    "# assign the file name to a variable\n",
    "\n",
    "def load_csv():\n",
    "    airbnb_process.get_file_path()\n",
    "\n",
    "    # error handling\n",
    "    try:\n",
    "        # opening the csv and closing the csv automatically\n",
    "        with open(data_file) as csv_file:\n",
    "            #read the csv\n",
    "            csv_reader = csv.reader(csv_file)\n",
    "\n",
    "            # reading the heading\n",
    "            data_file_heading = next(csv_file) \n",
    "\n",
    "            #split and display the heading\n",
    "            splitted_heading = data_file_heading.split(\",\")\n",
    "            print(splitted_heading\"\\n\")\n",
    "            \n",
    "            # Display the rows\n",
    "            for row in csv_reader:\n",
    "                print(row)\n",
    "\n",
    "    except IOError:\n",
    "        print(f\"Couldn't read {data_file}.\")\n",
    "        # error(data_file) .... to use the error function on the tui module"
   ]
  },
  {
   "cell_type": "code",
   "execution_count": null,
   "id": "62e2a787",
   "metadata": {},
   "outputs": [],
   "source": [
    "# retrieve by host id\n",
    "# get and group other information on the host id and then call the host id\n",
    "# tell the user the minimum and the maximum host id, that is the range\n",
    "import pandas as pd\n",
    "\n",
    "df = pd\n",
    "print(\"Which host do you want to see: \")\n",
    "host_ID = input()\n",
    "\n",
    "\n",
    "\n"
   ]
  },
  {
   "cell_type": "code",
   "execution_count": null,
   "id": "c1c49e79",
   "metadata": {},
   "outputs": [],
   "source": []
  }
 ],
 "metadata": {
  "kernelspec": {
   "display_name": "Python 3 (ipykernel)",
   "language": "python",
   "name": "python3"
  },
  "language_info": {
   "codemirror_mode": {
    "name": "ipython",
    "version": 3
   },
   "file_extension": ".py",
   "mimetype": "text/x-python",
   "name": "python",
   "nbconvert_exporter": "python",
   "pygments_lexer": "ipython3",
   "version": "3.9.12"
  }
 },
 "nbformat": 4,
 "nbformat_minor": 5
}
